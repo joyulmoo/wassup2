{
 "cells": [
  {
   "cell_type": "markdown",
   "id": "35ce4d18",
   "metadata": {},
   "source": [
    "# 내장 함수"
   ]
  },
  {
   "cell_type": "code",
   "execution_count": 2,
   "id": "e6b8f5cf",
   "metadata": {},
   "outputs": [],
   "source": [
    "# abs"
   ]
  },
  {
   "cell_type": "code",
   "execution_count": 1,
   "id": "12ee38c0",
   "metadata": {},
   "outputs": [
    {
     "data": {
      "text/plain": [
       "3"
      ]
     },
     "execution_count": 1,
     "metadata": {},
     "output_type": "execute_result"
    }
   ],
   "source": [
    "abs(-3)"
   ]
  },
  {
   "cell_type": "code",
   "execution_count": 3,
   "id": "dd6e9c3d",
   "metadata": {},
   "outputs": [
    {
     "data": {
      "text/plain": [
       "True"
      ]
     },
     "execution_count": 3,
     "metadata": {},
     "output_type": "execute_result"
    }
   ],
   "source": [
    "#all \n",
    "all([1,2,3])"
   ]
  },
  {
   "cell_type": "code",
   "execution_count": 4,
   "id": "f457a287",
   "metadata": {},
   "outputs": [
    {
     "data": {
      "text/plain": [
       "False"
      ]
     },
     "execution_count": 4,
     "metadata": {},
     "output_type": "execute_result"
    }
   ],
   "source": [
    "all([1,2,3,0])"
   ]
  },
  {
   "cell_type": "code",
   "execution_count": 5,
   "id": "65c9ad71",
   "metadata": {},
   "outputs": [
    {
     "data": {
      "text/plain": [
       "True"
      ]
     },
     "execution_count": 5,
     "metadata": {},
     "output_type": "execute_result"
    }
   ],
   "source": [
    "all([]) #요소가 하나밖에 없고 모두 false니까 트루"
   ]
  },
  {
   "cell_type": "code",
   "execution_count": 6,
   "id": "2d8e726d",
   "metadata": {},
   "outputs": [
    {
     "data": {
      "text/plain": [
       "True"
      ]
     },
     "execution_count": 6,
     "metadata": {},
     "output_type": "execute_result"
    }
   ],
   "source": [
    "#any (all의 반대)\n",
    "any([1,2,3,0])"
   ]
  },
  {
   "cell_type": "code",
   "execution_count": 8,
   "id": "29ac68b3",
   "metadata": {},
   "outputs": [
    {
     "data": {
      "text/plain": [
       "False"
      ]
     },
     "execution_count": 8,
     "metadata": {},
     "output_type": "execute_result"
    }
   ],
   "source": [
    "any([0,''])"
   ]
  },
  {
   "cell_type": "code",
   "execution_count": 9,
   "id": "52ccaafa",
   "metadata": {},
   "outputs": [
    {
     "data": {
      "text/plain": [
       "False"
      ]
     },
     "execution_count": 9,
     "metadata": {},
     "output_type": "execute_result"
    }
   ],
   "source": [
    "any([])"
   ]
  },
  {
   "cell_type": "code",
   "execution_count": 10,
   "id": "6c6d2f71",
   "metadata": {},
   "outputs": [
    {
     "data": {
      "text/plain": [
       "'a'"
      ]
     },
     "execution_count": 10,
     "metadata": {},
     "output_type": "execute_result"
    }
   ],
   "source": [
    "#chr\n",
    "chr(97)"
   ]
  },
  {
   "cell_type": "code",
   "execution_count": 11,
   "id": "4eacc85c",
   "metadata": {},
   "outputs": [
    {
     "data": {
      "text/plain": [
       "'가'"
      ]
     },
     "execution_count": 11,
     "metadata": {},
     "output_type": "execute_result"
    }
   ],
   "source": [
    "chr(44032)"
   ]
  },
  {
   "cell_type": "code",
   "execution_count": 12,
   "id": "c0edad67",
   "metadata": {},
   "outputs": [
    {
     "data": {
      "text/plain": [
       "['__add__',\n",
       " '__class__',\n",
       " '__class_getitem__',\n",
       " '__contains__',\n",
       " '__delattr__',\n",
       " '__delitem__',\n",
       " '__dir__',\n",
       " '__doc__',\n",
       " '__eq__',\n",
       " '__format__',\n",
       " '__ge__',\n",
       " '__getattribute__',\n",
       " '__getitem__',\n",
       " '__getstate__',\n",
       " '__gt__',\n",
       " '__hash__',\n",
       " '__iadd__',\n",
       " '__imul__',\n",
       " '__init__',\n",
       " '__init_subclass__',\n",
       " '__iter__',\n",
       " '__le__',\n",
       " '__len__',\n",
       " '__lt__',\n",
       " '__mul__',\n",
       " '__ne__',\n",
       " '__new__',\n",
       " '__reduce__',\n",
       " '__reduce_ex__',\n",
       " '__repr__',\n",
       " '__reversed__',\n",
       " '__rmul__',\n",
       " '__setattr__',\n",
       " '__setitem__',\n",
       " '__sizeof__',\n",
       " '__str__',\n",
       " '__subclasshook__',\n",
       " 'append',\n",
       " 'clear',\n",
       " 'copy',\n",
       " 'count',\n",
       " 'extend',\n",
       " 'index',\n",
       " 'insert',\n",
       " 'pop',\n",
       " 'remove',\n",
       " 'reverse',\n",
       " 'sort']"
      ]
     },
     "execution_count": 12,
     "metadata": {},
     "output_type": "execute_result"
    }
   ],
   "source": [
    "#dir\n",
    "dir([1,2,3])"
   ]
  },
  {
   "cell_type": "code",
   "execution_count": 13,
   "id": "864ecd77",
   "metadata": {},
   "outputs": [],
   "source": [
    "## __를 앞 뒤로 나 있는 것은 매직 메서드"
   ]
  },
  {
   "cell_type": "code",
   "execution_count": 14,
   "id": "5916b96f",
   "metadata": {},
   "outputs": [
    {
     "data": {
      "text/plain": [
       "['__class__',\n",
       " '__class_getitem__',\n",
       " '__contains__',\n",
       " '__delattr__',\n",
       " '__delitem__',\n",
       " '__dir__',\n",
       " '__doc__',\n",
       " '__eq__',\n",
       " '__format__',\n",
       " '__ge__',\n",
       " '__getattribute__',\n",
       " '__getitem__',\n",
       " '__getstate__',\n",
       " '__gt__',\n",
       " '__hash__',\n",
       " '__init__',\n",
       " '__init_subclass__',\n",
       " '__ior__',\n",
       " '__iter__',\n",
       " '__le__',\n",
       " '__len__',\n",
       " '__lt__',\n",
       " '__ne__',\n",
       " '__new__',\n",
       " '__or__',\n",
       " '__reduce__',\n",
       " '__reduce_ex__',\n",
       " '__repr__',\n",
       " '__reversed__',\n",
       " '__ror__',\n",
       " '__setattr__',\n",
       " '__setitem__',\n",
       " '__sizeof__',\n",
       " '__str__',\n",
       " '__subclasshook__',\n",
       " 'clear',\n",
       " 'copy',\n",
       " 'fromkeys',\n",
       " 'get',\n",
       " 'items',\n",
       " 'keys',\n",
       " 'pop',\n",
       " 'popitem',\n",
       " 'setdefault',\n",
       " 'update',\n",
       " 'values']"
      ]
     },
     "execution_count": 14,
     "metadata": {},
     "output_type": "execute_result"
    }
   ],
   "source": [
    "dir({'1':'a'})"
   ]
  },
  {
   "cell_type": "code",
   "execution_count": 15,
   "id": "0f1d0f9b",
   "metadata": {},
   "outputs": [
    {
     "data": {
      "text/plain": [
       "(2, 1)"
      ]
     },
     "execution_count": 15,
     "metadata": {},
     "output_type": "execute_result"
    }
   ],
   "source": [
    "#divmod\n",
    "divmod(7,3)"
   ]
  },
  {
   "cell_type": "code",
   "execution_count": 16,
   "id": "cbe20a41",
   "metadata": {},
   "outputs": [
    {
     "name": "stdout",
     "output_type": "stream",
     "text": [
      "0 body\n",
      "1 foo\n",
      "2 bar\n"
     ]
    }
   ],
   "source": [
    "#enumerate(많이 사용하고 중요, 표만들 때 좋음. 데이터를 매핑시킬 때 좋음)\n",
    "for i , name in enumerate(['body','foo','bar']):\n",
    "    print(i, name)"
   ]
  },
  {
   "cell_type": "code",
   "execution_count": 17,
   "id": "03d6fc41",
   "metadata": {},
   "outputs": [
    {
     "data": {
      "text/plain": [
       "12"
      ]
     },
     "execution_count": 17,
     "metadata": {},
     "output_type": "execute_result"
    }
   ],
   "source": [
    "#eval\n",
    "eval('1'+'2')"
   ]
  },
  {
   "cell_type": "code",
   "execution_count": 18,
   "id": "51f29b3d",
   "metadata": {},
   "outputs": [
    {
     "data": {
      "text/plain": [
       "(1, 1)"
      ]
     },
     "execution_count": 18,
     "metadata": {},
     "output_type": "execute_result"
    }
   ],
   "source": [
    "eval('divmod(4, 3)')"
   ]
  },
  {
   "cell_type": "code",
   "execution_count": 21,
   "id": "53a0f5c4",
   "metadata": {},
   "outputs": [
    {
     "name": "stdout",
     "output_type": "stream",
     "text": [
      "[1, 2, 6]\n"
     ]
    }
   ],
   "source": [
    "#filter(중요)\n",
    "def positive(l):\n",
    "    result = []\n",
    "    for i in l:\n",
    "        if i > 0:\n",
    "            result.append(i) \n",
    "    return result\n",
    "    \n",
    "print(positive([1,-3,2,0,-5,6]))"
   ]
  },
  {
   "cell_type": "code",
   "execution_count": 22,
   "id": "ae4e2cd5",
   "metadata": {},
   "outputs": [
    {
     "name": "stdout",
     "output_type": "stream",
     "text": [
      "[1, 2, 6]\n"
     ]
    }
   ],
   "source": [
    "def positive(x):\n",
    "    return x > 0\n",
    "\n",
    "print(list(filter(positive, [1, -3, 2, 0, -5, 6])))\n",
    "#여기서 positive는 bool 함수 참 거짓 구분"
   ]
  },
  {
   "cell_type": "code",
   "execution_count": 23,
   "id": "93701ba9",
   "metadata": {},
   "outputs": [
    {
     "data": {
      "text/plain": [
       "<filter at 0x29247f72830>"
      ]
     },
     "execution_count": 23,
     "metadata": {},
     "output_type": "execute_result"
    }
   ],
   "source": [
    "filter(positive, [1, -3, 2, 0, -5, 6])"
   ]
  },
  {
   "cell_type": "code",
   "execution_count": 24,
   "id": "61c3ba3d",
   "metadata": {},
   "outputs": [],
   "source": [
    "#객체로 반환하기 때문에 뽑아오기 위해서 리스트로 바꿔준 것"
   ]
  },
  {
   "cell_type": "code",
   "execution_count": 25,
   "id": "1f25b35b",
   "metadata": {},
   "outputs": [
    {
     "data": {
      "text/plain": [
       "[1, 2, 6]"
      ]
     },
     "execution_count": 25,
     "metadata": {},
     "output_type": "execute_result"
    }
   ],
   "source": [
    "list(filter(lambda x: x> 0,[1, -3, 2, 0, -5, 6] )) #일회성이라면 람다 사용할 수 있음"
   ]
  },
  {
   "cell_type": "code",
   "execution_count": 26,
   "id": "cd621af4",
   "metadata": {},
   "outputs": [
    {
     "data": {
      "text/plain": [
       "3"
      ]
     },
     "execution_count": 26,
     "metadata": {},
     "output_type": "execute_result"
    }
   ],
   "source": [
    "#int 형변환 함수\n",
    "int('3')"
   ]
  },
  {
   "cell_type": "code",
   "execution_count": 27,
   "id": "5ff8bbfd",
   "metadata": {},
   "outputs": [
    {
     "data": {
      "text/plain": [
       "3"
      ]
     },
     "execution_count": 27,
     "metadata": {},
     "output_type": "execute_result"
    }
   ],
   "source": [
    "int(3.14)"
   ]
  },
  {
   "cell_type": "code",
   "execution_count": 28,
   "id": "e3eb31e9",
   "metadata": {},
   "outputs": [
    {
     "data": {
      "text/plain": [
       "True"
      ]
     },
     "execution_count": 28,
     "metadata": {},
     "output_type": "execute_result"
    }
   ],
   "source": [
    "#isinstance(알아두면 나쁘지 않음)\n",
    "class Person: pass\n",
    "a = Person()\n",
    "isinstance(a, Person)"
   ]
  },
  {
   "cell_type": "code",
   "execution_count": 30,
   "id": "d8b5b98a",
   "metadata": {},
   "outputs": [
    {
     "data": {
      "text/plain": [
       "False"
      ]
     },
     "execution_count": 30,
     "metadata": {},
     "output_type": "execute_result"
    }
   ],
   "source": [
    "b = 3\n",
    "isinstance(b, Person)"
   ]
  },
  {
   "cell_type": "code",
   "execution_count": 31,
   "id": "ffb369df",
   "metadata": {},
   "outputs": [
    {
     "name": "stdout",
     "output_type": "stream",
     "text": [
      "[2, 4, 6, 8]\n"
     ]
    }
   ],
   "source": [
    "#map(중요)\n",
    "#filter와 사용법 비슷\n",
    "def two_times(numberList):\n",
    "    result = []\n",
    "    for number in numberList:\n",
    "        result.append(number*2)\n",
    "    return result\n",
    "\n",
    "result = two_times([1, 2, 3, 4])\n",
    "print(result)"
   ]
  },
  {
   "cell_type": "code",
   "execution_count": 32,
   "id": "9b70ecc8",
   "metadata": {},
   "outputs": [],
   "source": [
    "#매핑해서 계산해줄 때 사용\n",
    "#파생변수를 만들 때 사용"
   ]
  },
  {
   "cell_type": "code",
   "execution_count": 33,
   "id": "3e622ad6",
   "metadata": {},
   "outputs": [
    {
     "data": {
      "text/plain": [
       "[2, 4, 6, 8]"
      ]
     },
     "execution_count": 33,
     "metadata": {},
     "output_type": "execute_result"
    }
   ],
   "source": [
    "def two_times(x): \n",
    "     return x*2\n",
    "\n",
    "list(map(two_times, [1, 2, 3, 4]))"
   ]
  },
  {
   "cell_type": "code",
   "execution_count": 34,
   "id": "18bb83ad",
   "metadata": {},
   "outputs": [
    {
     "data": {
      "text/plain": [
       "[2, 4, 6, 8]"
      ]
     },
     "execution_count": 34,
     "metadata": {},
     "output_type": "execute_result"
    }
   ],
   "source": [
    "list(map(lambda a: a*2, [1, 2, 3, 4]))"
   ]
  },
  {
   "cell_type": "code",
   "execution_count": 35,
   "id": "d5780c53",
   "metadata": {},
   "outputs": [
    {
     "data": {
      "text/plain": [
       "3"
      ]
     },
     "execution_count": 35,
     "metadata": {},
     "output_type": "execute_result"
    }
   ],
   "source": [
    "#max\n",
    "max([1,2,3])"
   ]
  },
  {
   "cell_type": "code",
   "execution_count": 36,
   "id": "77acfc86",
   "metadata": {},
   "outputs": [
    {
     "data": {
      "text/plain": [
       "'y'"
      ]
     },
     "execution_count": 36,
     "metadata": {},
     "output_type": "execute_result"
    }
   ],
   "source": [
    "max(\"python\")"
   ]
  },
  {
   "cell_type": "code",
   "execution_count": 37,
   "id": "be2680c0",
   "metadata": {},
   "outputs": [
    {
     "data": {
      "text/plain": [
       "1"
      ]
     },
     "execution_count": 37,
     "metadata": {},
     "output_type": "execute_result"
    }
   ],
   "source": [
    "#min\n",
    "min([1, 2, 3])"
   ]
  },
  {
   "cell_type": "code",
   "execution_count": 38,
   "id": "d7bf05f3",
   "metadata": {},
   "outputs": [
    {
     "data": {
      "text/plain": [
       "'h'"
      ]
     },
     "execution_count": 38,
     "metadata": {},
     "output_type": "execute_result"
    }
   ],
   "source": [
    "min(\"python\")"
   ]
  },
  {
   "cell_type": "code",
   "execution_count": 39,
   "id": "bd0d3d9f",
   "metadata": {},
   "outputs": [
    {
     "data": {
      "text/plain": [
       "16"
      ]
     },
     "execution_count": 39,
     "metadata": {},
     "output_type": "execute_result"
    }
   ],
   "source": [
    "#pow\n",
    "pow(2, 4)"
   ]
  },
  {
   "cell_type": "code",
   "execution_count": 40,
   "id": "d5804cba",
   "metadata": {},
   "outputs": [
    {
     "data": {
      "text/plain": [
       "27"
      ]
     },
     "execution_count": 40,
     "metadata": {},
     "output_type": "execute_result"
    }
   ],
   "source": [
    "pow(3,3)"
   ]
  },
  {
   "cell_type": "code",
   "execution_count": 41,
   "id": "918159dd",
   "metadata": {},
   "outputs": [
    {
     "data": {
      "text/plain": [
       "[0, 1, 2, 3, 4]"
      ]
     },
     "execution_count": 41,
     "metadata": {},
     "output_type": "execute_result"
    }
   ],
   "source": [
    "#range\n",
    "list(range(5))"
   ]
  },
  {
   "cell_type": "code",
   "execution_count": 42,
   "id": "07e99b4e",
   "metadata": {},
   "outputs": [
    {
     "data": {
      "text/plain": [
       "[5, 6, 7, 8, 9]"
      ]
     },
     "execution_count": 42,
     "metadata": {},
     "output_type": "execute_result"
    }
   ],
   "source": [
    "list(range(5,10))"
   ]
  },
  {
   "cell_type": "code",
   "execution_count": 43,
   "id": "1ddd5d96",
   "metadata": {},
   "outputs": [
    {
     "data": {
      "text/plain": [
       "[1, 3, 5, 7, 9]"
      ]
     },
     "execution_count": 43,
     "metadata": {},
     "output_type": "execute_result"
    }
   ],
   "source": [
    "list(range(1, 10, 2))"
   ]
  },
  {
   "cell_type": "code",
   "execution_count": 44,
   "id": "8bc035f5",
   "metadata": {},
   "outputs": [
    {
     "data": {
      "text/plain": [
       "[0, -1, -2, -3, -4, -5, -6, -7, -8, -9]"
      ]
     },
     "execution_count": 44,
     "metadata": {},
     "output_type": "execute_result"
    }
   ],
   "source": [
    "list(range(0, -10, -1))"
   ]
  },
  {
   "cell_type": "code",
   "execution_count": 45,
   "id": "41221901",
   "metadata": {},
   "outputs": [
    {
     "data": {
      "text/plain": [
       "5"
      ]
     },
     "execution_count": 45,
     "metadata": {},
     "output_type": "execute_result"
    }
   ],
   "source": [
    "#round\n",
    "round(4.6)"
   ]
  },
  {
   "cell_type": "code",
   "execution_count": 46,
   "id": "81860a60",
   "metadata": {},
   "outputs": [
    {
     "data": {
      "text/plain": [
       "4"
      ]
     },
     "execution_count": 46,
     "metadata": {},
     "output_type": "execute_result"
    }
   ],
   "source": [
    "round(4.1)"
   ]
  },
  {
   "cell_type": "code",
   "execution_count": 47,
   "id": "9db0a6c5",
   "metadata": {},
   "outputs": [
    {
     "data": {
      "text/plain": [
       "5.68"
      ]
     },
     "execution_count": 47,
     "metadata": {},
     "output_type": "execute_result"
    }
   ],
   "source": [
    "round(5.678, 2)"
   ]
  },
  {
   "cell_type": "code",
   "execution_count": 48,
   "id": "8f567f92",
   "metadata": {},
   "outputs": [
    {
     "data": {
      "text/plain": [
       "[1, 2, 3]"
      ]
     },
     "execution_count": 48,
     "metadata": {},
     "output_type": "execute_result"
    }
   ],
   "source": [
    "#sorted\n",
    "sorted([3,1,2])"
   ]
  },
  {
   "cell_type": "code",
   "execution_count": 49,
   "id": "1c3d558c",
   "metadata": {},
   "outputs": [
    {
     "data": {
      "text/plain": [
       "['a', 'b', 'c']"
      ]
     },
     "execution_count": 49,
     "metadata": {},
     "output_type": "execute_result"
    }
   ],
   "source": [
    "sorted(['a','c','b'])"
   ]
  },
  {
   "cell_type": "code",
   "execution_count": 50,
   "id": "8868fe78",
   "metadata": {},
   "outputs": [
    {
     "data": {
      "text/plain": [
       "['e', 'o', 'r', 'z']"
      ]
     },
     "execution_count": 50,
     "metadata": {},
     "output_type": "execute_result"
    }
   ],
   "source": [
    "sorted(\"zero\")"
   ]
  },
  {
   "cell_type": "code",
   "execution_count": 51,
   "id": "18ee6174",
   "metadata": {},
   "outputs": [],
   "source": [
    "#객체.sort()"
   ]
  },
  {
   "cell_type": "code",
   "execution_count": 52,
   "id": "8a6391f1",
   "metadata": {},
   "outputs": [
    {
     "data": {
      "text/plain": [
       "6"
      ]
     },
     "execution_count": 52,
     "metadata": {},
     "output_type": "execute_result"
    }
   ],
   "source": [
    "#sum\n",
    "sum([1,2,3])"
   ]
  },
  {
   "cell_type": "code",
   "execution_count": 53,
   "id": "2a90e5d9",
   "metadata": {},
   "outputs": [
    {
     "data": {
      "text/plain": [
       "15"
      ]
     },
     "execution_count": 53,
     "metadata": {},
     "output_type": "execute_result"
    }
   ],
   "source": [
    "sum([4,5,6])"
   ]
  },
  {
   "cell_type": "code",
   "execution_count": 54,
   "id": "1450c9af",
   "metadata": {},
   "outputs": [
    {
     "data": {
      "text/plain": [
       "[(1, 4), (2, 5), (3, 6)]"
      ]
     },
     "execution_count": 54,
     "metadata": {},
     "output_type": "execute_result"
    }
   ],
   "source": [
    "#zip(진짜 중요)\n",
    "list(zip([1,2,3],[4,5,6]))"
   ]
  },
  {
   "cell_type": "code",
   "execution_count": 55,
   "id": "1185ed50",
   "metadata": {},
   "outputs": [],
   "source": [
    "#filer - 불린을 리턴하는 비교함수를 토대로 걸러내는 역할\n",
    "#map - 특정 함수와 데이터를 계산하여 한 결과를 리턴하는 역할\n",
    "#zip - a와 b의 데이터를 묶어서 리턴하는 역할\n",
    "#데이터 전처리에서 많이 사용 외우자"
   ]
  },
  {
   "cell_type": "code",
   "execution_count": 56,
   "id": "50194b5f",
   "metadata": {},
   "outputs": [
    {
     "data": {
      "text/plain": [
       "[(1, 4, 7), (2, 5, 8), (3, 6, 9)]"
      ]
     },
     "execution_count": 56,
     "metadata": {},
     "output_type": "execute_result"
    }
   ],
   "source": [
    "list(zip([1, 2, 3], [4, 5, 6], [7, 8, 9]))"
   ]
  },
  {
   "cell_type": "code",
   "execution_count": 57,
   "id": "173973f9",
   "metadata": {},
   "outputs": [
    {
     "data": {
      "text/plain": [
       "[('a', 'd'), ('b', 'e'), ('c', 'f')]"
      ]
     },
     "execution_count": 57,
     "metadata": {},
     "output_type": "execute_result"
    }
   ],
   "source": [
    "list(zip(\"abc\", \"def\"))"
   ]
  },
  {
   "cell_type": "markdown",
   "id": "e63e6c33",
   "metadata": {},
   "source": [
    "# 라이브러리"
   ]
  },
  {
   "cell_type": "code",
   "execution_count": 58,
   "id": "dd376121",
   "metadata": {},
   "outputs": [],
   "source": [
    "#datetime.date\n",
    "#시계열 데이터. 시간의 흐름에 따라 변화가 있는 데이터\n",
    "import datetime"
   ]
  },
  {
   "cell_type": "code",
   "execution_count": 60,
   "id": "5b316184",
   "metadata": {},
   "outputs": [
    {
     "data": {
      "text/plain": [
       "datetime.date(2024, 3, 12)"
      ]
     },
     "execution_count": 60,
     "metadata": {},
     "output_type": "execute_result"
    }
   ],
   "source": [
    "day1 = datetime.date(2024,3,12)\n",
    "day1"
   ]
  },
  {
   "cell_type": "code",
   "execution_count": 62,
   "id": "55df1f13",
   "metadata": {},
   "outputs": [
    {
     "data": {
      "text/plain": [
       "datetime.date(2024, 1, 22)"
      ]
     },
     "execution_count": 62,
     "metadata": {},
     "output_type": "execute_result"
    }
   ],
   "source": [
    "day2 = datetime.date(2024,1,22)\n",
    "day2"
   ]
  },
  {
   "cell_type": "code",
   "execution_count": 63,
   "id": "b51bae79",
   "metadata": {},
   "outputs": [
    {
     "data": {
      "text/plain": [
       "datetime.timedelta(days=50)"
      ]
     },
     "execution_count": 63,
     "metadata": {},
     "output_type": "execute_result"
    }
   ],
   "source": [
    "diff = day1-day2\n",
    "diff"
   ]
  },
  {
   "cell_type": "code",
   "execution_count": 64,
   "id": "5a543e61",
   "metadata": {},
   "outputs": [
    {
     "data": {
      "text/plain": [
       "50"
      ]
     },
     "execution_count": 64,
     "metadata": {},
     "output_type": "execute_result"
    }
   ],
   "source": [
    "diff.days #객체변수"
   ]
  },
  {
   "cell_type": "code",
   "execution_count": 65,
   "id": "64859215",
   "metadata": {},
   "outputs": [
    {
     "data": {
      "text/plain": [
       "0"
      ]
     },
     "execution_count": 65,
     "metadata": {},
     "output_type": "execute_result"
    }
   ],
   "source": [
    "day = datetime.date(2024,1,22)\n",
    "day.weekday() #메서드"
   ]
  },
  {
   "cell_type": "code",
   "execution_count": 66,
   "id": "57185b8b",
   "metadata": {},
   "outputs": [
    {
     "data": {
      "text/plain": [
       "1"
      ]
     },
     "execution_count": 66,
     "metadata": {},
     "output_type": "execute_result"
    }
   ],
   "source": [
    "day.isoweekday()"
   ]
  },
  {
   "cell_type": "code",
   "execution_count": 67,
   "id": "3bcb0f27",
   "metadata": {},
   "outputs": [],
   "source": [
    "# time\n",
    "# 시스템 정보를 출력. 운영체제 시간을 바꾸면 바꾼 시간을 보여줌"
   ]
  },
  {
   "cell_type": "code",
   "execution_count": 68,
   "id": "1b052565",
   "metadata": {},
   "outputs": [],
   "source": [
    "import time"
   ]
  },
  {
   "cell_type": "code",
   "execution_count": 69,
   "id": "37ad91f6",
   "metadata": {},
   "outputs": [
    {
     "data": {
      "text/plain": [
       "1710209768.9808402"
      ]
     },
     "execution_count": 69,
     "metadata": {},
     "output_type": "execute_result"
    }
   ],
   "source": [
    "time.time()"
   ]
  },
  {
   "cell_type": "code",
   "execution_count": 70,
   "id": "07a60d69",
   "metadata": {},
   "outputs": [
    {
     "data": {
      "text/plain": [
       "time.struct_time(tm_year=2024, tm_mon=3, tm_mday=12, tm_hour=11, tm_min=17, tm_sec=5, tm_wday=1, tm_yday=72, tm_isdst=0)"
      ]
     },
     "execution_count": 70,
     "metadata": {},
     "output_type": "execute_result"
    }
   ],
   "source": [
    "time.localtime(time.time())"
   ]
  },
  {
   "cell_type": "code",
   "execution_count": 73,
   "id": "d1c387f0",
   "metadata": {},
   "outputs": [
    {
     "data": {
      "text/plain": [
       "'Tue Mar 12 11:18:02 2024'"
      ]
     },
     "execution_count": 73,
     "metadata": {},
     "output_type": "execute_result"
    }
   ],
   "source": [
    "time.asctime(time.localtime(time.time()))"
   ]
  },
  {
   "cell_type": "code",
   "execution_count": 74,
   "id": "0bfd39f0",
   "metadata": {},
   "outputs": [
    {
     "data": {
      "text/plain": [
       "'Tue Mar 12 11:18:18 2024'"
      ]
     },
     "execution_count": 74,
     "metadata": {},
     "output_type": "execute_result"
    }
   ],
   "source": [
    "time.ctime()"
   ]
  },
  {
   "cell_type": "code",
   "execution_count": 75,
   "id": "520455a6",
   "metadata": {},
   "outputs": [
    {
     "data": {
      "text/plain": [
       "'03/12/24'"
      ]
     },
     "execution_count": 75,
     "metadata": {},
     "output_type": "execute_result"
    }
   ],
   "source": [
    "import time\n",
    "time.strftime('%x', time.localtime(time.time()))"
   ]
  },
  {
   "cell_type": "code",
   "execution_count": 76,
   "id": "0d732d38",
   "metadata": {},
   "outputs": [
    {
     "data": {
      "text/plain": [
       "'Tue Mar 12 11:20:52 2024'"
      ]
     },
     "execution_count": 76,
     "metadata": {},
     "output_type": "execute_result"
    }
   ],
   "source": [
    "time.strftime('%c', time.localtime(time.time()))"
   ]
  },
  {
   "cell_type": "code",
   "execution_count": 77,
   "id": "0674c428",
   "metadata": {},
   "outputs": [
    {
     "name": "stdout",
     "output_type": "stream",
     "text": [
      "0\n",
      "1\n",
      "2\n",
      "3\n",
      "4\n",
      "5\n",
      "6\n",
      "7\n",
      "8\n",
      "9\n"
     ]
    }
   ],
   "source": [
    "#time.sleep\n",
    "#데이터 수집할 때 많이씀\n",
    "import time\n",
    "for i in range(10):\n",
    "    print(i)\n",
    "    time.sleep(1)"
   ]
  },
  {
   "cell_type": "code",
   "execution_count": 78,
   "id": "83295865",
   "metadata": {},
   "outputs": [
    {
     "data": {
      "text/plain": [
       "time.struct_time(tm_year=2024, tm_mon=3, tm_mday=12, tm_hour=11, tm_min=25, tm_sec=42, tm_wday=1, tm_yday=72, tm_isdst=0)"
      ]
     },
     "execution_count": 78,
     "metadata": {},
     "output_type": "execute_result"
    }
   ],
   "source": [
    "time.localtime()"
   ]
  },
  {
   "cell_type": "code",
   "execution_count": 79,
   "id": "d8c55475",
   "metadata": {},
   "outputs": [
    {
     "data": {
      "text/plain": [
       "'Tue Mar 12 11:25:58 2024'"
      ]
     },
     "execution_count": 79,
     "metadata": {},
     "output_type": "execute_result"
    }
   ],
   "source": [
    "time.asctime()"
   ]
  },
  {
   "cell_type": "code",
   "execution_count": 80,
   "id": "628a4e5f",
   "metadata": {},
   "outputs": [
    {
     "data": {
      "text/plain": [
       "'Tue Mar 12 11:26:03 2024'"
      ]
     },
     "execution_count": 80,
     "metadata": {},
     "output_type": "execute_result"
    }
   ],
   "source": [
    "time.strftime('%c')"
   ]
  },
  {
   "cell_type": "code",
   "execution_count": 81,
   "id": "65aad901",
   "metadata": {},
   "outputs": [
    {
     "data": {
      "text/plain": [
       "0.9606744830263663"
      ]
     },
     "execution_count": 81,
     "metadata": {},
     "output_type": "execute_result"
    }
   ],
   "source": [
    "#random 많이 사용\n",
    "import random\n",
    "random.random()"
   ]
  },
  {
   "cell_type": "code",
   "execution_count": 82,
   "id": "88415727",
   "metadata": {},
   "outputs": [
    {
     "data": {
      "text/plain": [
       "8"
      ]
     },
     "execution_count": 82,
     "metadata": {},
     "output_type": "execute_result"
    }
   ],
   "source": [
    "random.randint(1,10)"
   ]
  },
  {
   "cell_type": "code",
   "execution_count": 83,
   "id": "a2012a60",
   "metadata": {},
   "outputs": [
    {
     "data": {
      "text/plain": [
       "39"
      ]
     },
     "execution_count": 83,
     "metadata": {},
     "output_type": "execute_result"
    }
   ],
   "source": [
    "random.randint(1, 55)"
   ]
  },
  {
   "cell_type": "code",
   "execution_count": 84,
   "id": "02f3c266",
   "metadata": {},
   "outputs": [
    {
     "data": {
      "text/plain": [
       "[1, 3, 5, 2, 4]"
      ]
     },
     "execution_count": 84,
     "metadata": {},
     "output_type": "execute_result"
    }
   ],
   "source": [
    "data = [1, 2, 3, 4, 5]\n",
    "random.sample(data, len(data)) #sample은 무작위 추출"
   ]
  },
  {
   "cell_type": "code",
   "execution_count": 85,
   "id": "fbc246d0",
   "metadata": {},
   "outputs": [],
   "source": [
    "#glob"
   ]
  },
  {
   "cell_type": "code",
   "execution_count": 86,
   "id": "e3dfaee6",
   "metadata": {},
   "outputs": [
    {
     "data": {
      "text/plain": [
       "'C:\\\\workspace\\\\WASSUP2\\\\python'"
      ]
     },
     "execution_count": 86,
     "metadata": {},
     "output_type": "execute_result"
    }
   ],
   "source": [
    "pwd"
   ]
  },
  {
   "cell_type": "code",
   "execution_count": 88,
   "id": "10d944eb",
   "metadata": {},
   "outputs": [
    {
     "data": {
      "text/plain": [
       "['C:\\\\workspace\\\\WASSUP2\\\\python\\\\00_마크다운.ipynb',\n",
       " 'C:\\\\workspace\\\\WASSUP2\\\\python\\\\01 자료형과 변수.ipynb',\n",
       " 'C:\\\\workspace\\\\WASSUP2\\\\python\\\\01_자료형&변수_연습문제_실습용.ipynb',\n",
       " 'C:\\\\workspace\\\\WASSUP2\\\\python\\\\02_제어문.ipynb',\n",
       " 'C:\\\\workspace\\\\WASSUP2\\\\python\\\\02_제어문_연습문제_실습용.ipynb',\n",
       " 'C:\\\\workspace\\\\WASSUP2\\\\python\\\\03_코딩연습_전화번호프로그램_실습용.ipynb',\n",
       " 'C:\\\\workspace\\\\WASSUP2\\\\python\\\\04_파이썬 입출력.ipynb',\n",
       " 'C:\\\\workspace\\\\WASSUP2\\\\python\\\\04_함수&입출력_연습문제_실습용.ipynb',\n",
       " 'C:\\\\workspace\\\\WASSUP2\\\\python\\\\05_클래스와예외처리.ipynb',\n",
       " 'C:\\\\workspace\\\\WASSUP2\\\\python\\\\06_내장함수와라이브러리.ipynb',\n",
       " 'C:\\\\workspace\\\\WASSUP2\\\\python\\\\wikidocs 101~150.ipynb',\n",
       " 'C:\\\\workspace\\\\WASSUP2\\\\python\\\\wikidocs 151~200.ipynb',\n",
       " 'C:\\\\workspace\\\\WASSUP2\\\\python\\\\wikidocs 201~240.ipynb',\n",
       " 'C:\\\\workspace\\\\WASSUP2\\\\python\\\\wikidocs 251~290.ipynb',\n",
       " 'C:\\\\workspace\\\\WASSUP2\\\\python\\\\wikidocs 51~100.ipynb']"
      ]
     },
     "execution_count": 88,
     "metadata": {},
     "output_type": "execute_result"
    }
   ],
   "source": [
    "import glob\n",
    "glob.glob('C:\\\\workspace\\\\WASSUP2\\\\python\\*.ipynb')"
   ]
  },
  {
   "cell_type": "code",
   "execution_count": 89,
   "id": "383c6342",
   "metadata": {},
   "outputs": [],
   "source": [
    "glob.glob?"
   ]
  },
  {
   "cell_type": "code",
   "execution_count": 96,
   "id": "00839026",
   "metadata": {},
   "outputs": [
    {
     "name": "stdout",
     "output_type": "stream",
     "text": [
      "00_마크다운.ipynb\n",
      "01 자료형과 변수.ipynb\n",
      "01_자료형&변수_연습문제_실습용.ipynb\n",
      "02_제어문.ipynb\n",
      "02_제어문_연습문제_실습용.ipynb\n",
      "03_코딩연습_전화번호프로그램_실습용.ipynb\n",
      "04_파이썬 입출력.ipynb\n",
      "04_함수&입출력_연습문제_실습용.ipynb\n",
      "05_클래스와예외처리.ipynb\n",
      "06_내장함수와라이브러리.ipynb\n",
      "wikidocs 101~150.ipynb\n",
      "wikidocs 151~200.ipynb\n",
      "wikidocs 201~240.ipynb\n",
      "wikidocs 251~290.ipynb\n",
      "wikidocs 51~100.ipynb\n"
     ]
    }
   ],
   "source": [
    "file = glob.glob('C:\\\\workspace\\\\WASSUP2\\\\python\\*.ipynb')\n",
    "for i in file:\n",
    "    print(i.split(\"\\\\\")[-1])"
   ]
  },
  {
   "cell_type": "code",
   "execution_count": 1,
   "id": "f8d04231",
   "metadata": {},
   "outputs": [],
   "source": [
    "#picke\n",
    "#일단은 알아두기만"
   ]
  },
  {
   "cell_type": "code",
   "execution_count": 2,
   "id": "573c6542",
   "metadata": {},
   "outputs": [],
   "source": [
    "# os"
   ]
  },
  {
   "cell_type": "code",
   "execution_count": 4,
   "id": "3b32c5fc",
   "metadata": {},
   "outputs": [],
   "source": [
    "import os"
   ]
  },
  {
   "cell_type": "code",
   "execution_count": null,
   "id": "554c00ab",
   "metadata": {},
   "outputs": [],
   "source": [
    "os.environ"
   ]
  },
  {
   "cell_type": "code",
   "execution_count": 5,
   "id": "6df28a60",
   "metadata": {},
   "outputs": [
    {
     "data": {
      "text/plain": [
       "'C:\\\\workspace\\\\WASSUP2\\\\python'"
      ]
     },
     "execution_count": 5,
     "metadata": {},
     "output_type": "execute_result"
    }
   ],
   "source": [
    "os.getcwd()"
   ]
  },
  {
   "cell_type": "code",
   "execution_count": 6,
   "id": "744ff043",
   "metadata": {},
   "outputs": [
    {
     "data": {
      "text/plain": [
       "'C:\\\\workspace\\\\WASSUP2\\\\python'"
      ]
     },
     "execution_count": 6,
     "metadata": {},
     "output_type": "execute_result"
    }
   ],
   "source": [
    "pwd"
   ]
  },
  {
   "cell_type": "code",
   "execution_count": 7,
   "id": "dab133e8",
   "metadata": {},
   "outputs": [
    {
     "data": {
      "text/plain": [
       "0"
      ]
     },
     "execution_count": 7,
     "metadata": {},
     "output_type": "execute_result"
    }
   ],
   "source": [
    "os.system(\"dir\")"
   ]
  },
  {
   "cell_type": "code",
   "execution_count": 8,
   "id": "e5e09eb0",
   "metadata": {},
   "outputs": [],
   "source": [
    "#threading(진짜 중요한데 고급이라 우리가 하기 어려움)\n",
    "#병렬처리해주는 것"
   ]
  },
  {
   "cell_type": "code",
   "execution_count": 9,
   "id": "170ee6b7",
   "metadata": {},
   "outputs": [],
   "source": [
    "#tempfile\n",
    "#임시로 파일을 경유하거나 처리할 때 사용"
   ]
  },
  {
   "cell_type": "code",
   "execution_count": 10,
   "id": "fa6b181e",
   "metadata": {},
   "outputs": [],
   "source": [
    "#traceback\n",
    "#오류를 추적할 때 사용\n",
    "#raise문이라던가 class를 통해서 오류를 만들 수 있었는데 이건 오류를 추적할 때 사용\n",
    "#예외 처리를 하면 오류 이름만 알려줌 그래서 오류가 어디서 났는지 추적하기 위해 사용"
   ]
  },
  {
   "cell_type": "code",
   "execution_count": 13,
   "id": "4810bb35",
   "metadata": {},
   "outputs": [
    {
     "data": {
      "text/plain": [
       "(dict, {'name': '홍길동', 'birth': '0525', 'age': 30})"
      ]
     },
     "execution_count": 13,
     "metadata": {},
     "output_type": "execute_result"
    }
   ],
   "source": [
    "#json\n",
    "import json\n",
    "with open('myinfo.json', encoding = 'utf-8') as f:\n",
    "    data = json.load(f)\n",
    "    \n",
    "type(data), data"
   ]
  },
  {
   "cell_type": "code",
   "execution_count": 16,
   "id": "b1a5cc1a",
   "metadata": {},
   "outputs": [],
   "source": [
    "import json\n",
    "data = {'name':'유관순', 'birth':'0301', 'age':18}\n",
    "with open('myinfo.json', 'w') as f:\n",
    "    json.dump(data,f)"
   ]
  },
  {
   "cell_type": "code",
   "execution_count": 19,
   "id": "822252b7",
   "metadata": {},
   "outputs": [
    {
     "data": {
      "text/plain": [
       "{'name': '홍길동', 'birth': '0525', 'age': 30}"
      ]
     },
     "execution_count": 19,
     "metadata": {},
     "output_type": "execute_result"
    }
   ],
   "source": [
    "json.loads(json_data)"
   ]
  },
  {
   "cell_type": "code",
   "execution_count": 15,
   "id": "b1a4c952",
   "metadata": {},
   "outputs": [
    {
     "data": {
      "text/plain": [
       "'{\"name\": \"홍길동\", \"birth\": \"0525\", \"age\": 30}'"
      ]
     },
     "execution_count": 15,
     "metadata": {},
     "output_type": "execute_result"
    }
   ],
   "source": [
    " d = {\"name\":\"홍길동\", \"birth\":\"0525\", \"age\": 30}\n",
    "json_data = json.dumps(d, ensure_ascii=False)\n",
    "json_data"
   ]
  },
  {
   "cell_type": "code",
   "execution_count": 20,
   "id": "87f23705",
   "metadata": {},
   "outputs": [],
   "source": [
    "#urllib\n",
    "import urllib.request\n",
    "\n",
    "def get_wikidocs(page):\n",
    "    resource = 'https://wikidocs.net/{}'.format(page)\n",
    "    with urllib.request.urlopen(resource) as s:\n",
    "        with open('wikidocs_%s.html' % page, 'wb') as f:\n",
    "            f.write(s.read())"
   ]
  },
  {
   "cell_type": "code",
   "execution_count": 21,
   "id": "c8405083",
   "metadata": {},
   "outputs": [],
   "source": [
    "get_wikidocs(33)"
   ]
  },
  {
   "cell_type": "code",
   "execution_count": 22,
   "id": "2e9fe317",
   "metadata": {},
   "outputs": [
    {
     "data": {
      "text/plain": [
       "True"
      ]
     },
     "execution_count": 22,
     "metadata": {},
     "output_type": "execute_result"
    }
   ],
   "source": [
    "#web browser\n",
    "import webbrowser\n",
    "\n",
    "webbrowser.open_new('http://python.org')"
   ]
  },
  {
   "cell_type": "markdown",
   "id": "63e4ff49",
   "metadata": {},
   "source": [
    "# 외부 라이브러리"
   ]
  },
  {
   "cell_type": "code",
   "execution_count": 23,
   "id": "ffbb1605",
   "metadata": {},
   "outputs": [],
   "source": [
    "#pip를 하게 되면 의존성이라는 말이 나옴\n",
    "#라이브러리는 하나만 사용하지 않음\n",
    "#디펜던시 이슈"
   ]
  },
  {
   "cell_type": "code",
   "execution_count": null,
   "id": "ec21fd77",
   "metadata": {},
   "outputs": [],
   "source": [
    "pip list"
   ]
  },
  {
   "cell_type": "code",
   "execution_count": 25,
   "id": "add2a9de",
   "metadata": {},
   "outputs": [],
   "source": [
    "#faker"
   ]
  },
  {
   "cell_type": "code",
   "execution_count": 26,
   "id": "8685f60c",
   "metadata": {},
   "outputs": [],
   "source": [
    "#가짜 데이터 만들때 사용"
   ]
  },
  {
   "cell_type": "code",
   "execution_count": 27,
   "id": "445a956b",
   "metadata": {},
   "outputs": [
    {
     "name": "stdout",
     "output_type": "stream",
     "text": [
      "Collecting FakerNote: you may need to restart the kernel to use updated packages.\n",
      "\n",
      "  Obtaining dependency information for Faker from https://files.pythonhosted.org/packages/c5/ad/87c165d63be249db767227109d35e22cde75c9c941d69edc1b175f4928f0/Faker-24.1.0-py3-none-any.whl.metadata\n",
      "  Downloading Faker-24.1.0-py3-none-any.whl.metadata (15 kB)\n",
      "Requirement already satisfied: python-dateutil>=2.4 in c:\\users\\cocom\\anaconda3\\lib\\site-packages (from Faker) (2.8.2)\n",
      "Requirement already satisfied: six>=1.5 in c:\\users\\cocom\\anaconda3\\lib\\site-packages (from python-dateutil>=2.4->Faker) (1.16.0)\n",
      "Downloading Faker-24.1.0-py3-none-any.whl (1.8 MB)\n",
      "   ---------------------------------------- 0.0/1.8 MB ? eta -:--:--\n",
      "   ---- ----------------------------------- 0.2/1.8 MB 4.0 MB/s eta 0:00:01\n",
      "   -------- ------------------------------- 0.4/1.8 MB 3.7 MB/s eta 0:00:01\n",
      "   -------- ------------------------------- 0.4/1.8 MB 3.9 MB/s eta 0:00:01\n",
      "   ---------- ----------------------------- 0.5/1.8 MB 2.6 MB/s eta 0:00:01\n",
      "   ---------- ----------------------------- 0.5/1.8 MB 2.6 MB/s eta 0:00:01\n",
      "   ---------- ----------------------------- 0.5/1.8 MB 2.6 MB/s eta 0:00:01\n",
      "   ----------- ---------------------------- 0.5/1.8 MB 1.5 MB/s eta 0:00:01\n",
      "   ------------- -------------------------- 0.6/1.8 MB 1.7 MB/s eta 0:00:01\n",
      "   ------------- -------------------------- 0.6/1.8 MB 1.7 MB/s eta 0:00:01\n",
      "   ------------- -------------------------- 0.6/1.8 MB 1.7 MB/s eta 0:00:01\n",
      "   ------------- -------------------------- 0.6/1.8 MB 1.7 MB/s eta 0:00:01\n",
      "   --------------- ------------------------ 0.7/1.8 MB 1.2 MB/s eta 0:00:01\n",
      "   --------------- ------------------------ 0.7/1.8 MB 1.2 MB/s eta 0:00:01\n",
      "   --------------- ------------------------ 0.7/1.8 MB 1.2 MB/s eta 0:00:01\n",
      "   ---------------- ----------------------- 0.7/1.8 MB 1.1 MB/s eta 0:00:01\n",
      "   ---------------- ----------------------- 0.7/1.8 MB 1.0 MB/s eta 0:00:01\n",
      "   ---------------- ----------------------- 0.7/1.8 MB 1.0 MB/s eta 0:00:01\n",
      "   ----------------- ---------------------- 0.8/1.8 MB 939.9 kB/s eta 0:00:02\n",
      "   ------------------ --------------------- 0.8/1.8 MB 935.3 kB/s eta 0:00:02\n",
      "   ------------------ --------------------- 0.8/1.8 MB 935.3 kB/s eta 0:00:02\n",
      "   ------------------ --------------------- 0.8/1.8 MB 935.3 kB/s eta 0:00:02\n",
      "   -------------------- ------------------- 0.9/1.8 MB 857.5 kB/s eta 0:00:02\n",
      "   -------------------- ------------------- 0.9/1.8 MB 857.5 kB/s eta 0:00:02\n",
      "   -------------------- ------------------- 0.9/1.8 MB 857.5 kB/s eta 0:00:02\n",
      "   --------------------- ------------------ 0.9/1.8 MB 808.4 kB/s eta 0:00:02\n",
      "   --------------------- ------------------ 0.9/1.8 MB 808.4 kB/s eta 0:00:02\n",
      "   --------------------- ------------------ 0.9/1.8 MB 808.4 kB/s eta 0:00:02\n",
      "   ---------------------- ----------------- 1.0/1.8 MB 759.4 kB/s eta 0:00:02\n",
      "   ----------------------- ---------------- 1.0/1.8 MB 771.1 kB/s eta 0:00:01\n",
      "   ----------------------- ---------------- 1.0/1.8 MB 771.1 kB/s eta 0:00:01\n",
      "   ----------------------- ---------------- 1.0/1.8 MB 771.1 kB/s eta 0:00:01\n",
      "   ------------------------ --------------- 1.1/1.8 MB 739.4 kB/s eta 0:00:01\n",
      "   ------------------------ --------------- 1.1/1.8 MB 739.4 kB/s eta 0:00:01\n",
      "   ------------------------ --------------- 1.1/1.8 MB 739.4 kB/s eta 0:00:01\n",
      "   -------------------------- ------------- 1.2/1.8 MB 712.8 kB/s eta 0:00:01\n",
      "   --------------------------- ------------ 1.2/1.8 MB 731.0 kB/s eta 0:00:01\n",
      "   --------------------------- ------------ 1.2/1.8 MB 731.0 kB/s eta 0:00:01\n",
      "   --------------------------- ------------ 1.2/1.8 MB 731.0 kB/s eta 0:00:01\n",
      "   --------------------------- ------------ 1.2/1.8 MB 690.4 kB/s eta 0:00:01\n",
      "   --------------------------- ------------ 1.2/1.8 MB 690.4 kB/s eta 0:00:01\n",
      "   ---------------------------- ----------- 1.2/1.8 MB 650.2 kB/s eta 0:00:01\n",
      "   ----------------------------- ---------- 1.3/1.8 MB 671.4 kB/s eta 0:00:01\n",
      "   ----------------------------- ---------- 1.3/1.8 MB 671.4 kB/s eta 0:00:01\n",
      "   ----------------------------- ---------- 1.3/1.8 MB 671.4 kB/s eta 0:00:01\n",
      "   ------------------------------- -------- 1.4/1.8 MB 655.5 kB/s eta 0:00:01\n",
      "   ------------------------------- -------- 1.4/1.8 MB 655.5 kB/s eta 0:00:01\n",
      "   ------------------------------- -------- 1.4/1.8 MB 655.5 kB/s eta 0:00:01\n",
      "   -------------------------------- ------- 1.4/1.8 MB 637.1 kB/s eta 0:00:01\n",
      "   --------------------------------- ------ 1.5/1.8 MB 646.3 kB/s eta 0:00:01\n",
      "   --------------------------------- ------ 1.5/1.8 MB 646.3 kB/s eta 0:00:01\n",
      "   --------------------------------- ------ 1.5/1.8 MB 646.3 kB/s eta 0:00:01\n",
      "   ---------------------------------- ----- 1.5/1.8 MB 634.1 kB/s eta 0:00:01\n",
      "   ---------------------------------- ----- 1.5/1.8 MB 634.1 kB/s eta 0:00:01\n",
      "   ---------------------------------- ----- 1.5/1.8 MB 634.1 kB/s eta 0:00:01\n",
      "   ------------------------------------ --- 1.6/1.8 MB 627.4 kB/s eta 0:00:01\n",
      "   ------------------------------------ --- 1.6/1.8 MB 627.4 kB/s eta 0:00:01\n",
      "   ------------------------------------ --- 1.6/1.8 MB 627.4 kB/s eta 0:00:01\n",
      "   ------------------------------------- -- 1.7/1.8 MB 613.6 kB/s eta 0:00:01\n",
      "   ------------------------------------- -- 1.7/1.8 MB 613.6 kB/s eta 0:00:01\n",
      "   ------------------------------------- -- 1.7/1.8 MB 613.6 kB/s eta 0:00:01\n",
      "   ------------------------------------- -- 1.7/1.8 MB 613.6 kB/s eta 0:00:01\n",
      "   ---------------------------------------  1.7/1.8 MB 605.3 kB/s eta 0:00:01\n",
      "   ---------------------------------------  1.8/1.8 MB 602.4 kB/s eta 0:00:01\n",
      "   ---------------------------------------- 1.8/1.8 MB 594.6 kB/s eta 0:00:00\n",
      "Installing collected packages: Faker\n",
      "Successfully installed Faker-24.1.0\n"
     ]
    }
   ],
   "source": [
    "pip install Faker"
   ]
  },
  {
   "cell_type": "code",
   "execution_count": 28,
   "id": "0813473e",
   "metadata": {},
   "outputs": [],
   "source": [
    "from faker import Faker\n",
    "fake = Faker()"
   ]
  },
  {
   "cell_type": "code",
   "execution_count": 29,
   "id": "82ebf5ca",
   "metadata": {},
   "outputs": [
    {
     "data": {
      "text/plain": [
       "'Gabriel Baker'"
      ]
     },
     "execution_count": 29,
     "metadata": {},
     "output_type": "execute_result"
    }
   ],
   "source": [
    "fake.name()"
   ]
  },
  {
   "cell_type": "code",
   "execution_count": 30,
   "id": "2ea16d4e",
   "metadata": {},
   "outputs": [
    {
     "data": {
      "text/plain": [
       "'이우진'"
      ]
     },
     "execution_count": 30,
     "metadata": {},
     "output_type": "execute_result"
    }
   ],
   "source": [
    "fake = Faker('ko-KR')\n",
    "fake.name()"
   ]
  },
  {
   "cell_type": "code",
   "execution_count": 31,
   "id": "0eaf2cf4",
   "metadata": {},
   "outputs": [
    {
     "data": {
      "text/plain": [
       "'인천광역시 은평구 선릉50길'"
      ]
     },
     "execution_count": 31,
     "metadata": {},
     "output_type": "execute_result"
    }
   ],
   "source": [
    "fake.address()"
   ]
  },
  {
   "cell_type": "code",
   "execution_count": 32,
   "id": "0a7745d8",
   "metadata": {},
   "outputs": [
    {
     "data": {
      "text/plain": [
       "[('김현우', '경기도 오산시 오금로'),\n",
       " ('박영미', '전라남도 이천시 역삼776가 (지후김동)'),\n",
       " ('고승민', '인천광역시 노원구 테헤란거리'),\n",
       " ('고아름', '대구광역시 송파구 역삼021길'),\n",
       " ('윤영길', '서울특별시 광진구 학동가 (중수김안면)'),\n",
       " ('심준호', '강원도 양주시 양재천거리 (서윤전읍)'),\n",
       " ('김승현', '충청남도 논산시 오금길'),\n",
       " ('이순옥', '인천광역시 금천구 오금거리 (은영박김읍)'),\n",
       " ('장영식', '울산광역시 종로구 가락0거리'),\n",
       " ('이종수', '강원도 청주시 청원구 서초중앙거리'),\n",
       " ('김동현', '광주광역시 금천구 역삼54가 (지후전이리)'),\n",
       " ('김진우', '서울특별시 성북구 개포로'),\n",
       " ('한건우', '충청북도 청주시 흥덕구 역삼7길'),\n",
       " ('구옥자', '제주특별자치도 충주시 가락길 (도현박오읍)'),\n",
       " ('이현준', '제주특별자치도 양주시 백제고분9로'),\n",
       " ('김중수', '대전광역시 은평구 테헤란0가 (순자고최리)'),\n",
       " ('김예준', '경기도 강릉시 압구정가'),\n",
       " ('이병철', '부산광역시 북구 개포719길'),\n",
       " ('김민지', '인천광역시 종로구 강남대9가 (미영류양동)'),\n",
       " ('손재현', '충청북도 성남시 도산대로'),\n",
       " ('허상훈', '부산광역시 동대문구 테헤란51길'),\n",
       " ('이진호', '세종특별자치시 동대문구 학동거리'),\n",
       " ('강유진', '경상북도 음성군 삼성로'),\n",
       " ('박민수', '대전광역시 강남구 선릉8로'),\n",
       " ('김지훈', '충청북도 음성군 영동대로'),\n",
       " ('박지우', '경기도 부천시 원미구 서초대로 (정호조면)'),\n",
       " ('강종수', '인천광역시 성동구 개포7가'),\n",
       " ('최광수', '경상북도 화성시 학동가'),\n",
       " ('송지영', '부산광역시 영등포구 학동가 (서준최리)'),\n",
       " ('송지민', '충청북도 성남시 학동97길 (영철양심읍)')]"
      ]
     },
     "execution_count": 32,
     "metadata": {},
     "output_type": "execute_result"
    }
   ],
   "source": [
    "test_data = [(fake.name(), fake.address()) for i in range(30)]\n",
    "test_data"
   ]
  },
  {
   "cell_type": "code",
   "execution_count": 33,
   "id": "32edbcc0",
   "metadata": {},
   "outputs": [
    {
     "data": {
      "text/plain": [
       "'Ducimus in totam voluptates quos. Reiciendis molestias numquam ratione nostrum provident quae libero. Eveniet explicabo sint laboriosam hic.\\nAd iure repellendus illo alias.'"
      ]
     },
     "execution_count": 33,
     "metadata": {},
     "output_type": "execute_result"
    }
   ],
   "source": [
    "fake.text()"
   ]
  },
  {
   "cell_type": "code",
   "execution_count": 34,
   "id": "62f6405e",
   "metadata": {},
   "outputs": [
    {
     "data": {
      "text/plain": [
       "'리버스 엔지니어링된 범국가적 미디어 정보'"
      ]
     },
     "execution_count": 34,
     "metadata": {},
     "output_type": "execute_result"
    }
   ],
   "source": [
    "fake.catch_phrase()"
   ]
  }
 ],
 "metadata": {
  "kernelspec": {
   "display_name": "Python 3 (ipykernel)",
   "language": "python",
   "name": "python3"
  },
  "language_info": {
   "codemirror_mode": {
    "name": "ipython",
    "version": 3
   },
   "file_extension": ".py",
   "mimetype": "text/x-python",
   "name": "python",
   "nbconvert_exporter": "python",
   "pygments_lexer": "ipython3",
   "version": "3.11.5"
  }
 },
 "nbformat": 4,
 "nbformat_minor": 5
}
