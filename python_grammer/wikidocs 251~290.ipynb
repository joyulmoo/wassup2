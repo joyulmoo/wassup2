{
 "cells": [
  {
   "cell_type": "markdown",
   "id": "5f441756",
   "metadata": {},
   "source": [
    "# 파이썬 클래스"
   ]
  },
  {
   "cell_type": "code",
   "execution_count": 1,
   "id": "245da09a",
   "metadata": {},
   "outputs": [],
   "source": [
    "#251\n",
    "# 클래스 : 빵틀. 무언가를 계속 만들어 낼 수 있는 설계 도면\n",
    "# 객체 : 빵. 클래스로 만든 결과"
   ]
  },
  {
   "cell_type": "code",
   "execution_count": 2,
   "id": "188cca38",
   "metadata": {},
   "outputs": [],
   "source": [
    "#위키독스 답\n",
    "#클래스 : 일종의 설계도. 하나의 타입을 정의하는 방법. 클래스에는 데이터와 함수를 한 데모아 정의할 수 있음\n",
    "#객체 :  클래스로 만들어진 결과물"
   ]
  },
  {
   "cell_type": "code",
   "execution_count": 3,
   "id": "da2b47a8",
   "metadata": {},
   "outputs": [],
   "source": [
    "#252\n",
    "class Human:\n",
    "    pass"
   ]
  },
  {
   "cell_type": "code",
   "execution_count": 4,
   "id": "4485d8b6",
   "metadata": {},
   "outputs": [],
   "source": [
    "#253\n",
    "class Human:\n",
    "    pass\n",
    "\n",
    "areum = Human()"
   ]
  },
  {
   "cell_type": "code",
   "execution_count": 6,
   "id": "6c24b6a3",
   "metadata": {},
   "outputs": [
    {
     "name": "stdout",
     "output_type": "stream",
     "text": [
      "응애응애\n"
     ]
    }
   ],
   "source": [
    "#254\n",
    "class Human:\n",
    "    def __init__(self):\n",
    "        print(\"응애응애\")\n",
    "\n",
    "areum = Human()"
   ]
  },
  {
   "cell_type": "code",
   "execution_count": 10,
   "id": "bc63fda7",
   "metadata": {},
   "outputs": [],
   "source": [
    "#255\n",
    "class Human:\n",
    "    def __init__(self, name, age, sex):\n",
    "        self.name = name\n",
    "        self.age = age\n",
    "        self.sex = sex\n",
    "    \n",
    "\n",
    "areum = Human(\"아름\", 25, \"여자\")"
   ]
  },
  {
   "cell_type": "code",
   "execution_count": 9,
   "id": "04419fd5",
   "metadata": {},
   "outputs": [
    {
     "name": "stdout",
     "output_type": "stream",
     "text": [
      "조아름 25 여자\n"
     ]
    }
   ],
   "source": [
    "#256\n",
    "class Human:\n",
    "    def __init__(self, name, age, sex):\n",
    "        self.name = name\n",
    "        self.age = age\n",
    "        self.sex = sex\n",
    "    \n",
    "\n",
    "areum = Human(\"조아름\", 25, \"여자\")\n",
    "print(areum.name, areum.age, areum.sex)"
   ]
  },
  {
   "cell_type": "code",
   "execution_count": 15,
   "id": "654f13eb",
   "metadata": {},
   "outputs": [
    {
     "name": "stdout",
     "output_type": "stream",
     "text": [
      "이름: 조아름, 나이: 25, 성별: 여자\n"
     ]
    }
   ],
   "source": [
    "#257\n",
    "class Human:\n",
    "    def __init__(self, name, age, sex):\n",
    "        self.name = name\n",
    "        self.age = age\n",
    "        self.sex = sex\n",
    "    \n",
    "    def who(self):\n",
    "        print(f\"이름: {self.name}, 나이: {self.age}, 성별: {self.sex}\")\n",
    "           \n",
    "areum = Human(\"조아름\", 25, \"여자\")\n",
    "areum.who()"
   ]
  },
  {
   "cell_type": "code",
   "execution_count": 16,
   "id": "a07c8d9b",
   "metadata": {},
   "outputs": [],
   "source": [
    "#258\n",
    "class Human:\n",
    "    def __init__(self, name, age, sex):\n",
    "        self.name = name\n",
    "        self.age = age\n",
    "        self.sex = sex\n",
    "    \n",
    "    def who(self):\n",
    "        print(f\"이름: {self.name}, 나이: {self.age}, 성별: {self.sex}\")\n",
    "    \n",
    "    def setInfo(self, name, age, sex):\n",
    "        self.name = name\n",
    "        self.age = age\n",
    "        self.sex = sex\n",
    "\n",
    "areum = Human(\"모름\", 0, \"모름\")\n",
    "areum.setInfo(\"아름\", 25, \"여자\")        "
   ]
  },
  {
   "cell_type": "code",
   "execution_count": 21,
   "id": "7f9a86fc",
   "metadata": {},
   "outputs": [
    {
     "name": "stdout",
     "output_type": "stream",
     "text": [
      "나의 죽음을 알리지 말라\n",
      "나의 죽음을 알리지 말라\n"
     ]
    }
   ],
   "source": [
    "#259\n",
    "class Human:\n",
    "    def __init__(self, name, age, sex):\n",
    "        self.name = name\n",
    "        self.age = age\n",
    "        self.sex = sex  \n",
    "    \n",
    "    def who(self):\n",
    "        print(f\"이름: {self.name}, 나이: {self.age}, 성별: {self.sex}\")\n",
    "    \n",
    "    def setInfo(self, name, age, sex):\n",
    "        self.name = name\n",
    "        self.age = age\n",
    "        self.sex = sex\n",
    "        \n",
    "    def __del__(self):\n",
    "        print(\"나의 죽음을 알리지 말라\")\n",
    "    \n",
    "\n",
    "areum = Human(\"아름\", 25, \"여자\")\n",
    "del(areum)"
   ]
  },
  {
   "cell_type": "code",
   "execution_count": 22,
   "id": "5b94b59c",
   "metadata": {},
   "outputs": [],
   "source": [
    "#260\n",
    "#print()함수에 인자가 없기 때문에 에러가 발생함."
   ]
  },
  {
   "cell_type": "code",
   "execution_count": 23,
   "id": "1aef7bc5",
   "metadata": {},
   "outputs": [],
   "source": [
    "#261\n",
    "class Stock:\n",
    "    pass"
   ]
  },
  {
   "cell_type": "code",
   "execution_count": 24,
   "id": "4d0aae12",
   "metadata": {},
   "outputs": [],
   "source": [
    "#262\n",
    "class Stock:\n",
    "    def __init__(self,stock_name,stock_code):\n",
    "        self.stock_name = stock_name\n",
    "        self.stock_code = stock_code\n",
    "        \n",
    "삼성 = Stock(\"삼성전자\", \"005930\")"
   ]
  },
  {
   "cell_type": "code",
   "execution_count": 25,
   "id": "4a8880b2",
   "metadata": {},
   "outputs": [
    {
     "name": "stdout",
     "output_type": "stream",
     "text": [
      "삼성전자\n"
     ]
    }
   ],
   "source": [
    "#263\n",
    "class Stock:\n",
    "    def __init__(self,stock_name,stock_code):\n",
    "        self.stock_name = stock_name\n",
    "        self.stock_code = stock_code\n",
    "        \n",
    "    def set_name(self, stock_name):\n",
    "        self.stock_name = stock_name\n",
    "\n",
    "a = Stock(None, None)\n",
    "a.set_name(\"삼성전자\")        \n",
    "print(a.stock_name)"
   ]
  },
  {
   "cell_type": "code",
   "execution_count": 26,
   "id": "a10f4eec",
   "metadata": {},
   "outputs": [
    {
     "name": "stdout",
     "output_type": "stream",
     "text": [
      "005930\n"
     ]
    }
   ],
   "source": [
    "#264\n",
    "class Stock:\n",
    "    def __init__(self,stock_name,stock_code):\n",
    "        self.stock_name = stock_name\n",
    "        self.stock_code = stock_code\n",
    "        \n",
    "    def set_name(self, stock_name):\n",
    "        self.stock_name = stock_name\n",
    "        \n",
    "    def set_code(self, stock_code):\n",
    "        self.stock_code = stock_code\n",
    "\n",
    "a = Stock(None, None)\n",
    "a.set_code(\"005930\")\n",
    "print(a.stock_code)"
   ]
  },
  {
   "cell_type": "code",
   "execution_count": 28,
   "id": "f8decec8",
   "metadata": {},
   "outputs": [
    {
     "name": "stdout",
     "output_type": "stream",
     "text": [
      "삼성전자\n"
     ]
    }
   ],
   "source": [
    "#265\n",
    "class Stock:\n",
    "    def __init__(self,stock_name,stock_code):\n",
    "        self.stock_name = stock_name\n",
    "        self.stock_code = stock_code\n",
    "        \n",
    "    def set_name(self, stock_name):\n",
    "        self.stock_name = stock_name\n",
    "        \n",
    "    def set_code(self, stock_code):\n",
    "        self.stock_code = stock_code\n",
    "        \n",
    "    def get_name(self):\n",
    "        return self.stock_name\n",
    "    \n",
    "    def get_code(self):\n",
    "        return self.stock_code\n",
    "\n",
    "삼성 = Stock(\"삼성전자\", \"005930\")\n",
    "print(삼성.get_name())\n",
    "    "
   ]
  },
  {
   "cell_type": "code",
   "execution_count": 29,
   "id": "915b91cf",
   "metadata": {},
   "outputs": [],
   "source": [
    "#266\n",
    "class Stock:\n",
    "    def __init__(self,stock_name,stock_code,per,pbr,배당수익률):\n",
    "        self.stock_name = stock_name\n",
    "        self.stock_code = stock_code\n",
    "        self.per = per\n",
    "        self.pbr = pbr\n",
    "        self.배당수익률 = 배당수익률\n",
    "        \n",
    "    def set_name(self, stock_name):\n",
    "        self.stock_name = stock_name\n",
    "        \n",
    "    def set_code(self, stock_code):\n",
    "        self.stock_code = stock_code\n",
    "        \n",
    "    def get_name(self):\n",
    "        return self.stock_name\n",
    "    \n",
    "    def get_code(self):\n",
    "        return self.stock_code"
   ]
  },
  {
   "cell_type": "code",
   "execution_count": 31,
   "id": "011535f1",
   "metadata": {},
   "outputs": [],
   "source": [
    "#267\n",
    "삼성 = Stock(\"삼성전자\", \"005930\", 15.79,1.33,2.83)"
   ]
  },
  {
   "cell_type": "code",
   "execution_count": 32,
   "id": "30768390",
   "metadata": {},
   "outputs": [],
   "source": [
    "#268\n",
    "class Stock:\n",
    "    def __init__(self,stock_name,stock_code,per,pbr,배당수익률):\n",
    "        self.stock_name = stock_name\n",
    "        self.stock_code = stock_code\n",
    "        self.per = per\n",
    "        self.pbr = pbr\n",
    "        self.배당수익률 = 배당수익률\n",
    "        \n",
    "    def set_name(self, stock_name):\n",
    "        self.stock_name = stock_name\n",
    "        \n",
    "    def set_code(self, stock_code):\n",
    "        self.stock_code = stock_code\n",
    "        \n",
    "    def get_name(self):\n",
    "        return self.stock_name\n",
    "    \n",
    "    def get_code(self):\n",
    "        return self.stock_code\n",
    "    \n",
    "    def set_per(self, per):\n",
    "        self.per = per\n",
    "    def set_pbr(self, pbr):\n",
    "        self.pbr = pbr\n",
    "    def set_dividend(self, 배당수익률):\n",
    "        self.배당수익률 = 배당수익률"
   ]
  },
  {
   "cell_type": "code",
   "execution_count": 36,
   "id": "dbc850da",
   "metadata": {},
   "outputs": [
    {
     "name": "stdout",
     "output_type": "stream",
     "text": [
      "12.75\n"
     ]
    }
   ],
   "source": [
    "#269\n",
    "삼성 = Stock(\"삼성전자\", \"005930\", 15.79,1.33,2.83)\n",
    "삼성.set_per = 12.75\n",
    "print(삼성.set_per)"
   ]
  },
  {
   "cell_type": "code",
   "execution_count": 37,
   "id": "cdcb218d",
   "metadata": {},
   "outputs": [
    {
     "name": "stdout",
     "output_type": "stream",
     "text": [
      "005930 15.79\n",
      "005380 8.7\n",
      "066570 317.34\n"
     ]
    }
   ],
   "source": [
    "#270\n",
    "a = []\n",
    "삼성 = Stock(\"삼성전자\", \"005930\", 15.79,1.33,2.83)\n",
    "현대자동차 = Stock(\"현대차\", \"005380\", 8.70, 0.35, 4.27)\n",
    "LG = Stock(\"LG전자\", \"066570\", 317.34, 0.69, 1.37)\n",
    "\n",
    "a.append(삼성)\n",
    "a.append(현대자동차)\n",
    "a.append(LG)\n",
    "\n",
    "for i in a:\n",
    "    print(i.stock_code, i.per)"
   ]
  },
  {
   "cell_type": "code",
   "execution_count": 40,
   "id": "fb655274",
   "metadata": {},
   "outputs": [
    {
     "name": "stdout",
     "output_type": "stream",
     "text": [
      "김민수\n",
      "100\n",
      "SC은행\n",
      "149-10-580468\n"
     ]
    }
   ],
   "source": [
    "#271 ㅠㅠ못 푼 문제\n",
    "import random\n",
    "class Account:\n",
    "    def __init__(self, name, money):\n",
    "        self.name = name\n",
    "        self.money = money\n",
    "        self.bank = \"SC은행\"\n",
    "        num1 = random.randint(0, 999)\n",
    "        num2 = random.randint(0, 99)\n",
    "        num3 = random.randint(0, 999999)\n",
    "\n",
    "        num1 = str(num1).zfill(3)      # 1 -> '1' -> '001'\n",
    "        num2 = str(num2).zfill(2)      # 1 -> '1' -> '01'\n",
    "        num3 = str(num3).zfill(6)      # 1 -> '1' -> '0000001'\n",
    "        self.account_number = num1 + '-' + num2 + '-' + num3  # 001-01-000001\n",
    "\n",
    "kim = Account(\"김민수\", 100)\n",
    "print(kim.name)\n",
    "print(kim.money)\n",
    "print(kim.bank)\n",
    "print(kim.account_number)"
   ]
  },
  {
   "cell_type": "code",
   "execution_count": 41,
   "id": "54eca577",
   "metadata": {},
   "outputs": [
    {
     "name": "stdout",
     "output_type": "stream",
     "text": [
      "1\n",
      "2\n"
     ]
    }
   ],
   "source": [
    "#272\n",
    "import random\n",
    "class Account:\n",
    "    account_count = 0\n",
    "    def __init__(self, name, money):\n",
    "        self.name = name\n",
    "        self.money = money\n",
    "        self.bank = \"SC은행\"\n",
    "        num1 = random.randint(0, 999)\n",
    "        num2 = random.randint(0, 99)\n",
    "        num3 = random.randint(0, 999999)\n",
    "\n",
    "        num1 = str(num1).zfill(3)      \n",
    "        num2 = str(num2).zfill(2)     \n",
    "        num3 = str(num3).zfill(6)      \n",
    "        self.account_number = num1 + '-' + num2 + '-' + num3  \n",
    "        \n",
    "        Account.account_count += 1\n",
    "        \n",
    "    \n",
    "\n",
    "kim = Account(\"김민수\", 100)\n",
    "print(Account.account_count)\n",
    "Jo = Account(\"조율무\", 10000)\n",
    "print(Account.account_count)"
   ]
  },
  {
   "cell_type": "code",
   "execution_count": 45,
   "id": "32eb5d6e",
   "metadata": {},
   "outputs": [
    {
     "name": "stdout",
     "output_type": "stream",
     "text": [
      "2\n"
     ]
    }
   ],
   "source": [
    "#273\n",
    "import random\n",
    "class Account:\n",
    "    account_count = 0\n",
    "    def __init__(self, name, money):\n",
    "        self.name = name\n",
    "        self.money = money\n",
    "        self.bank = \"SC은행\"\n",
    "        num1 = random.randint(0, 999)\n",
    "        num2 = random.randint(0, 99)\n",
    "        num3 = random.randint(0, 999999)\n",
    "\n",
    "        num1 = str(num1).zfill(3)      \n",
    "        num2 = str(num2).zfill(2)     \n",
    "        num3 = str(num3).zfill(6)      \n",
    "        self.account_number = num1 + '-' + num2 + '-' + num3  \n",
    "        \n",
    "        Account.account_count += 1\n",
    "        \n",
    "    def get_account_num(self):\n",
    "        print(self.account_count)\n",
    "\n",
    "kim = Account(\"김민수\", 100)\n",
    "Jo = Account(\"조율무\", 10000)\n",
    "Jo.get_account_num()"
   ]
  },
  {
   "cell_type": "code",
   "execution_count": 46,
   "id": "f739bcd1",
   "metadata": {},
   "outputs": [],
   "source": [
    "#274\n",
    "import random\n",
    "class Account:\n",
    "    account_count = 0\n",
    "    def __init__(self, name, money):\n",
    "        self.name = name\n",
    "        self.money = money\n",
    "        self.bank = \"SC은행\"\n",
    "        num1 = random.randint(0, 999)\n",
    "        num2 = random.randint(0, 99)\n",
    "        num3 = random.randint(0, 999999)\n",
    "\n",
    "        num1 = str(num1).zfill(3)      \n",
    "        num2 = str(num2).zfill(2)     \n",
    "        num3 = str(num3).zfill(6)      \n",
    "        self.account_number = num1 + '-' + num2 + '-' + num3  \n",
    "        \n",
    "        Account.account_count += 1\n",
    "        \n",
    "    def get_account_num(self):\n",
    "        print(self.account_count)\n",
    "        \n",
    "    def deposit(self, deposit):\n",
    "        self.deposit = deposit\n",
    "        if deposit >= 1:\n",
    "            self.money += deposit\n"
   ]
  },
  {
   "cell_type": "code",
   "execution_count": 47,
   "id": "28bc3a1b",
   "metadata": {},
   "outputs": [],
   "source": [
    "#275\n",
    "import random\n",
    "class Account:\n",
    "    account_count = 0\n",
    "    def __init__(self, name, money):\n",
    "        self.name = name\n",
    "        self.money = money\n",
    "        self.bank = \"SC은행\"\n",
    "        num1 = random.randint(0, 999)\n",
    "        num2 = random.randint(0, 99)\n",
    "        num3 = random.randint(0, 999999)\n",
    "\n",
    "        num1 = str(num1).zfill(3)      \n",
    "        num2 = str(num2).zfill(2)     \n",
    "        num3 = str(num3).zfill(6)      \n",
    "        self.account_number = num1 + '-' + num2 + '-' + num3  \n",
    "        \n",
    "        Account.account_count += 1\n",
    "        \n",
    "    def get_account_num(self):\n",
    "        print(self.account_count)\n",
    "        \n",
    "    def deposit(self, deposit):\n",
    "        self.deposit = deposit\n",
    "        if deposit >= 1:\n",
    "            self.money += deposit\n",
    "            \n",
    "    def withdraw(self, amount):\n",
    "        self.amount = amount\n",
    "        if amount < self.money:\n",
    "            self.money -= amount"
   ]
  },
  {
   "cell_type": "code",
   "execution_count": 49,
   "id": "0a39be2a",
   "metadata": {},
   "outputs": [
    {
     "name": "stdout",
     "output_type": "stream",
     "text": [
      "은행이름:  SC은행\n",
      "예금주:  파이썬\n",
      "계좌번호:  534-77-275427\n",
      "잔고:  10,000\n"
     ]
    }
   ],
   "source": [
    "#276\n",
    "import random\n",
    "class Account:\n",
    "    account_count = 0\n",
    "    def __init__(self, name, money):\n",
    "        self.name = name\n",
    "        self.money = money\n",
    "        self.bank = \"SC은행\"\n",
    "        num1 = random.randint(0, 999)\n",
    "        num2 = random.randint(0, 99)\n",
    "        num3 = random.randint(0, 999999)\n",
    "\n",
    "        num1 = str(num1).zfill(3)      \n",
    "        num2 = str(num2).zfill(2)     \n",
    "        num3 = str(num3).zfill(6)      \n",
    "        self.account_number = num1 + '-' + num2 + '-' + num3  \n",
    "        \n",
    "        Account.account_count += 1\n",
    "        \n",
    "    def get_account_num(self):\n",
    "        print(self.account_count)\n",
    "        \n",
    "    def deposit(self, deposit):\n",
    "        self.deposit = deposit\n",
    "        if deposit >= 1:\n",
    "            self.money += deposit\n",
    "            \n",
    "    def withdraw(self, amount):\n",
    "        self.amount = amount\n",
    "        if amount < self.money:\n",
    "            self.money -= amount\n",
    "    \n",
    "    def display_info(self):\n",
    "        print(\"은행이름: \",self.bank)\n",
    "        print(\"예금주: \",self.name)\n",
    "        print(\"계좌번호: \", self.account_number)\n",
    "        print(\"잔고: \", f\"{self.money:,}\")\n",
    "              \n",
    "a = Account(\"파이썬\", 10000)\n",
    "a.display_info()"
   ]
  },
  {
   "cell_type": "code",
   "execution_count": 50,
   "id": "d6f240dd",
   "metadata": {},
   "outputs": [],
   "source": [
    "#277\n",
    "import random\n",
    "class Account:\n",
    "    account_count = 0\n",
    "    def __init__(self, name, money):\n",
    "        self.name = name\n",
    "        self.money = money\n",
    "        self.bank = \"SC은행\"\n",
    "        num1 = random.randint(0, 999)\n",
    "        num2 = random.randint(0, 99)\n",
    "        num3 = random.randint(0, 999999)\n",
    "\n",
    "        num1 = str(num1).zfill(3)      \n",
    "        num2 = str(num2).zfill(2)     \n",
    "        num3 = str(num3).zfill(6)      \n",
    "        self.account_number = num1 + '-' + num2 + '-' + num3  \n",
    "        \n",
    "        Account.account_count += 1\n",
    "        \n",
    "    def get_account_num(self):\n",
    "        print(self.account_count)\n",
    "        \n",
    "    def deposit(self, deposit):\n",
    "        self.deposit = deposit\n",
    "        if deposit >= 1:\n",
    "            self.money += deposit\n",
    "            \n",
    "            self.deposit_count += 1\n",
    "            if self.deposit_coount % 5 == 0:\n",
    "                self.money *= 1.01\n",
    "                \n",
    "            \n",
    "    def withdraw(self, amount):\n",
    "        self.amount = amount\n",
    "        if amount < self.money:\n",
    "            self.money -= amount\n",
    "    \n",
    "    def display_info(self):\n",
    "        print(\"은행이름: \",self.bank)\n",
    "        print(\"예금주: \",self.name)\n",
    "        print(\"계좌번호: \", self.account_number)\n",
    "        print(\"잔고: \", f\"{self.money:,}\")\n",
    "    "
   ]
  },
  {
   "cell_type": "code",
   "execution_count": 56,
   "id": "bd8ade8f",
   "metadata": {},
   "outputs": [
    {
     "name": "stdout",
     "output_type": "stream",
     "text": [
      "[<__main__.Account object at 0x00000235832C1250>, <__main__.Account object at 0x00000235832C1CD0>, <__main__.Account object at 0x00000235832C3310>]\n"
     ]
    }
   ],
   "source": [
    "#278\n",
    "\n",
    "a = []\n",
    "\n",
    "python = Account(\"파이썬\", 10000)\n",
    "kim = Account(\"김민수\", 100)\n",
    "Jo = Account(\"조율무\", 10000000)\n",
    "\n",
    "a.append(python)\n",
    "a.append(kim)\n",
    "a.append(Jo)\n",
    "\n",
    "print(a)"
   ]
  },
  {
   "cell_type": "code",
   "execution_count": 57,
   "id": "a3dafc81",
   "metadata": {},
   "outputs": [
    {
     "name": "stdout",
     "output_type": "stream",
     "text": [
      "은행이름:  SC은행\n",
      "예금주:  조율무\n",
      "계좌번호:  820-26-756977\n",
      "잔고:  10,000,000\n"
     ]
    }
   ],
   "source": [
    "#279\n",
    "for i in a:\n",
    "    if i.money>= 1000000:\n",
    "        i.display_info()"
   ]
  },
  {
   "cell_type": "code",
   "execution_count": 58,
   "id": "97528ab8",
   "metadata": {},
   "outputs": [],
   "source": [
    "#280\n",
    "import random\n",
    "\n",
    "\n",
    "class Account:\n",
    "    account_count = 0\n",
    "\n",
    "    def __init__(self, name, balance):\n",
    "        self.deposit_count = 0\n",
    "        self.deposit_log = []\n",
    "        self.withdraw_log = []\n",
    "\n",
    "        self.name = name\n",
    "        self.balance = balance\n",
    "        self.bank = \"SC은행\"\n",
    "\n",
    "\n",
    "        num1 = random.randint(0, 999)\n",
    "        num2 = random.randint(0, 99)\n",
    "        num3 = random.randint(0, 999999)\n",
    "\n",
    "        num1 = str(num1).zfill(3)  \n",
    "        num2 = str(num2).zfill(2)  \n",
    "        num3 = str(num3).zfill(6) \n",
    "        self.account_number = num1 + '-' + num2 + '-' + num3  \n",
    "        Account.account_count += 1\n",
    "\n",
    " \n",
    "    def get_account_num(cls):\n",
    "        print(cls.account_count) \n",
    "\n",
    "    def deposit(self, amount):\n",
    "        if amount >= 1:\n",
    "            self.deposit_log.append(amount)\n",
    "            self.balance += amount\n",
    "\n",
    "            self.deposit_count += 1\n",
    "            if self.deposit_count % 5 == 0:       \n",
    "                self.balance = (self.balance * 1.01)\n",
    "\n",
    "\n",
    "    def withdraw(self, amount):\n",
    "        if self.balance > amount:\n",
    "            self.withdraw_log.append(amount)\n",
    "            self.balance -= amount\n",
    "\n",
    "    def display_info(self):\n",
    "        print(\"은행이름: \", self.bank)\n",
    "        print(\"예금주: \", self.name)\n",
    "        print(\"계좌번호: \", self.account_number)\n",
    "        print(\"잔고: \", self.balance)\n",
    "\n",
    "    def withdraw_history(self):\n",
    "        for amount in self.withdraw_log:\n",
    "            print(amount)\n",
    "\n",
    "    def deposit_history(self):\n",
    "        for amount in self.deposit_log:\n",
    "            print(amount)"
   ]
  },
  {
   "cell_type": "code",
   "execution_count": 59,
   "id": "01d56b1d",
   "metadata": {},
   "outputs": [
    {
     "data": {
      "text/plain": [
       "2"
      ]
     },
     "execution_count": 59,
     "metadata": {},
     "output_type": "execute_result"
    }
   ],
   "source": [
    "#281\n",
    "class 차:\n",
    "    def __init__(self,바퀴,가격):\n",
    "        self.바퀴 = 바퀴\n",
    "        self.가격 = 가격\n",
    "\n",
    "car = 차(2, 1000)\n",
    "car.바퀴"
   ]
  },
  {
   "cell_type": "code",
   "execution_count": 60,
   "id": "c92acb82",
   "metadata": {},
   "outputs": [],
   "source": [
    "#282\n",
    "class 자전차(차):\n",
    "    pass"
   ]
  },
  {
   "cell_type": "code",
   "execution_count": 61,
   "id": "145dff67",
   "metadata": {},
   "outputs": [
    {
     "data": {
      "text/plain": [
       "100"
      ]
     },
     "execution_count": 61,
     "metadata": {},
     "output_type": "execute_result"
    }
   ],
   "source": [
    "#283\n",
    "class 자전차(차):\n",
    "    def __init__(self,바퀴,가격):\n",
    "        self.바퀴 = 바퀴\n",
    "        self.가격 = 가격\n",
    "        \n",
    "bicycle = 자전차(2, 100)\n",
    "bicycle.가격"
   ]
  },
  {
   "cell_type": "code",
   "execution_count": 62,
   "id": "1aac73df",
   "metadata": {},
   "outputs": [
    {
     "data": {
      "text/plain": [
       "'시마노'"
      ]
     },
     "execution_count": 62,
     "metadata": {},
     "output_type": "execute_result"
    }
   ],
   "source": [
    "#284\n",
    "class 자전차(차):\n",
    "    def __init__(self,바퀴,가격,구동계):\n",
    "        self.바퀴 = 바퀴\n",
    "        self.가격 = 가격\n",
    "        self.구동계 = 구동계\n",
    "\n",
    "bicycle = 자전차(2, 100, \"시마노\")\n",
    "bicycle.구동계        "
   ]
  },
  {
   "cell_type": "code",
   "execution_count": 64,
   "id": "5f045eaa",
   "metadata": {},
   "outputs": [
    {
     "name": "stdout",
     "output_type": "stream",
     "text": [
      "바퀴 수  4\n",
      "가격  1000\n"
     ]
    }
   ],
   "source": [
    "#285\n",
    "class 자동차(차):\n",
    "    def 정보(self):\n",
    "        print(\"바퀴 수 \", self.바퀴)\n",
    "        print(\"가격 \", self.가격)\n",
    "        \n",
    "car = 자동차(4, 1000)\n",
    "car.정보()"
   ]
  },
  {
   "cell_type": "code",
   "execution_count": 66,
   "id": "622cf2cb",
   "metadata": {},
   "outputs": [
    {
     "name": "stdout",
     "output_type": "stream",
     "text": [
      "바퀴 수  2\n",
      "가격  100\n"
     ]
    }
   ],
   "source": [
    "#286\n",
    "class 차:\n",
    "    def __init__(self,바퀴,가격):\n",
    "        self.바퀴 = 바퀴\n",
    "        self.가격 = 가격\n",
    "        \n",
    "    def 정보(self):\n",
    "        print(\"바퀴 수 \", self.바퀴)\n",
    "        print(\"가격 \", self.가격)\n",
    "\n",
    "class 자전차(차):\n",
    "    def __init__(self,바퀴,가격,구동계):\n",
    "        self.바퀴 = 바퀴\n",
    "        self.가격 = 가격\n",
    "        self.구동계 = 구동계\n",
    "    \n",
    "\n",
    "bicycle = 자전차(2, 100, \"시마노\")\n",
    "bicycle.정보()"
   ]
  },
  {
   "cell_type": "code",
   "execution_count": 67,
   "id": "ac5ac6f4",
   "metadata": {},
   "outputs": [
    {
     "name": "stdout",
     "output_type": "stream",
     "text": [
      "바퀴 수  2\n",
      "가격  100\n",
      "구동계  시마노\n"
     ]
    }
   ],
   "source": [
    "#287\n",
    "class 차:\n",
    "    def __init__(self,바퀴,가격):\n",
    "        self.바퀴 = 바퀴\n",
    "        self.가격 = 가격\n",
    "        \n",
    "    def 정보(self):\n",
    "        print(\"바퀴 수 \", self.바퀴)\n",
    "        print(\"가격 \", self.가격)\n",
    "\n",
    "class 자전차(차):\n",
    "    def __init__(self,바퀴,가격,구동계):\n",
    "        self.바퀴 = 바퀴\n",
    "        self.가격 = 가격\n",
    "        self.구동계 = 구동계\n",
    "    def 정보(self):\n",
    "        super().정보()\n",
    "        print(\"구동계 \", self.구동계)\n",
    "        \n",
    "bicycle = 자전차(2, 100, \"시마노\")\n",
    "bicycle.정보()"
   ]
  },
  {
   "cell_type": "code",
   "execution_count": 69,
   "id": "89639b42",
   "metadata": {},
   "outputs": [],
   "source": [
    "#288\n",
    "#자식호출 만 나옴"
   ]
  },
  {
   "cell_type": "code",
   "execution_count": 70,
   "id": "c26dfa43",
   "metadata": {},
   "outputs": [],
   "source": [
    "#289\n",
    "#자식생성 만 나옴"
   ]
  },
  {
   "cell_type": "code",
   "execution_count": 71,
   "id": "8b8b88c0",
   "metadata": {},
   "outputs": [],
   "source": [
    "#290\n",
    "#자식생성\n",
    "#부모생성"
   ]
  }
 ],
 "metadata": {
  "kernelspec": {
   "display_name": "Python 3 (ipykernel)",
   "language": "python",
   "name": "python3"
  },
  "language_info": {
   "codemirror_mode": {
    "name": "ipython",
    "version": 3
   },
   "file_extension": ".py",
   "mimetype": "text/x-python",
   "name": "python",
   "nbconvert_exporter": "python",
   "pygments_lexer": "ipython3",
   "version": "3.11.5"
  }
 },
 "nbformat": 4,
 "nbformat_minor": 5
}
