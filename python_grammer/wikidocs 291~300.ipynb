{
 "cells": [
  {
   "cell_type": "code",
   "execution_count": 4,
   "id": "d76d04df",
   "metadata": {},
   "outputs": [],
   "source": [
    "#291\n",
    "f = open('C:\\\\Users\\\\cocom\\\\Desktop\\\\매수종목1.txt','w')\n",
    "f.write(\"005930\\n\")\n",
    "f.write(\"005380\\n\")\n",
    "f.write(\"035420\\n\")\n",
    "f.close()"
   ]
  },
  {
   "cell_type": "code",
   "execution_count": 5,
   "id": "59173066",
   "metadata": {},
   "outputs": [],
   "source": [
    "#291번에서 유니코드 에러가 자꾸 나타남. 그 이유가 \\U를 유니코드로 인식해서\n",
    "#경로에 \\\\로 표시해주니 오류가 사라짐"
   ]
  },
  {
   "cell_type": "code",
   "execution_count": 6,
   "id": "adbe7d77",
   "metadata": {},
   "outputs": [],
   "source": [
    "#292\n",
    "f = open('C:\\\\Users\\\\cocom\\\\Desktop\\\\매수종목2.txt','w')\n",
    "f.write(\"005930 삼성전자\\n\")\n",
    "f.write(\"005380 현대차\\n\")\n",
    "f.write(\"035420 NAVER\\n\")\n",
    "f.close()"
   ]
  },
  {
   "cell_type": "code",
   "execution_count": 10,
   "id": "e8b84551",
   "metadata": {},
   "outputs": [],
   "source": [
    "#293\n",
    "import csv\n",
    "f = open('C:\\\\Users\\\\cocom\\\\Desktop\\\\매수종목.csv','w', encoding = 'cp949', newline = '')\n",
    "writer = csv.writer(f)\n",
    "writer.writerow(['종목명','종목코드','PER'])\n",
    "writer.writerow(['삼성전자','005930','15.79'])\n",
    "writer.writerow(['NAVER','035420','55.82'])\n",
    "f.close()"
   ]
  },
  {
   "cell_type": "code",
   "execution_count": 6,
   "id": "a90a37e3",
   "metadata": {},
   "outputs": [
    {
     "name": "stdout",
     "output_type": "stream",
     "text": [
      "['005930', '005380', '035420']\n"
     ]
    }
   ],
   "source": [
    "#294\n",
    "f = open('C:\\\\Users\\\\cocom\\\\Desktop\\\\매수종목1.txt','r')\n",
    "line = f.readlines()\n",
    "\n",
    "code = []\n",
    "for i in line:\n",
    "    code.append(i.split('\\n')[0])\n",
    "print(code)\n",
    "\n",
    "f.close()"
   ]
  },
  {
   "cell_type": "code",
   "execution_count": 7,
   "id": "9f28c92e",
   "metadata": {},
   "outputs": [
    {
     "name": "stdout",
     "output_type": "stream",
     "text": [
      "{'005930': '삼성전자', '005380': '현대차', '035420': 'NAVER'}\n"
     ]
    }
   ],
   "source": [
    "#295\n",
    "f = open('C:\\\\Users\\\\cocom\\\\Desktop\\\\매수종목2.txt','r')\n",
    "lines = f.readlines()\n",
    "\n",
    "종목 = {}\n",
    "for i in lines:\n",
    "    i = i.strip()\n",
    "    종목코드, 종목명 = i.split()\n",
    "    종목[종목코드] = 종목명\n",
    "\n",
    "print(종목)\n",
    "f.close()"
   ]
  },
  {
   "cell_type": "code",
   "execution_count": 10,
   "id": "7fb294e4",
   "metadata": {},
   "outputs": [
    {
     "name": "stdout",
     "output_type": "stream",
     "text": [
      "10.31\n",
      "0\n",
      "8.0\n"
     ]
    }
   ],
   "source": [
    "#296\n",
    "per = [\"10.31\", \"\", \"8.00\"]\n",
    "    \n",
    "for i in per:\n",
    "    try:\n",
    "        print(float(i))\n",
    "    except ValueError:\n",
    "        print(0)"
   ]
  },
  {
   "cell_type": "code",
   "execution_count": 11,
   "id": "deac2d5e",
   "metadata": {},
   "outputs": [
    {
     "name": "stdout",
     "output_type": "stream",
     "text": [
      "[10.31, 0, 8.0]\n"
     ]
    }
   ],
   "source": [
    "#297\n",
    "per = [\"10.31\", \"\", \"8.00\"]\n",
    "per2 = []\n",
    "for i in per:\n",
    "    try:\n",
    "        a = float(i)\n",
    "    except ValueError:\n",
    "        a = 0\n",
    "    per2.append(a)\n",
    "print(per2)"
   ]
  },
  {
   "cell_type": "code",
   "execution_count": 12,
   "id": "646d618b",
   "metadata": {},
   "outputs": [
    {
     "name": "stdout",
     "output_type": "stream",
     "text": [
      "0으로 나눌 수 없습니다.\n"
     ]
    }
   ],
   "source": [
    "#298\n",
    "try:\n",
    "    a = 4/0\n",
    "except ZeroDivisionError:\n",
    "    print(\"0으로 나눌 수 없습니다.\")"
   ]
  },
  {
   "cell_type": "code",
   "execution_count": 14,
   "id": "aec4f4d5",
   "metadata": {},
   "outputs": [
    {
     "name": "stdout",
     "output_type": "stream",
     "text": [
      "1\n",
      "2\n",
      "3\n",
      "list index out of range\n",
      "list index out of range\n"
     ]
    }
   ],
   "source": [
    "#299\n",
    "data = [1, 2, 3]\n",
    "\n",
    "for i in range(5):\n",
    "    try:\n",
    "        print(data[i])\n",
    "    except IndexError as e:\n",
    "        print(e)"
   ]
  },
  {
   "cell_type": "code",
   "execution_count": 15,
   "id": "443aac8f",
   "metadata": {},
   "outputs": [
    {
     "name": "stdout",
     "output_type": "stream",
     "text": [
      "10.31\n",
      "에러가 발생하지 않았다\n",
      "변환 완료\n",
      "0\n",
      "변환 완료\n",
      "8.0\n",
      "에러가 발생하지 않았다\n",
      "변환 완료\n"
     ]
    }
   ],
   "source": [
    "#300\n",
    "per = [\"10.31\", \"\", \"8.00\"]\n",
    "\n",
    "for i in per:\n",
    "    try:\n",
    "        print(float(i))\n",
    "    except:\n",
    "        print(0)\n",
    "    else:\n",
    "        print(\"에러가 발생하지 않았다\")\n",
    "    finally:\n",
    "        print(\"변환 완료\")"
   ]
  }
 ],
 "metadata": {
  "kernelspec": {
   "display_name": "Python 3 (ipykernel)",
   "language": "python",
   "name": "python3"
  },
  "language_info": {
   "codemirror_mode": {
    "name": "ipython",
    "version": 3
   },
   "file_extension": ".py",
   "mimetype": "text/x-python",
   "name": "python",
   "nbconvert_exporter": "python",
   "pygments_lexer": "ipython3",
   "version": "3.11.5"
  }
 },
 "nbformat": 4,
 "nbformat_minor": 5
}
