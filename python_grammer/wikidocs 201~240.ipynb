{
 "cells": [
  {
   "cell_type": "markdown",
   "id": "a9e441be",
   "metadata": {},
   "source": [
    "# 파이썬 함수"
   ]
  },
  {
   "cell_type": "code",
   "execution_count": 9,
   "id": "5f5eea5b",
   "metadata": {},
   "outputs": [
    {
     "name": "stdout",
     "output_type": "stream",
     "text": [
      "비트코인\n"
     ]
    }
   ],
   "source": [
    "#201\n",
    "def print_coin():\n",
    "    print(\"비트코인\")\n",
    "\n",
    "print_coin()"
   ]
  },
  {
   "cell_type": "code",
   "execution_count": 10,
   "id": "ac3f8b96",
   "metadata": {},
   "outputs": [
    {
     "name": "stdout",
     "output_type": "stream",
     "text": [
      "비트코인\n"
     ]
    }
   ],
   "source": [
    "#202\n",
    "print_coin()"
   ]
  },
  {
   "cell_type": "code",
   "execution_count": null,
   "id": "b129af01",
   "metadata": {},
   "outputs": [],
   "source": [
    "#203\n",
    "for i in range(100):\n",
    "    print_coin()"
   ]
  },
  {
   "cell_type": "code",
   "execution_count": null,
   "id": "0941fae4",
   "metadata": {},
   "outputs": [],
   "source": [
    "#204\n",
    "def print_coin():\n",
    "    for i in range(100):\n",
    "        print(\"비트코인\")\n",
    "        \n",
    "print_coin()"
   ]
  },
  {
   "cell_type": "code",
   "execution_count": 13,
   "id": "47b41719",
   "metadata": {},
   "outputs": [],
   "source": [
    "#205\n",
    "#hello()라는 함수가 정의되기 전에 실행되어서 def로 hello() 함수가 정의된 다음에 그 아래에 hello()를 실행하면 에러가 발생하지 않음"
   ]
  },
  {
   "cell_type": "code",
   "execution_count": 14,
   "id": "5579f34d",
   "metadata": {},
   "outputs": [],
   "source": [
    "#206\n",
    "#A\n",
    "#B\n",
    "#C\n",
    "#A\n",
    "#B"
   ]
  },
  {
   "cell_type": "code",
   "execution_count": 15,
   "id": "7be4b291",
   "metadata": {},
   "outputs": [],
   "source": [
    "#207\n",
    "#A\n",
    "#C\n",
    "#B"
   ]
  },
  {
   "cell_type": "code",
   "execution_count": 16,
   "id": "f835eade",
   "metadata": {},
   "outputs": [],
   "source": [
    "#208\n",
    "#A\n",
    "#C\n",
    "#B\n",
    "#E\n",
    "#D"
   ]
  },
  {
   "cell_type": "code",
   "execution_count": 17,
   "id": "a8565180",
   "metadata": {},
   "outputs": [],
   "source": [
    "#209\n",
    "#B\n",
    "#A"
   ]
  },
  {
   "cell_type": "code",
   "execution_count": 18,
   "id": "7996dd2b",
   "metadata": {},
   "outputs": [],
   "source": [
    "#210\n",
    "#B\n",
    "#C\n",
    "#B\n",
    "#C\n",
    "#B\n",
    "#C\n",
    "#A"
   ]
  },
  {
   "cell_type": "code",
   "execution_count": 19,
   "id": "99133760",
   "metadata": {},
   "outputs": [],
   "source": [
    "#211\n",
    "#\"안녕\"\n",
    "#\"Hi\""
   ]
  },
  {
   "cell_type": "code",
   "execution_count": 20,
   "id": "a8aff4a3",
   "metadata": {},
   "outputs": [],
   "source": [
    "#212\n",
    "#7\n",
    "#15"
   ]
  },
  {
   "cell_type": "code",
   "execution_count": 21,
   "id": "504ac3fd",
   "metadata": {},
   "outputs": [],
   "source": [
    "#213\n",
    "#입력값이 필요한 함수라 입력값을 넣어주지 않아 오류가 남"
   ]
  },
  {
   "cell_type": "code",
   "execution_count": 22,
   "id": "57fe8194",
   "metadata": {},
   "outputs": [],
   "source": [
    "#214\n",
    "#문자열과 숫자는 서로 더 할 수 없음. 같은 타입으로 변수를 바꿔줘야 함"
   ]
  },
  {
   "cell_type": "code",
   "execution_count": 25,
   "id": "f66de047",
   "metadata": {},
   "outputs": [],
   "source": [
    "#215\n",
    "def print_with_smile(변수):\n",
    "    print(변수+\":D\")"
   ]
  },
  {
   "cell_type": "code",
   "execution_count": 26,
   "id": "ba93f4fe",
   "metadata": {},
   "outputs": [
    {
     "name": "stdout",
     "output_type": "stream",
     "text": [
      "안녕하세요:D\n"
     ]
    }
   ],
   "source": [
    "#216\n",
    "print_with_smile(\"안녕하세요\")"
   ]
  },
  {
   "cell_type": "code",
   "execution_count": 28,
   "id": "13d73e36",
   "metadata": {},
   "outputs": [
    {
     "name": "stdout",
     "output_type": "stream",
     "text": [
      "130.0\n"
     ]
    }
   ],
   "source": [
    "#217\n",
    "def print_upper_price(가격):\n",
    "    print(가격*1.3)\n",
    "\n",
    "print_upper_price(100)"
   ]
  },
  {
   "cell_type": "code",
   "execution_count": 29,
   "id": "371a0d31",
   "metadata": {},
   "outputs": [
    {
     "name": "stdout",
     "output_type": "stream",
     "text": [
      "11\n"
     ]
    }
   ],
   "source": [
    "#218\n",
    "def print_sum(a,b):\n",
    "    print(a+b)\n",
    "    \n",
    "print_sum(5,6)"
   ]
  },
  {
   "cell_type": "code",
   "execution_count": 30,
   "id": "a0bc5d4c",
   "metadata": {},
   "outputs": [
    {
     "name": "stdout",
     "output_type": "stream",
     "text": [
      "3 + 4 = 7\n",
      "3 - 4 = -1\n",
      "3 * 4 = 12\n",
      "3 / 4 = 0.75\n"
     ]
    }
   ],
   "source": [
    "#219\n",
    "def print_arithmetic_operation(a, b):\n",
    "    print(f\"{a} + {b} =\", a+b)\n",
    "    print(f\"{a} - {b} =\", a-b)\n",
    "    print(f\"{a} * {b} =\", a*b)\n",
    "    print(f\"{a} / {b} =\", a/b)\n",
    "    \n",
    "print_arithmetic_operation(3, 4)"
   ]
  },
  {
   "cell_type": "code",
   "execution_count": 31,
   "id": "2360143d",
   "metadata": {},
   "outputs": [
    {
     "name": "stdout",
     "output_type": "stream",
     "text": [
      "3\n"
     ]
    }
   ],
   "source": [
    "#220\n",
    "def print_max(a, b, c):\n",
    "    if a>= b and a >= c:\n",
    "        print(a)\n",
    "    elif b>=a and b>=c:\n",
    "        print(b)\n",
    "    else:\n",
    "        print(c)\n",
    "\n",
    "print_max(1, 2, 3)"
   ]
  },
  {
   "cell_type": "code",
   "execution_count": 32,
   "id": "4ffff43f",
   "metadata": {},
   "outputs": [
    {
     "name": "stdout",
     "output_type": "stream",
     "text": [
      "9\n"
     ]
    }
   ],
   "source": [
    "#220 정답\n",
    "def print_max(a, b, c):\n",
    "    max_val = 0\n",
    "    if a > max_val:\n",
    "        max_val = a\n",
    "    if b > max_val:\n",
    "        max_val = b\n",
    "    if c > max_val:\n",
    "        max_val = c\n",
    "    print(max_val)\n",
    "\n",
    "print_max(4,3,9)"
   ]
  },
  {
   "cell_type": "code",
   "execution_count": 34,
   "id": "5155acac",
   "metadata": {},
   "outputs": [
    {
     "name": "stdout",
     "output_type": "stream",
     "text": [
      "nohtyp\n"
     ]
    }
   ],
   "source": [
    "#221\n",
    "def print_reverse(string):\n",
    "    print(string[::-1])\n",
    "print_reverse(\"python\")"
   ]
  },
  {
   "cell_type": "code",
   "execution_count": 36,
   "id": "244b16b8",
   "metadata": {},
   "outputs": [
    {
     "name": "stdout",
     "output_type": "stream",
     "text": [
      "2.0\n"
     ]
    }
   ],
   "source": [
    "#222\n",
    "def print_score(score_list):\n",
    "    print(sum(score_list)/len(score_list))\n",
    "print_score([1,2,3])"
   ]
  },
  {
   "cell_type": "code",
   "execution_count": 37,
   "id": "6c30b6c1",
   "metadata": {},
   "outputs": [
    {
     "name": "stdout",
     "output_type": "stream",
     "text": [
      "2\n",
      "10\n",
      "12\n"
     ]
    }
   ],
   "source": [
    "#223\n",
    "def print_even(num_list):\n",
    "    for i in num_list:\n",
    "        if i % 2 == 0:\n",
    "            print(i)\n",
    "\n",
    "print_even([1,3,2,10,12,11,15])"
   ]
  },
  {
   "cell_type": "code",
   "execution_count": 40,
   "id": "fe34293d",
   "metadata": {},
   "outputs": [
    {
     "name": "stdout",
     "output_type": "stream",
     "text": [
      "이름\n",
      "나이\n",
      "성별\n"
     ]
    }
   ],
   "source": [
    "#224\n",
    "def print_keys(dict_list):\n",
    "    for keys in dict_list.keys():\n",
    "        print(keys)\n",
    "print_keys({\"이름\":\"김말똥\", \"나이\":30, \"성별\":0})"
   ]
  },
  {
   "cell_type": "code",
   "execution_count": 44,
   "id": "68664286",
   "metadata": {},
   "outputs": [
    {
     "name": "stdout",
     "output_type": "stream",
     "text": [
      "[100, 130, 100, 100]\n"
     ]
    }
   ],
   "source": [
    "#225\n",
    "my_dict = {\"10/26\" : [100, 130, 100, 100],\n",
    "           \"10/27\" : [10, 12, 10, 11]}\n",
    "\n",
    "def print_value_by_key(a, b):\n",
    "        print(a[b])\n",
    "print_value_by_key(my_dict, \"10/26\")"
   ]
  },
  {
   "cell_type": "code",
   "execution_count": 46,
   "id": "08fac4bb",
   "metadata": {},
   "outputs": [
    {
     "name": "stdout",
     "output_type": "stream",
     "text": [
      "아이엠어보\n",
      "이유알어걸\n",
      "\n"
     ]
    }
   ],
   "source": [
    "#226\n",
    "def print_5xn(string):\n",
    "    a = int(len(string)/5)\n",
    "    for i in range(a+1):\n",
    "        print(string[i*5:i*5+5])\n",
    "print_5xn(\"아이엠어보이유알어걸\")"
   ]
  },
  {
   "cell_type": "code",
   "execution_count": 1,
   "id": "642a3617",
   "metadata": {},
   "outputs": [
    {
     "name": "stdout",
     "output_type": "stream",
     "text": [
      "아이엠\n",
      "어보이\n",
      "유알어\n",
      "걸\n"
     ]
    }
   ],
   "source": [
    "#227\n",
    "def printmxn(string, a):\n",
    "    b = int(len(string)/a)\n",
    "    for i in range(b+1):\n",
    "        print(string[i*a:i*a+a])\n",
    "printmxn(\"아이엠어보이유알어걸\", 3)\n"
   ]
  },
  {
   "cell_type": "code",
   "execution_count": 2,
   "id": "86c4aba9",
   "metadata": {},
   "outputs": [
    {
     "data": {
      "text/plain": [
       "1000000"
      ]
     },
     "execution_count": 2,
     "metadata": {},
     "output_type": "execute_result"
    }
   ],
   "source": [
    "#228\n",
    "def calc_monthly_salary(annual_salary):\n",
    "    a = int(annual_salary/12)\n",
    "    return a\n",
    "\n",
    "calc_monthly_salary(12000000)"
   ]
  },
  {
   "cell_type": "code",
   "execution_count": 3,
   "id": "ff9a7138",
   "metadata": {},
   "outputs": [],
   "source": [
    "#229\n",
    "#왼쪽 : 100\n",
    "#오른쪽 : 200"
   ]
  },
  {
   "cell_type": "code",
   "execution_count": 4,
   "id": "afde2548",
   "metadata": {},
   "outputs": [],
   "source": [
    "#230\n",
    "#왼쪽 : 200\n",
    "#오른쪽 : 100"
   ]
  },
  {
   "cell_type": "code",
   "execution_count": 5,
   "id": "11590965",
   "metadata": {},
   "outputs": [],
   "source": [
    "#231\n",
    "#에러가 남. result는 로컬 변수이기 때문에 글로벌 영역에서 표시 되지 않음.\n",
    "#return을 사용하면 글로벌 영역에서 사용할 수 있음"
   ]
  },
  {
   "cell_type": "code",
   "execution_count": 11,
   "id": "5a9703f7",
   "metadata": {},
   "outputs": [
    {
     "data": {
      "text/plain": [
       "'www.naver.com'"
      ]
     },
     "execution_count": 11,
     "metadata": {},
     "output_type": "execute_result"
    }
   ],
   "source": [
    "#232\n",
    "def make_url(a):\n",
    "    return f\"www.{a}.com\"\n",
    "    \n",
    "make_url(\"naver\")"
   ]
  },
  {
   "cell_type": "code",
   "execution_count": 16,
   "id": "b0eccbf2",
   "metadata": {},
   "outputs": [
    {
     "data": {
      "text/plain": [
       "['a', 'b', 'c', 'd']"
      ]
     },
     "execution_count": 16,
     "metadata": {},
     "output_type": "execute_result"
    }
   ],
   "source": [
    "#233\n",
    "def make_list(string):\n",
    "    return list(string)\n",
    "\n",
    "make_list(\"abcd\")"
   ]
  },
  {
   "cell_type": "code",
   "execution_count": 17,
   "id": "3efc6fad",
   "metadata": {},
   "outputs": [
    {
     "data": {
      "text/plain": [
       "[4, 6, 8]"
      ]
     },
     "execution_count": 17,
     "metadata": {},
     "output_type": "execute_result"
    }
   ],
   "source": [
    "#234\n",
    "def pickup_even(num_list):\n",
    "    even_list = []\n",
    "    for i in num_list:\n",
    "        if i % 2 == 0:\n",
    "            even_list.append(i)\n",
    "    return even_list\n",
    "\n",
    "pickup_even([3, 4, 5, 6, 7, 8])"
   ]
  },
  {
   "cell_type": "code",
   "execution_count": 19,
   "id": "4dc49423",
   "metadata": {},
   "outputs": [
    {
     "data": {
      "text/plain": [
       "1234567"
      ]
     },
     "execution_count": 19,
     "metadata": {},
     "output_type": "execute_result"
    }
   ],
   "source": [
    "#235\n",
    "def convert_int(string_num):\n",
    "    return int(string_num.replace(\",\",\"\"))\n",
    "\n",
    "convert_int(\"1,234,567\")"
   ]
  },
  {
   "cell_type": "code",
   "execution_count": 20,
   "id": "13fdd207",
   "metadata": {},
   "outputs": [],
   "source": [
    "#236\n",
    "#22"
   ]
  },
  {
   "cell_type": "code",
   "execution_count": 21,
   "id": "b17dc64e",
   "metadata": {},
   "outputs": [],
   "source": [
    "#237\n",
    "#22"
   ]
  },
  {
   "cell_type": "code",
   "execution_count": 22,
   "id": "25ffc8ff",
   "metadata": {},
   "outputs": [],
   "source": [
    "#238\n",
    "#140"
   ]
  },
  {
   "cell_type": "code",
   "execution_count": 23,
   "id": "0187617b",
   "metadata": {},
   "outputs": [],
   "source": [
    "#239\n",
    "#16"
   ]
  },
  {
   "cell_type": "code",
   "execution_count": 24,
   "id": "49914ad1",
   "metadata": {},
   "outputs": [],
   "source": [
    "#240\n",
    "#28"
   ]
  }
 ],
 "metadata": {
  "kernelspec": {
   "display_name": "Python 3 (ipykernel)",
   "language": "python",
   "name": "python3"
  },
  "language_info": {
   "codemirror_mode": {
    "name": "ipython",
    "version": 3
   },
   "file_extension": ".py",
   "mimetype": "text/x-python",
   "name": "python",
   "nbconvert_exporter": "python",
   "pygments_lexer": "ipython3",
   "version": "3.11.5"
  }
 },
 "nbformat": 4,
 "nbformat_minor": 5
}
