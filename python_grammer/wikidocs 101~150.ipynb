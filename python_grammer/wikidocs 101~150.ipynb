{
 "cells": [
  {
   "cell_type": "markdown",
   "id": "f0331f7a",
   "metadata": {},
   "source": [
    "# 파이썬 분기문"
   ]
  },
  {
   "cell_type": "markdown",
   "id": "49b937f1",
   "metadata": {},
   "source": [
    "101. 파이썬에서 True 혹은 False를 갖는 데이터 타입은 무엇인가?"
   ]
  },
  {
   "cell_type": "code",
   "execution_count": 1,
   "id": "ad976e4f",
   "metadata": {},
   "outputs": [],
   "source": [
    "# bool 타입이다."
   ]
  },
  {
   "cell_type": "markdown",
   "id": "cd14508e",
   "metadata": {},
   "source": [
    "102. 아래 코드의 출력 결과를 예상하라\n",
    "\n",
    "print(3 == 5)"
   ]
  },
  {
   "cell_type": "code",
   "execution_count": 2,
   "id": "87ecb142",
   "metadata": {},
   "outputs": [],
   "source": [
    "# 3은 5가 아니기 때문에 False가 출력될 것이다."
   ]
  },
  {
   "cell_type": "markdown",
   "id": "cb725d50",
   "metadata": {},
   "source": [
    "103. 아래 코드의 출력 결과를 예상하라\n",
    "\n",
    "print(3 < 5)"
   ]
  },
  {
   "cell_type": "code",
   "execution_count": 3,
   "id": "74580968",
   "metadata": {},
   "outputs": [],
   "source": [
    "# 3은 5보다 작기 때문에 True 출력됨"
   ]
  },
  {
   "cell_type": "markdown",
   "id": "324d889f",
   "metadata": {},
   "source": [
    "104. 아래 코드의 결과를 예상하라.\n",
    "\n",
    "x = 4\n",
    "print(1 < x < 5)"
   ]
  },
  {
   "cell_type": "code",
   "execution_count": 4,
   "id": "56c7da0f",
   "metadata": {},
   "outputs": [],
   "source": [
    "# 4는 1과 5 사이에 있기 때문에 True 출력됨"
   ]
  },
  {
   "cell_type": "markdown",
   "id": "20ef0eed",
   "metadata": {},
   "source": [
    "105. 아래 코드의 결과를 예상하라.\n",
    "\n",
    "print ((3 == 3) and (4 != 3))"
   ]
  },
  {
   "cell_type": "code",
   "execution_count": 5,
   "id": "60fcf554",
   "metadata": {},
   "outputs": [],
   "source": [
    "# 둘 다 참이여서 True가 출력됨"
   ]
  },
  {
   "cell_type": "markdown",
   "id": "8107224a",
   "metadata": {},
   "source": [
    "106. 아래 코드에서 에러가 발생하는 원인에 대해 설명하라.\n",
    "\n",
    "print(3 => 4)"
   ]
  },
  {
   "cell_type": "code",
   "execution_count": 6,
   "id": "c57b5713",
   "metadata": {},
   "outputs": [],
   "source": [
    "# =>이러 연산자는 없음. >= 이거나 <= 이여야 함."
   ]
  },
  {
   "cell_type": "markdown",
   "id": "30c4afcb",
   "metadata": {},
   "source": [
    "107. 아래 코드의 출력 결과를 예상하라\n",
    "\n",
    "if 4 < 3:   \n",
    "    print(\"Hello World\")"
   ]
  },
  {
   "cell_type": "code",
   "execution_count": 7,
   "id": "d3ad0ed5",
   "metadata": {},
   "outputs": [],
   "source": [
    "# 4<3이 False니까 아무것도 발생하지 않는다."
   ]
  },
  {
   "cell_type": "markdown",
   "id": "6e2430cf",
   "metadata": {},
   "source": [
    "108. 아래 코드의 출력 결과를 예상하라\n",
    "\n",
    "if 4 < 3:   \n",
    "    print(\"Hello World.\")   \n",
    "else:   \n",
    "    print(\"Hi, there.\")"
   ]
  },
  {
   "cell_type": "code",
   "execution_count": 8,
   "id": "f442ac59",
   "metadata": {},
   "outputs": [],
   "source": [
    "# 조건을 만족하지 않아. \"Hi, there.\"이 출력됨"
   ]
  },
  {
   "cell_type": "markdown",
   "id": "5778559b",
   "metadata": {},
   "source": [
    "109. 아래 코드의 출력 결과를 예상하라\n",
    "\n",
    "if True :\n",
    "    print (\"1\")\n",
    "    print (\"2\")\n",
    "else :\n",
    "    print(\"3\")\n",
    "print(\"4\")"
   ]
  },
  {
   "cell_type": "code",
   "execution_count": 9,
   "id": "16bc715f",
   "metadata": {},
   "outputs": [],
   "source": [
    "# 조건을 만족하여\n",
    "#1   \n",
    "#2   \n",
    "#4   \n",
    "#가 출력됨"
   ]
  },
  {
   "cell_type": "markdown",
   "id": "b026f68d",
   "metadata": {},
   "source": [
    "110. 아래 코드의 출력 결과를 예상하라\n",
    "\n",
    "if True :\n",
    "    if False:\n",
    "        print(\"1\")\n",
    "        print(\"2\")\n",
    "    else:\n",
    "        print(\"3\")\n",
    "else :\n",
    "    print(\"4\")\n",
    "print(\"5\")"
   ]
  },
  {
   "cell_type": "code",
   "execution_count": 10,
   "id": "e394709f",
   "metadata": {},
   "outputs": [],
   "source": [
    "#조건을 만족하여\n",
    "#3   \n",
    "#5   \n",
    "#가 출력됨"
   ]
  },
  {
   "cell_type": "markdown",
   "id": "f42e5caf",
   "metadata": {},
   "source": [
    "111. 사용자로부터 입력받은 문자열을 두 번 출력하라. 아래는 사용자가 \"안녕하세요\"를 입력한 경우의 출력 결과이다.\n",
    "\n",
    ">> 안녕하세요\n",
    "안녕하세요안녕하세요"
   ]
  },
  {
   "cell_type": "code",
   "execution_count": 11,
   "id": "e02d054b",
   "metadata": {},
   "outputs": [
    {
     "name": "stdout",
     "output_type": "stream",
     "text": [
      "안녕하세요\n",
      "안녕하세요안녕하세요\n"
     ]
    }
   ],
   "source": [
    "print(input()*2)"
   ]
  },
  {
   "cell_type": "markdown",
   "id": "2144a979",
   "metadata": {},
   "source": [
    "112. 사용자로부터 하나의 숫자를 입력받고, 입력 받은 숫자에 10을 더해 출력하라.\n",
    "\n",
    ">> 숫자를 입력하세요: 30"
   ]
  },
  {
   "cell_type": "code",
   "execution_count": 13,
   "id": "0adbca32",
   "metadata": {},
   "outputs": [
    {
     "name": "stdout",
     "output_type": "stream",
     "text": [
      "숫자를 입력하세요: 30\n",
      "40\n"
     ]
    }
   ],
   "source": [
    "number = input(\"숫자를 입력하세요: \")\n",
    "print(int(number)+10)"
   ]
  },
  {
   "cell_type": "markdown",
   "id": "1dfe3c63",
   "metadata": {},
   "source": [
    "113. 사용자로부터 하나의 숫자를 입력 받고 짝수/홀수를 판별하라.\n",
    "\n",
    ">> 30\n",
    "짝수"
   ]
  },
  {
   "cell_type": "code",
   "execution_count": 14,
   "id": "25f20a9a",
   "metadata": {},
   "outputs": [
    {
     "name": "stdout",
     "output_type": "stream",
     "text": [
      "숫자를 입력하세요: 30\n",
      "짝수\n"
     ]
    }
   ],
   "source": [
    "number = input(\"숫자를 입력하세요: \")\n",
    "if int(number) % 2 == 1:\n",
    "    print(\"홀수\")\n",
    "else:\n",
    "    print(\"짝수\")"
   ]
  },
  {
   "cell_type": "markdown",
   "id": "b11a14e5",
   "metadata": {},
   "source": [
    "114. 사용자로부터 값을 입력받은 후 해당 값에 20을 더한 값을 출력하라.    \n",
    "단 사용자가 입력한 값과 20을 더한 계산 값이 255를 초과하는 경우 255를 출력해야 한다."
   ]
  },
  {
   "cell_type": "code",
   "execution_count": 16,
   "id": "1226522c",
   "metadata": {},
   "outputs": [
    {
     "name": "stdout",
     "output_type": "stream",
     "text": [
      "숫자를 입력하세요: 300\n",
      "255\n"
     ]
    }
   ],
   "source": [
    "number = input(\"숫자를 입력하세요: \")\n",
    "if int(number) < 255:\n",
    "    print(int(number)+20)\n",
    "else :\n",
    "    print(255)"
   ]
  },
  {
   "cell_type": "markdown",
   "id": "87000016",
   "metadata": {},
   "source": [
    "115. 사용자로부터 하나의 값을 입력받은 후 해당 값에 20을 뺀 값을 출력하라. 단 출력 값의 범위는 0~255이다. 예를 들어 결괏값이 0보다 작은 값이되는 경우 0을 출력하고 255보다 큰 값이 되는 경우 255를 출력해야 한다."
   ]
  },
  {
   "cell_type": "code",
   "execution_count": 5,
   "id": "e79597c3",
   "metadata": {},
   "outputs": [
    {
     "name": "stdout",
     "output_type": "stream",
     "text": [
      "숫자를 입력하세요: 280\n",
      "255\n"
     ]
    }
   ],
   "source": [
    "number = input(\"숫자를 입력하세요: \")\n",
    "if int(number)-20 >= 255:\n",
    "    print(255)\n",
    "elif int(number)-20 <= 0:\n",
    "    print(0)\n",
    "else:\n",
    "    print(int(number)-20)\n",
    "    "
   ]
  },
  {
   "cell_type": "markdown",
   "id": "f18c6f0a",
   "metadata": {},
   "source": [
    "116. 사용자로부터 입력 받은 시간이 정각인지 판별하라.\n",
    "\n",
    ">> 현재시간:02:00\n",
    "정각 입니다.\n",
    ">> 현재시간:03:10\n",
    "정각이 아닙니다"
   ]
  },
  {
   "cell_type": "code",
   "execution_count": 7,
   "id": "3889af8b",
   "metadata": {},
   "outputs": [
    {
     "name": "stdout",
     "output_type": "stream",
     "text": [
      "현재 시간 : 8:00\n",
      "정각입니다.\n"
     ]
    }
   ],
   "source": [
    "time = input(\"현재 시간 : \")\n",
    "if time[-2:] == \"00\":\n",
    "    print(\"정각입니다.\")\n",
    "else : \n",
    "    print(\"정각이 아닙니다.\")"
   ]
  },
  {
   "cell_type": "markdown",
   "id": "48c87f63",
   "metadata": {},
   "source": [
    "117. 사용자로 입력받은 단어가 아래 fruit 리스트에 포함되어 있는지를 확인하라. 포함되었다면 \"정답입니다\"를 아닐 경우 \"오답입니다\" 출력하라.\n",
    "\n",
    "fruit = [\"사과\", \"포도\", \"홍시\"]"
   ]
  },
  {
   "cell_type": "code",
   "execution_count": 13,
   "id": "a798ce2e",
   "metadata": {},
   "outputs": [
    {
     "name": "stdout",
     "output_type": "stream",
     "text": [
      "좋아하는 과일은? 바나나\n",
      "오답입니다.\n"
     ]
    }
   ],
   "source": [
    "a = input(\"좋아하는 과일은? \")\n",
    "fruit = [\"사과\", \"포도\", \"홍시\"]\n",
    "if a in fruit:\n",
    "    print(\"정답입니다.\")\n",
    "else : \n",
    "    print(\"오답입니다.\")"
   ]
  },
  {
   "cell_type": "markdown",
   "id": "4ecd9532",
   "metadata": {},
   "source": [
    "118. 투자 경고 종목 리스트가 있을 때 사용자로부터 종목명을 입력 받은 후 해당 종목이 투자 경고 종목이라면 '투자 경고 종목입니다'를 아니면 \"투자 경고 종목이 아닙니다.\"를 출력하는 프로그램을 작성하라.\n",
    "\n",
    "warn_investment_list = [\"Microsoft\", \"Google\", \"Naver\", \"Kakao\", \"SAMSUNG\", \"LG\"]"
   ]
  },
  {
   "cell_type": "code",
   "execution_count": 9,
   "id": "c7f2e21a",
   "metadata": {},
   "outputs": [
    {
     "name": "stdout",
     "output_type": "stream",
     "text": [
      "종목을 입력하세요: LG\n",
      "투자 경고 종목입니다.\n"
     ]
    }
   ],
   "source": [
    "warn_investment_list = [\"Microsoft\", \"Google\", \"Naver\", \"Kakao\", \"SAMSUNG\", \"LG\"]\n",
    "stock = input(\"종목을 입력하세요: \")\n",
    "if stock in warn_investment_list:\n",
    "    print(\"투자 경고 종목입니다.\")\n",
    "else : \n",
    "    print(\"투자 경고 종목이 아닙니다.\")"
   ]
  },
  {
   "cell_type": "markdown",
   "id": "b3f1efa9",
   "metadata": {},
   "source": [
    "119. 아래와 같이 fruit 딕셔너리가 정의되어 있다. 사용자가 입력한 값이 딕셔너리 키 (key) 값에 포함되었다면 \"정답입니다\"를 아닐 경우 \"오답입니다\" 출력하라.\n",
    "\n",
    "fruit = {\"봄\" : \"딸기\", \"여름\" : \"토마토\", \"가을\" : \"사과\"}"
   ]
  },
  {
   "cell_type": "code",
   "execution_count": 14,
   "id": "bf56d63e",
   "metadata": {},
   "outputs": [
    {
     "name": "stdout",
     "output_type": "stream",
     "text": [
      "제가 좋아하는 계절은: 겨울\n",
      "오답입니다.\n"
     ]
    }
   ],
   "source": [
    "fruit = {\"봄\" : \"딸기\", \"여름\" : \"토마토\", \"가을\" : \"사과\"}\n",
    "season = input(\"제가 좋아하는 계절은: \")\n",
    "if season in fruit.keys():\n",
    "    print(\"정답입니다.\")\n",
    "else:\n",
    "    print(\"오답입니다.\")"
   ]
  },
  {
   "cell_type": "markdown",
   "id": "04a6a2c4",
   "metadata": {},
   "source": [
    "120. 아래와 같이 fruit 딕셔너리가 정의되어 있다. 사용자가 입력한 값이 딕셔너리 값 (value)에 포함되었다면 \"정답입니다\"를 아닐 경우 \"오답입니다\" 출력하라.\n",
    "\n",
    "fruit = {\"봄\" : \"딸기\", \"여름\" : \"토마토\", \"가을\" : \"사과\"}"
   ]
  },
  {
   "cell_type": "code",
   "execution_count": 16,
   "id": "7442d16c",
   "metadata": {},
   "outputs": [
    {
     "name": "stdout",
     "output_type": "stream",
     "text": [
      "좋아하는 과일은? 토마토\n",
      "정답입니다.\n"
     ]
    }
   ],
   "source": [
    "fruit = {\"봄\" : \"딸기\", \"여름\" : \"토마토\", \"가을\" : \"사과\"}\n",
    "season = input(\"좋아하는 과일은? \")\n",
    "if season in fruit.values():\n",
    "    print(\"정답입니다.\")\n",
    "else:\n",
    "    print(\"오답입니다.\")"
   ]
  },
  {
   "cell_type": "markdown",
   "id": "ac8f490f",
   "metadata": {},
   "source": [
    "121. 사용자로부터 문자 한 개를 입력 받고, 소문자일 경우 대문자로, 대문자 일 경우, 소문자로 변경해서 출력하라."
   ]
  },
  {
   "cell_type": "code",
   "execution_count": 20,
   "id": "b6d0791d",
   "metadata": {},
   "outputs": [
    {
     "name": "stdout",
     "output_type": "stream",
     "text": [
      "영문자 한글자를 입력하시오: B\n",
      "b\n"
     ]
    }
   ],
   "source": [
    "a = input(\"영문자 한글자를 입력하시오: \")\n",
    "if a.islower():\n",
    "    print(a.upper())\n",
    "else:\n",
    "    print(a.lower())"
   ]
  },
  {
   "cell_type": "markdown",
   "id": "fbc8eb43",
   "metadata": {},
   "source": [
    "122. 점수 구간에 해당하는 학점이 아래와 같이 정의되어 있다. 사용자로부터 score를 입력받아 학점을 출력하라.\n"
   ]
  },
  {
   "cell_type": "code",
   "execution_count": 21,
   "id": "158c6a22",
   "metadata": {},
   "outputs": [
    {
     "name": "stdout",
     "output_type": "stream",
     "text": [
      "score: 50\n",
      "grade is C\n"
     ]
    }
   ],
   "source": [
    "score = input(\"score: \")\n",
    "if int(score) > 80:\n",
    "    print(\"grade is A\")\n",
    "elif 80>=int(score)>60:\n",
    "    print(\"grade is B\")\n",
    "elif 60>=int(score)>40:\n",
    "    print(\"grade is C\")\n",
    "elif 40>=int(score)>20:\n",
    "    print(\"grade is D\")\n",
    "else:\n",
    "    print(\"grade is E\")"
   ]
  },
  {
   "cell_type": "markdown",
   "id": "91c3c641",
   "metadata": {},
   "source": [
    "123. 사용자로부터 달러, 엔, 유로, 또는 위안 금액을 입력받은 후 이를 원으로 변환하는 프로그램을 작성하라. 각 통화별 환율은 다음과 같다. 사용자는 100 달러, 1000 엔, 13 유로, 100 위안과 같이 금액과 통화명 사이에 공백을 넣어 입력한다고 가정한다."
   ]
  },
  {
   "cell_type": "code",
   "execution_count": 23,
   "id": "7130cc94",
   "metadata": {},
   "outputs": [
    {
     "name": "stdout",
     "output_type": "stream",
     "text": [
      "입력: 100 달러\n",
      "116700.0 원\n"
     ]
    }
   ],
   "source": [
    "환율 = {'달러': 1167, '엔': 1.096, '유로': 1268, '위안': 171}\n",
    "won = input(\"입력: \")\n",
    "num, currency = won.split()\n",
    "print(float(num) * 환율[currency], '원')"
   ]
  },
  {
   "cell_type": "markdown",
   "id": "8c48f356",
   "metadata": {},
   "source": [
    "124. 사용자로부터 세 개의 숫자를 입력 받은 후 가장 큰 숫자를 출력하라."
   ]
  },
  {
   "cell_type": "code",
   "execution_count": 24,
   "id": "7b984a80",
   "metadata": {
    "scrolled": true
   },
   "outputs": [
    {
     "name": "stdout",
     "output_type": "stream",
     "text": [
      "input number1: 50\n",
      "input number2: 40\n",
      "input number3: 70\n",
      "70\n"
     ]
    }
   ],
   "source": [
    "num1 = input(\"input number1: \")\n",
    "num2 = input(\"input number2: \")\n",
    "num3 = input(\"input number3: \")\n",
    "if int(num1) > int(num2) and int(num1) > int(num3):\n",
    "    print(int(num1))\n",
    "elif int(num2) > int(num1) and int(num2) > int(num3):\n",
    "    print(int(num2))\n",
    "else:\n",
    "    print(int(num3))"
   ]
  },
  {
   "cell_type": "markdown",
   "id": "0b0159b0",
   "metadata": {},
   "source": [
    "125. 휴대폰 번호 앞자리에 따라 통신사는 아래와 같이 구분된다. 사용자로부터 휴대전화 번호를 입력 받고, 통신사를 출력하는 프로그램을 작성하라."
   ]
  },
  {
   "cell_type": "code",
   "execution_count": 27,
   "id": "b706de0f",
   "metadata": {},
   "outputs": [
    {
     "name": "stdout",
     "output_type": "stream",
     "text": [
      "휴대전화 번호 입력: 011-345-1922\n",
      "당신은 SKT 사용자입니다.\n"
     ]
    }
   ],
   "source": [
    "phone = input(\"휴대전화 번호 입력: \")\n",
    "num = phone[0:3]\n",
    "\n",
    "if num == \"011\":\n",
    "    tel = \"SKT\"\n",
    "elif num == \"016\":\n",
    "    tel = \"KT\"\n",
    "elif num == \"019\":\n",
    "    tel = \"LGU\"\n",
    "else :\n",
    "    tel = \"알수없음\"\n",
    "print(f\"당신은 {tel} 사용자입니다.\")"
   ]
  },
  {
   "cell_type": "markdown",
   "id": "294186da",
   "metadata": {},
   "source": [
    "126. 우편번호는 5자리로 구성되는데, 앞의 세자리는 구를 나타낸다. 예를들어, 강북구의 경우 010, 011, 012 세 자리로 시작한다.   \n",
    "사용자로 부터 5자리 우편번호를 입력받고 구를 판별하라"
   ]
  },
  {
   "cell_type": "code",
   "execution_count": 29,
   "id": "d72af12e",
   "metadata": {},
   "outputs": [
    {
     "name": "stdout",
     "output_type": "stream",
     "text": [
      "우편번호: 01400\n",
      "도봉구\n"
     ]
    }
   ],
   "source": [
    "num = input(\"우편번호: \")\n",
    "if 2>=int(num[2])>=0:\n",
    "    print(\"강북구\")\n",
    "elif 5>=int(num[2])>=3:\n",
    "    print(\"도봉구\")\n",
    "else:\n",
    "    print(\"노원구\")"
   ]
  },
  {
   "cell_type": "markdown",
   "id": "58d8ca25",
   "metadata": {},
   "source": [
    "127. 주민등록번호 뒷 자리 7자리 중 첫째 자리는 성별을 나타내는데, 1, 3은 남자 2, 4는 여자를 의미한다. 사용자로부터 13자리의 주민등록번호를 입력 받은 후 성별 (남자, 여자)를 출력하는 프로그램을 작성하라."
   ]
  },
  {
   "cell_type": "code",
   "execution_count": 30,
   "id": "d54f8cef",
   "metadata": {},
   "outputs": [
    {
     "name": "stdout",
     "output_type": "stream",
     "text": [
      "주민등록 번호: 821010-1635210\n",
      "남자\n"
     ]
    }
   ],
   "source": [
    "rrn = input(\"주민등록 번호: \")\n",
    "if int(rrn[7]) in [1, 3]:\n",
    "    print(\"남자\")\n",
    "else:\n",
    "    print(\"여자\")"
   ]
  },
  {
   "cell_type": "markdown",
   "id": "0d76d797",
   "metadata": {},
   "source": [
    "128. 주민등록번호의 뒷 자리 7자리 중 두번째와 세번째는 지역코드를 의미한다. 주민 등록 번호를 입력 받은 후 출생지가 서울인지 아닌지 판단하는 코드를 작성하라"
   ]
  },
  {
   "cell_type": "code",
   "execution_count": 32,
   "id": "cd73a47a",
   "metadata": {},
   "outputs": [
    {
     "name": "stdout",
     "output_type": "stream",
     "text": [
      "주민등록 번호: 861010-1015210\n",
      "서울 입니다.\n"
     ]
    }
   ],
   "source": [
    "rrn = input(\"주민등록 번호: \")\n",
    "if int(rrn[8:10]) <= 8:\n",
    "    print(\"서울 입니다.\")\n",
    "else :\n",
    "    print(\"서울이 아닙니다.\")"
   ]
  },
  {
   "cell_type": "markdown",
   "id": "6aee6fe3",
   "metadata": {},
   "source": [
    "129. 다음과 같이 사용자로부터 주민등록번호를 입력받은 후 주민등록번호가 유효한지를 출력하는 프로그램을 작성하라."
   ]
  },
  {
   "cell_type": "code",
   "execution_count": 33,
   "id": "21eea2f3",
   "metadata": {},
   "outputs": [
    {
     "name": "stdout",
     "output_type": "stream",
     "text": [
      "주민등록 번호: 821010-1635210\n",
      "유효하지 않은 주민등록번호입니다.\n"
     ]
    }
   ],
   "source": [
    "rrn = input(\"주민등록 번호: \")\n",
    "num = (int(rrn[0])*2+int(rrn[1])*3+int(rrn[2])*4+int(rrn[3])*5+int(rrn[4])*6+int(rrn[5])*7+int(rrn[7])*8+int(rrn[8])*9+int(rrn[9])*2+int(rrn[10])*3+int(rrn[11])*4+int(rrn[12])*5)%11\n",
    "num2 = 11 - num\n",
    "\n",
    "if num2 == int(rrn[-1]):\n",
    "    print(\"유효한 주민등록번호입니다.\")\n",
    "else:\n",
    "    print(\"유효하지 않은 주민등록번호입니다.\")"
   ]
  },
  {
   "cell_type": "markdown",
   "id": "bab41847",
   "metadata": {},
   "source": [
    "130. 아래 코드는 비트코인의 가격 정보를 딕셔너리로 가져오는 코드이다.\n",
    "\n",
    "import requests   \n",
    "btc = requests.get(\"https://api.bithumb.com/public/ticker/\").json()['data']   \n",
    "\n",
    "btc 딕셔너리 안에는 시가, 종가, 최고가, 최저가 등이 저장되어 있다. 최고가와 최저가의 차이를 변동폭으로 정의할 때 (시가 + 변동폭)이 최고가 보다 높을 경우 \"상승장\", 그렇지 않은 경우 \"하락장\" 문자열을 출력하라."
   ]
  },
  {
   "cell_type": "code",
   "execution_count": 34,
   "id": "9611b0b3",
   "metadata": {},
   "outputs": [
    {
     "name": "stdout",
     "output_type": "stream",
     "text": [
      "상승장\n"
     ]
    }
   ],
   "source": [
    "import requests\n",
    "btc = requests.get(\"https://api.bithumb.com/public/ticker/\").json()['data']\n",
    "\n",
    "변동폭 = float(btc['max_price']) - float(btc['min_price'])\n",
    "시가 = float(btc['opening_price'])\n",
    "최고가 = float(btc['max_price'])\n",
    "\n",
    "if (시가+변동폭) > 최고가:\n",
    "    print(\"상승장\")\n",
    "else:\n",
    "    print(\"하락장\")"
   ]
  },
  {
   "cell_type": "markdown",
   "id": "ff3652b5",
   "metadata": {},
   "source": [
    "131. for문의 실행결과를 예측하라.\n",
    "\n",
    "과일 = [\"사과\", \"귤\", \"수박\"]   \n",
    "for 변수 in 과일:   \n",
    "    print(변수)   "
   ]
  },
  {
   "cell_type": "code",
   "execution_count": 35,
   "id": "39d083b3",
   "metadata": {},
   "outputs": [],
   "source": [
    "#사과\n",
    "#귤\n",
    "#수박"
   ]
  },
  {
   "cell_type": "markdown",
   "id": "e7d1d947",
   "metadata": {},
   "source": [
    "132. for문의 실행결과를 예측하라.\n",
    "\n",
    "과일 = [\"사과\", \"귤\", \"수박\"]\n",
    "for 변수 in 과일:\n",
    "  print(\"#####\")"
   ]
  },
  {
   "cell_type": "code",
   "execution_count": 36,
   "id": "2291fe08",
   "metadata": {},
   "outputs": [],
   "source": [
    "# '#####'이 한개씩 3번 나옴"
   ]
  },
  {
   "cell_type": "markdown",
   "id": "090cfa9b",
   "metadata": {},
   "source": [
    "133. 다음 for 문과 동일한 기능을 수행하는 코드를 작성하세요.\n",
    "\n",
    "for 변수 in [\"A\", \"B\", \"C\"]:   \n",
    "  print(변수)"
   ]
  },
  {
   "cell_type": "code",
   "execution_count": 38,
   "id": "7cc2d0a4",
   "metadata": {
    "scrolled": true
   },
   "outputs": [
    {
     "name": "stdout",
     "output_type": "stream",
     "text": [
      "A\n",
      "B\n",
      "C\n"
     ]
    }
   ],
   "source": [
    "print(\"A\")\n",
    "print(\"B\")\n",
    "print(\"C\")"
   ]
  },
  {
   "cell_type": "markdown",
   "id": "faeb606a",
   "metadata": {},
   "source": [
    "134. for문을 풀어서 동일한 동작을하는 코드를 작성하라.\n",
    "\n",
    "for 변수 in [\"A\", \"B\", \"C\"]:   \n",
    "  print(\"출력:\", 변수)"
   ]
  },
  {
   "cell_type": "code",
   "execution_count": 39,
   "id": "bd6b2d02",
   "metadata": {},
   "outputs": [
    {
     "name": "stdout",
     "output_type": "stream",
     "text": [
      "출력: A\n",
      "출력: B\n",
      "출력: C\n"
     ]
    }
   ],
   "source": [
    "변수 = \"A\"\n",
    "print(\"출력:\", 변수)\n",
    "변수 = \"B\"\n",
    "print(\"출력:\", 변수)\n",
    "변수 = \"C\"\n",
    "print(\"출력:\", 변수)"
   ]
  },
  {
   "cell_type": "markdown",
   "id": "2003f1db",
   "metadata": {},
   "source": [
    "135. for문을 풀어서 동일한 동작을 하는 코드를 작성하라.\n",
    "\n",
    "for 변수 in [\"A\", \"B\", \"C\"]:   \n",
    "  b = 변수.lower()   \n",
    "  print(\"변환:\", b)   "
   ]
  },
  {
   "cell_type": "code",
   "execution_count": 40,
   "id": "9ca983df",
   "metadata": {},
   "outputs": [
    {
     "name": "stdout",
     "output_type": "stream",
     "text": [
      "변환: a\n",
      "변환: b\n",
      "변환: c\n"
     ]
    }
   ],
   "source": [
    "변수 = \"A\"\n",
    "b = 변수.lower()\n",
    "print(\"변환:\", b)\n",
    "변수 = \"B\"\n",
    "b = 변수.lower()\n",
    "print(\"변환:\", b)\n",
    "변수 = \"C\"\n",
    "b = 변수.lower()\n",
    "print(\"변환:\", b)"
   ]
  },
  {
   "cell_type": "markdown",
   "id": "6ce3606d",
   "metadata": {},
   "source": [
    "136. 다음 코드를 for문으로 작성하라.\n",
    "\n",
    "변수 = 10\n",
    "print(변수)\n",
    "변수 = 20\n",
    "print(변수)\n",
    "변수 = 30\n",
    "print(변수)"
   ]
  },
  {
   "cell_type": "code",
   "execution_count": 41,
   "id": "cffb6fb2",
   "metadata": {},
   "outputs": [
    {
     "name": "stdout",
     "output_type": "stream",
     "text": [
      "10\n",
      "20\n",
      "30\n"
     ]
    }
   ],
   "source": [
    "for 변수 in [10, 20, 30]:\n",
    "    print(변수)"
   ]
  },
  {
   "cell_type": "markdown",
   "id": "56a20888",
   "metadata": {},
   "source": [
    "137. 다음 코드를 for문으로 작성하라.\n",
    "\n",
    "print(10)\n",
    "print(20)\n",
    "print(30)"
   ]
  },
  {
   "cell_type": "code",
   "execution_count": 42,
   "id": "4d9edcc4",
   "metadata": {},
   "outputs": [
    {
     "name": "stdout",
     "output_type": "stream",
     "text": [
      "10\n",
      "20\n",
      "30\n"
     ]
    }
   ],
   "source": [
    "for 변수 in [10, 20, 30]:\n",
    "    print(변수)"
   ]
  },
  {
   "cell_type": "markdown",
   "id": "44de38c6",
   "metadata": {},
   "source": [
    "138. 다음 코드를 for문으로 작성하라.\n",
    "\n",
    "print(10)\n",
    "print(\"-------\")\n",
    "print(20)\n",
    "print(\"-------\")\n",
    "print(30)\n",
    "print(\"-------\")"
   ]
  },
  {
   "cell_type": "code",
   "execution_count": 43,
   "id": "81e88c0c",
   "metadata": {},
   "outputs": [
    {
     "name": "stdout",
     "output_type": "stream",
     "text": [
      "10\n",
      "-------\n",
      "20\n",
      "-------\n",
      "30\n",
      "-------\n"
     ]
    }
   ],
   "source": [
    "for 변수 in [10, 20, 30]:\n",
    "    print(변수)\n",
    "    print(\"-------\")"
   ]
  },
  {
   "cell_type": "markdown",
   "id": "3f07a1a7",
   "metadata": {},
   "source": [
    "139. 다음 코드를 for문으로 작성하라.\n",
    "\n",
    "print(\"++++\")\n",
    "print(10)\n",
    "print(20)\n",
    "print(30)"
   ]
  },
  {
   "cell_type": "code",
   "execution_count": 45,
   "id": "73991c6c",
   "metadata": {},
   "outputs": [
    {
     "name": "stdout",
     "output_type": "stream",
     "text": [
      "++++\n",
      "10\n",
      "20\n",
      "30\n"
     ]
    }
   ],
   "source": [
    "print(\"++++\")\n",
    "for 변수 in [10, 20, 30]:\n",
    "    print(변수)"
   ]
  },
  {
   "cell_type": "markdown",
   "id": "3abb9b68",
   "metadata": {},
   "source": [
    "140. 다음 코드를 for문으로 작성하라.\n",
    "\n",
    "print(\"-------\")\n",
    "print(\"-------\")\n",
    "print(\"-------\")\n",
    "print(\"-------\")"
   ]
  },
  {
   "cell_type": "code",
   "execution_count": 47,
   "id": "2a1dcc29",
   "metadata": {},
   "outputs": [
    {
     "name": "stdout",
     "output_type": "stream",
     "text": [
      "-------\n",
      "-------\n",
      "-------\n",
      "-------\n"
     ]
    }
   ],
   "source": [
    "for 변수 in [1,2,3,4]:\n",
    "    print(\"-------\")"
   ]
  },
  {
   "cell_type": "markdown",
   "id": "8f1d573a",
   "metadata": {},
   "source": [
    "141. 다음과 같이 판매가가 저장된 리스트가 있을 때 부가세가 포함된 가격을 for 문을 사용해서 화면에 출력하라. 단 부가세는 10원으로 가정한다.\n",
    "\n",
    "리스트 = [100, 200, 300]"
   ]
  },
  {
   "cell_type": "code",
   "execution_count": 50,
   "id": "d3b5cde4",
   "metadata": {},
   "outputs": [
    {
     "name": "stdout",
     "output_type": "stream",
     "text": [
      "110\n",
      "210\n",
      "310\n"
     ]
    }
   ],
   "source": [
    "리스트 = [100, 200, 300]\n",
    "for i in 리스트:\n",
    "    print(i + 10)"
   ]
  },
  {
   "cell_type": "markdown",
   "id": "758273e2",
   "metadata": {},
   "source": [
    "142. for 문을 사용해서 리스트에 저장된 값을 다음과 같이 출력하라.\n",
    "\n",
    "리스트 = [\"김밥\", \"라면\", \"튀김\"]"
   ]
  },
  {
   "cell_type": "code",
   "execution_count": 51,
   "id": "007f957b",
   "metadata": {},
   "outputs": [
    {
     "name": "stdout",
     "output_type": "stream",
     "text": [
      "오늘의 메뉴:  김밥\n",
      "오늘의 메뉴:  라면\n",
      "오늘의 메뉴:  튀김\n"
     ]
    }
   ],
   "source": [
    "리스트 = [\"김밥\", \"라면\", \"튀김\"]\n",
    "for i in 리스트:\n",
    "    print(\"오늘의 메뉴: \", i)"
   ]
  },
  {
   "cell_type": "markdown",
   "id": "6e6ac906",
   "metadata": {},
   "source": [
    "143. 리스트에 주식 종목이름이 저장돼 있다.\n",
    "\n",
    "리스트 = [\"SK하이닉스\", \"삼성전자\", \"LG전자\"]   \n",
    "저장된 문자열의 길이를 다음과 같이 출력하라."
   ]
  },
  {
   "cell_type": "code",
   "execution_count": 52,
   "id": "5530b601",
   "metadata": {},
   "outputs": [
    {
     "name": "stdout",
     "output_type": "stream",
     "text": [
      "6\n",
      "4\n",
      "4\n"
     ]
    }
   ],
   "source": [
    "리스트 = [\"SK하이닉스\", \"삼성전자\", \"LG전자\"]\n",
    "\n",
    "for 종목 in 리스트:\n",
    "    print(len(종목))"
   ]
  },
  {
   "cell_type": "markdown",
   "id": "0bcffe0e",
   "metadata": {},
   "source": [
    "144. 리스트에는 동물이름이 문자열로 저장돼 있다.\n",
    "\n",
    "리스트 = ['dog', 'cat', 'parrot']   \n",
    "동물 이름과 글자수를 다음과 같이 출력하라."
   ]
  },
  {
   "cell_type": "code",
   "execution_count": 53,
   "id": "7d38e901",
   "metadata": {},
   "outputs": [
    {
     "name": "stdout",
     "output_type": "stream",
     "text": [
      "dog 3\n",
      "cat 3\n",
      "parrot 6\n"
     ]
    }
   ],
   "source": [
    "리스트 = ['dog', 'cat', 'parrot']\n",
    "\n",
    "for animal in 리스트:\n",
    "    print(animal, len(animal))"
   ]
  },
  {
   "cell_type": "markdown",
   "id": "97112ebe",
   "metadata": {},
   "source": [
    "145. 리스트에 동물 이름 저장돼 있다.\n",
    "\n",
    "리스트 = ['dog', 'cat', 'parrot']   \n",
    "for문을 사용해서 동물 이름의 첫 글자만 출력하라."
   ]
  },
  {
   "cell_type": "code",
   "execution_count": 54,
   "id": "b98810c7",
   "metadata": {},
   "outputs": [
    {
     "name": "stdout",
     "output_type": "stream",
     "text": [
      "d\n",
      "c\n",
      "p\n"
     ]
    }
   ],
   "source": [
    "리스트 = ['dog', 'cat', 'parrot']\n",
    "for animal in 리스트:\n",
    "    print(animal[0])"
   ]
  },
  {
   "cell_type": "markdown",
   "id": "a8aa0132",
   "metadata": {},
   "source": [
    "146. 리스트에는 세 개의 숫자가 바인딩돼 있다.\n",
    "\n",
    "리스트 = [1, 2, 3]   \n",
    "for문을 사용해서 다음과 같이 출력하라."
   ]
  },
  {
   "cell_type": "code",
   "execution_count": 56,
   "id": "dd13a2f2",
   "metadata": {},
   "outputs": [
    {
     "name": "stdout",
     "output_type": "stream",
     "text": [
      "3 x 1\n",
      "3 x 2\n",
      "3 x 3\n"
     ]
    }
   ],
   "source": [
    "리스트 = [1, 2, 3]\n",
    "for i in 리스트:\n",
    "    print(\"3 x\", i)"
   ]
  },
  {
   "cell_type": "markdown",
   "id": "9b722afd",
   "metadata": {},
   "source": [
    "147. 리스트에는 세 개의 숫자가 바인딩돼 있다.\n",
    "\n",
    "리스트 = [1, 2, 3]   \n",
    "for문을 사용해서 다음과 같이 출력하라."
   ]
  },
  {
   "cell_type": "code",
   "execution_count": 58,
   "id": "cd11323d",
   "metadata": {},
   "outputs": [
    {
     "name": "stdout",
     "output_type": "stream",
     "text": [
      "3 x 1 = 3\n",
      "3 x 2 = 6\n",
      "3 x 3 = 9\n"
     ]
    }
   ],
   "source": [
    "리스트 = [1, 2, 3]\n",
    "for i in 리스트:\n",
    "    print(f\"3 x {i} =\", 3*i)"
   ]
  },
  {
   "cell_type": "markdown",
   "id": "cdcb01bc",
   "metadata": {},
   "source": [
    "148. 리스트에는 네 개의 문자열이 바인딩돼 있다.\n",
    "\n",
    "리스트 = [\"가\", \"나\", \"다\", \"라\"]   \n",
    "for문을 사용해서 다음과 같이 출력하라.   \n",
    " \n",
    "나   \n",
    "다   \n",
    "라   "
   ]
  },
  {
   "cell_type": "code",
   "execution_count": 60,
   "id": "ab074ff8",
   "metadata": {},
   "outputs": [
    {
     "name": "stdout",
     "output_type": "stream",
     "text": [
      "나\n",
      "다\n",
      "라\n"
     ]
    }
   ],
   "source": [
    "리스트 = [\"가\", \"나\", \"다\", \"라\"]\n",
    "a = 리스트[1:]\n",
    "for i in a:\n",
    "    print(i)"
   ]
  },
  {
   "cell_type": "markdown",
   "id": "cec52f3f",
   "metadata": {},
   "source": [
    "149.리스트에는 네 개의 문자열이 바인딩돼 있다.\n",
    "\n",
    "리스트 = [\"가\", \"나\", \"다\", \"라\"]   \n",
    "for문을 사용해서 다음과 같이 출력하라.\n",
    "\n",
    "가   \n",
    "다   "
   ]
  },
  {
   "cell_type": "code",
   "execution_count": 61,
   "id": "cfd0f940",
   "metadata": {},
   "outputs": [
    {
     "name": "stdout",
     "output_type": "stream",
     "text": [
      "가\n",
      "다\n"
     ]
    }
   ],
   "source": [
    "리스트 = [\"가\", \"나\", \"다\", \"라\"]\n",
    "a = 리스트[::2]\n",
    "for i in a:\n",
    "    print(i)"
   ]
  },
  {
   "cell_type": "markdown",
   "id": "49f1f5fb",
   "metadata": {},
   "source": [
    "150. 리스트에는 네 개의 문자열이 바인딩돼 있다.\n",
    "\n",
    "리스트 = [\"가\", \"나\", \"다\", \"라\"]   \n",
    "for문을 사용해서 다음과 같이 출력하라.\n",
    "\n",
    "라   \n",
    "다   \n",
    "나   \n",
    "가   "
   ]
  },
  {
   "cell_type": "code",
   "execution_count": 62,
   "id": "06d722d0",
   "metadata": {},
   "outputs": [
    {
     "name": "stdout",
     "output_type": "stream",
     "text": [
      "라\n",
      "다\n",
      "나\n",
      "가\n"
     ]
    }
   ],
   "source": [
    "리스트 = [\"가\", \"나\", \"다\", \"라\"]\n",
    "for i in 리스트[::-1]:\n",
    "    print(i)"
   ]
  },
  {
   "cell_type": "code",
   "execution_count": null,
   "id": "2459d24b",
   "metadata": {},
   "outputs": [],
   "source": []
  }
 ],
 "metadata": {
  "kernelspec": {
   "display_name": "Python 3 (ipykernel)",
   "language": "python",
   "name": "python3"
  },
  "language_info": {
   "codemirror_mode": {
    "name": "ipython",
    "version": 3
   },
   "file_extension": ".py",
   "mimetype": "text/x-python",
   "name": "python",
   "nbconvert_exporter": "python",
   "pygments_lexer": "ipython3",
   "version": "3.11.5"
  }
 },
 "nbformat": 4,
 "nbformat_minor": 5
}
