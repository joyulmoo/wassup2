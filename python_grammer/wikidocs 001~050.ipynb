{
 "cells": [
  {
   "cell_type": "markdown",
   "id": "228a45a2",
   "metadata": {},
   "source": [
    "## 파이썬 시작하기"
   ]
  },
  {
   "cell_type": "markdown",
   "id": "a833d54d",
   "metadata": {},
   "source": [
    "1. 화면에 Hello World 문자열을 출력하세요."
   ]
  },
  {
   "cell_type": "code",
   "execution_count": 1,
   "id": "24918712",
   "metadata": {},
   "outputs": [
    {
     "name": "stdout",
     "output_type": "stream",
     "text": [
      "Hello World\n"
     ]
    }
   ],
   "source": [
    "print(\"Hello World\")"
   ]
  },
  {
   "cell_type": "markdown",
   "id": "680ec1b8",
   "metadata": {},
   "source": [
    "2. 화면에 Mary's cosmetics을 출력하세요. (중간에 '가 있음에 주의하세요)"
   ]
  },
  {
   "cell_type": "code",
   "execution_count": 3,
   "id": "57f6b705",
   "metadata": {},
   "outputs": [
    {
     "name": "stdout",
     "output_type": "stream",
     "text": [
      "Mary's cosmetics\n"
     ]
    }
   ],
   "source": [
    "print(\"Mary\\'s cosmetics\")"
   ]
  },
  {
   "cell_type": "markdown",
   "id": "26d53fc7",
   "metadata": {},
   "source": [
    "3. 화면에 아래 문장을 출력하세요. (중간에 \"가 있음에 주의하세요.)\n",
    "\n",
    "신씨가 소리질렀다. \"도둑이야\"."
   ]
  },
  {
   "cell_type": "code",
   "execution_count": 4,
   "id": "466f818c",
   "metadata": {},
   "outputs": [
    {
     "name": "stdout",
     "output_type": "stream",
     "text": [
      "신씨가 소리질렀다. \"도둑이야\".\n"
     ]
    }
   ],
   "source": [
    "print('신씨가 소리질렀다. \"도둑이야\".')"
   ]
  },
  {
   "cell_type": "markdown",
   "id": "0a00e1f2",
   "metadata": {},
   "source": [
    "4. 화면에 C:\\Windows를 출력하세요."
   ]
  },
  {
   "cell_type": "code",
   "execution_count": 5,
   "id": "d2fe6924",
   "metadata": {},
   "outputs": [
    {
     "name": "stdout",
     "output_type": "stream",
     "text": [
      "C:\\Windows\n"
     ]
    }
   ],
   "source": [
    "print('C:\\Windows')"
   ]
  },
  {
   "cell_type": "markdown",
   "id": "257ff48c",
   "metadata": {},
   "source": [
    "5.다음 코드를 실행해보고 \\t와 \\n의 역할을 설명해보세요.\n",
    "\n",
    "print(\"안녕하세요.\\n만나서\\t\\t반갑습니다.\")"
   ]
  },
  {
   "cell_type": "code",
   "execution_count": 6,
   "id": "7f78487d",
   "metadata": {},
   "outputs": [
    {
     "name": "stdout",
     "output_type": "stream",
     "text": [
      "안녕하세요.\n",
      "만나서\t\t반갑습니다.\n"
     ]
    }
   ],
   "source": [
    "print(\"안녕하세요.\\n만나서\\t\\t반갑습니다.\")"
   ]
  },
  {
   "cell_type": "code",
   "execution_count": 7,
   "id": "572c4bc2",
   "metadata": {},
   "outputs": [],
   "source": [
    "# \\n은 줄바꿈 -> 안녕하세요 다음에 줄 바꿈이 됨\n",
    "# \\t는 탭 -> '만나서'와 '반갑습니다' 사이에 탭 간격이 들어감"
   ]
  },
  {
   "cell_type": "markdown",
   "id": "cdaa8a50",
   "metadata": {},
   "source": [
    "6. print 함수에 두 개의 단어를 입력한 예제입니다. 아래 코드의 출력 결과를 예상해봅시다.\n",
    "\n",
    "print (\"오늘은\", \"일요일\")"
   ]
  },
  {
   "cell_type": "code",
   "execution_count": 9,
   "id": "fd93dd6e",
   "metadata": {},
   "outputs": [
    {
     "name": "stdout",
     "output_type": "stream",
     "text": [
      "오늘은 일요일\n"
     ]
    }
   ],
   "source": [
    "# 튜플 형식으로 (\"오늘은\", \"일요일\")이라고 나올 것이라 예상됨\n",
    "print(\"오늘은\", \"일요일\")"
   ]
  },
  {
   "cell_type": "code",
   "execution_count": 10,
   "id": "0a8ad0fa",
   "metadata": {},
   "outputs": [],
   "source": [
    "# 틀림. \n",
    "# print()하고 \",\"로 구분하면 여러 값 출력. "
   ]
  },
  {
   "cell_type": "markdown",
   "id": "eef753a8",
   "metadata": {},
   "source": [
    "7. print() 함수를 사용하여 다음과 같이 출력하세요.\n",
    "\n",
    "naver;kakao;sk;samsung"
   ]
  },
  {
   "cell_type": "code",
   "execution_count": 12,
   "id": "d1d96677",
   "metadata": {},
   "outputs": [
    {
     "name": "stdout",
     "output_type": "stream",
     "text": [
      "naver;kakao;sk;samsung\n"
     ]
    }
   ],
   "source": [
    "print(\"naver;kakao;sk;samsung\")"
   ]
  },
  {
   "cell_type": "code",
   "execution_count": 13,
   "id": "1c3c969d",
   "metadata": {},
   "outputs": [
    {
     "name": "stdout",
     "output_type": "stream",
     "text": [
      "naver;kakao;sk;samsung\n"
     ]
    }
   ],
   "source": [
    "#print 함수의 sep 인자를 사용하면 출력되는 값들 사이에 한 칸의 공백 대신 세미 콜론 출력됨\n",
    "print(\"naver\",\"kakao\",\"sk\",\"samsung\", sep = \";\")"
   ]
  },
  {
   "cell_type": "markdown",
   "id": "69a69b1b",
   "metadata": {},
   "source": [
    "8. print() 함수를 사용하여 다음과 같이 출력하세요.   \n",
    "naver/kakao/sk/samsung"
   ]
  },
  {
   "cell_type": "code",
   "execution_count": 14,
   "id": "eb279824",
   "metadata": {},
   "outputs": [
    {
     "name": "stdout",
     "output_type": "stream",
     "text": [
      "naver/kakao/sk/samsung\n"
     ]
    }
   ],
   "source": [
    "print(\"naver\",\"kakao\",\"sk\",\"samsung\", sep = \"/\")"
   ]
  },
  {
   "cell_type": "markdown",
   "id": "b68ed003",
   "metadata": {},
   "source": [
    "9. 다음 코드를 수정하여 줄바꿈이 없이 출력하세요. (힌트: end='') print 함수는 두 번 사용합니다. 세미콜론 (;)은 한줄에 여러 개의 명령을 작성하기 위해 사용합니다.\n",
    "\n",
    "print(\"first\");print(\"second\")"
   ]
  },
  {
   "cell_type": "code",
   "execution_count": 21,
   "id": "17905515",
   "metadata": {},
   "outputs": [
    {
     "name": "stdout",
     "output_type": "stream",
     "text": [
      "firstsecond\n"
     ]
    }
   ],
   "source": [
    "print(\"first\", end='');print(\"second\")"
   ]
  },
  {
   "cell_type": "markdown",
   "id": "68cecaa3",
   "metadata": {},
   "source": [
    "10. 연산 결과 출력  \n",
    "5/3의 결과를 화면에 출력하세요."
   ]
  },
  {
   "cell_type": "code",
   "execution_count": 22,
   "id": "929909fe",
   "metadata": {},
   "outputs": [
    {
     "data": {
      "text/plain": [
       "1.6666666666666667"
      ]
     },
     "execution_count": 22,
     "metadata": {},
     "output_type": "execute_result"
    }
   ],
   "source": [
    "5/3"
   ]
  },
  {
   "cell_type": "markdown",
   "id": "6c1f5b22",
   "metadata": {},
   "source": [
    "## 파이썬 변수"
   ]
  },
  {
   "cell_type": "markdown",
   "id": "6d304816",
   "metadata": {},
   "source": [
    "11. 변수 사용하기   \n",
    "삼성전자라는 변수로 50,000원을 바인딩해보세요. 삼성전자 주식 10주를 보유하고 있을 때 총 평가금액을 출력하세요."
   ]
  },
  {
   "cell_type": "code",
   "execution_count": 25,
   "id": "3b13f836",
   "metadata": {},
   "outputs": [
    {
     "name": "stdout",
     "output_type": "stream",
     "text": [
      "500000\n"
     ]
    }
   ],
   "source": [
    "삼성전자 = 50000\n",
    "총평가금액 = 삼성전자 * 10\n",
    "print(총평가금액)"
   ]
  },
  {
   "cell_type": "markdown",
   "id": "b22e59a0",
   "metadata": {},
   "source": [
    "12. 다음 표는 삼성전자의 일부 투자정보입니다. 변수를 사용해서 시가총액, 현재가, PER 등을 바인딩해보세요.\n",
    "\n",
    "항목\t값\n",
    "시가총액\t298조\n",
    "현재가\t50,000원\n",
    "PER\t15.79"
   ]
  },
  {
   "cell_type": "code",
   "execution_count": 26,
   "id": "505fdc2e",
   "metadata": {},
   "outputs": [
    {
     "name": "stdout",
     "output_type": "stream",
     "text": [
      "298000000000000\n",
      "50000\n",
      "15.79\n"
     ]
    }
   ],
   "source": [
    "시가총액 = 298000000000000\n",
    "현재가 = 50000\n",
    "PER = 15.79\n",
    "\n",
    "print(시가총액)\n",
    "print(현재가)\n",
    "print(PER)"
   ]
  },
  {
   "cell_type": "markdown",
   "id": "e6247b07",
   "metadata": {},
   "source": [
    "13. 변수 s와 t에는 각각 문자열이 바인딩 되어있습니다.\n",
    "\n",
    ">> s = \"hello\"\n",
    ">> t = \"python\"\n",
    "두 변수를 이용하여 아래와 같이 출력해보세요.\n",
    "\n",
    "실행 예:\n",
    "hello! python"
   ]
  },
  {
   "cell_type": "code",
   "execution_count": 27,
   "id": "e8745ae5",
   "metadata": {},
   "outputs": [
    {
     "name": "stdout",
     "output_type": "stream",
     "text": [
      "hello! python\n"
     ]
    }
   ],
   "source": [
    "s = \"hello\"\n",
    "t = \"python\"\n",
    "\n",
    "print(s+\"!\", t)"
   ]
  },
  {
   "cell_type": "markdown",
   "id": "964ceb3a",
   "metadata": {},
   "source": [
    "14. 아래 코드의 실행 결과를 예상해보세요.\n",
    "\n",
    ">> 2 + 2 * 3 "
   ]
  },
  {
   "cell_type": "code",
   "execution_count": 28,
   "id": "c9d4ad21",
   "metadata": {},
   "outputs": [
    {
     "data": {
      "text/plain": [
       "8"
      ]
     },
     "execution_count": 28,
     "metadata": {},
     "output_type": "execute_result"
    }
   ],
   "source": [
    "# 8\n",
    "2+2*3"
   ]
  },
  {
   "cell_type": "markdown",
   "id": "882a6e25",
   "metadata": {},
   "source": [
    "15. type() 함수는 데이터 타입을 판별합니다. 변수 a에는 128 숫자가 바인딩돼 있어 type 함수가 int (정수)형임을 알려줍니다.\n",
    "\n",
    "a = 128   \n",
    "print (type(a))   \n",
    "<class 'int'>   \n",
    "아래 변수에 바인딩된 값의 타입을 판별해보세요.\n",
    "\n",
    "a = \"132\""
   ]
  },
  {
   "cell_type": "code",
   "execution_count": 29,
   "id": "78b8279c",
   "metadata": {},
   "outputs": [
    {
     "name": "stdout",
     "output_type": "stream",
     "text": [
      "<class 'str'>\n"
     ]
    }
   ],
   "source": [
    "#a의 타입은 문자열\n",
    "a = \"123\"\n",
    "print(type(a))"
   ]
  },
  {
   "cell_type": "markdown",
   "id": "d24e0db6",
   "metadata": {},
   "source": [
    "16. 문자열 '720'를 정수형으로 변환해보세요.\n",
    "\n",
    ">> num_str = \"720\""
   ]
  },
  {
   "cell_type": "code",
   "execution_count": 30,
   "id": "f5f748b1",
   "metadata": {},
   "outputs": [
    {
     "data": {
      "text/plain": [
       "str"
      ]
     },
     "execution_count": 30,
     "metadata": {},
     "output_type": "execute_result"
    }
   ],
   "source": [
    "num_str = \"720\"\n",
    "type(num_str)"
   ]
  },
  {
   "cell_type": "code",
   "execution_count": 38,
   "id": "36cad19f",
   "metadata": {},
   "outputs": [
    {
     "data": {
      "text/plain": [
       "720"
      ]
     },
     "execution_count": 38,
     "metadata": {},
     "output_type": "execute_result"
    }
   ],
   "source": [
    "int(num_str)"
   ]
  },
  {
   "cell_type": "code",
   "execution_count": 41,
   "id": "7167b8bb",
   "metadata": {},
   "outputs": [
    {
     "name": "stdout",
     "output_type": "stream",
     "text": [
      "721 <class 'int'>\n"
     ]
    }
   ],
   "source": [
    "num_int = int(num_str)\n",
    "print(num_int+1, type(num_int))"
   ]
  },
  {
   "cell_type": "markdown",
   "id": "aaad756d",
   "metadata": {},
   "source": [
    "17. 정수 100을 문자열 '100'으로 변환해보세요.   \n",
    "num = 100"
   ]
  },
  {
   "cell_type": "code",
   "execution_count": 44,
   "id": "3d1696bc",
   "metadata": {},
   "outputs": [
    {
     "name": "stdout",
     "output_type": "stream",
     "text": [
      "100 <class 'str'>\n"
     ]
    }
   ],
   "source": [
    "num = 100\n",
    "num_str = str(num)\n",
    "print(num_str, type(num_str))"
   ]
  },
  {
   "cell_type": "markdown",
   "id": "f992cc26",
   "metadata": {},
   "source": [
    "18. 문자열 \"15.79\"를 실수(float)타입으로 변환해보세요."
   ]
  },
  {
   "cell_type": "code",
   "execution_count": 45,
   "id": "506e0f99",
   "metadata": {},
   "outputs": [
    {
     "name": "stdout",
     "output_type": "stream",
     "text": [
      "15.79 <class 'float'>\n"
     ]
    }
   ],
   "source": [
    "a = \"15.79\"\n",
    "b = float(a)\n",
    "print(b, type(b))"
   ]
  },
  {
   "cell_type": "markdown",
   "id": "e0d2a88c",
   "metadata": {},
   "source": [
    "19. year라는 변수가 문자열 타입의 연도를 바인딩하고 있습니다. 이를 정수로 변환한 후 최근 3년의 연도를 화면에 출력해보세요."
   ]
  },
  {
   "cell_type": "code",
   "execution_count": 48,
   "id": "12985926",
   "metadata": {},
   "outputs": [
    {
     "name": "stdout",
     "output_type": "stream",
     "text": [
      "2018 2019 2020\n"
     ]
    }
   ],
   "source": [
    "year = \"2020\"\n",
    "year_int = int(year)\n",
    "print(year_int-2,year_int-1, year_int)"
   ]
  },
  {
   "cell_type": "code",
   "execution_count": 49,
   "id": "e8a1ceb4",
   "metadata": {},
   "outputs": [
    {
     "name": "stdout",
     "output_type": "stream",
     "text": [
      "2017\n",
      "2018\n",
      "2019\n"
     ]
    }
   ],
   "source": [
    "print(int(year)-3)\n",
    "print(int(year)-2)\n",
    "print(int(year)-1)"
   ]
  },
  {
   "cell_type": "markdown",
   "id": "e965f12a",
   "metadata": {},
   "source": [
    "20. 에이컨이 월 48,584원에 무이자 36개월의 조건으로 홈쇼핑에서 판매되고 있습니다. 총 금액은 계산한 후 이를 화면에 출력해보세요. (변수사용하기)"
   ]
  },
  {
   "cell_type": "code",
   "execution_count": 51,
   "id": "890d6743",
   "metadata": {},
   "outputs": [
    {
     "name": "stdout",
     "output_type": "stream",
     "text": [
      "1749024\n"
     ]
    }
   ],
   "source": [
    "에어컨할부 = 48584\n",
    "총금액 = 에어컨할부*36\n",
    "print(총금액)"
   ]
  },
  {
   "cell_type": "markdown",
   "id": "9a68f65f",
   "metadata": {},
   "source": [
    "## 파이썬 문자열"
   ]
  },
  {
   "cell_type": "markdown",
   "id": "17eb3fe3",
   "metadata": {},
   "source": [
    "21. letters가 바인딩하는 문자열에서 첫번째와 세번째 문자를 출력하세요.   \n",
    "letters = 'python'"
   ]
  },
  {
   "cell_type": "code",
   "execution_count": 53,
   "id": "b561afe7",
   "metadata": {},
   "outputs": [
    {
     "name": "stdout",
     "output_type": "stream",
     "text": [
      "p t\n"
     ]
    }
   ],
   "source": [
    "letters = 'python'\n",
    "print(letters[0], letters[2])"
   ]
  },
  {
   "cell_type": "markdown",
   "id": "38c9363a",
   "metadata": {},
   "source": [
    "22. 자동차 번호가 다음과 같을 때 뒤에 4자리만 출력하세요.   \n",
    "license_plate = \"24가 2210\""
   ]
  },
  {
   "cell_type": "code",
   "execution_count": 54,
   "id": "0780211a",
   "metadata": {},
   "outputs": [
    {
     "name": "stdout",
     "output_type": "stream",
     "text": [
      "2210\n"
     ]
    }
   ],
   "source": [
    "license_plate = \"24가 2210\"\n",
    "print(license_plate[4:])"
   ]
  },
  {
   "cell_type": "markdown",
   "id": "9872c943",
   "metadata": {},
   "source": [
    "23. 아래의 문자열에서 '홀'만 출력하세요.   \n",
    "string = \"홀짝홀짝홀짝\""
   ]
  },
  {
   "cell_type": "code",
   "execution_count": 56,
   "id": "96aaaac1",
   "metadata": {},
   "outputs": [
    {
     "name": "stdout",
     "output_type": "stream",
     "text": [
      "홀 홀 홀\n"
     ]
    }
   ],
   "source": [
    "string = \"홀짝홀짝홀짝\"\n",
    "print(string[0],string[2],string[4])"
   ]
  },
  {
   "cell_type": "code",
   "execution_count": 57,
   "id": "630c1cc3",
   "metadata": {},
   "outputs": [
    {
     "name": "stdout",
     "output_type": "stream",
     "text": [
      "홀홀홀\n"
     ]
    }
   ],
   "source": [
    "print(string[::2]) #슬라이싱할 때, '시작인덱스:끝 인덱스:오프셋'을 지정가능"
   ]
  },
  {
   "cell_type": "code",
   "execution_count": 58,
   "id": "c8c5b5da",
   "metadata": {},
   "outputs": [],
   "source": [
    "#슬라이싱 : 특정범위를 잘라서 자른 부위 전체를 가져오는 것.\n",
    "\n",
    "#예시)\n",
    "\n",
    "#리스트명[ 시작인덱스(숫자) : 끝인덱스(숫자) : 오프셋(숫자) ]\n",
    "\n",
    "#시작인덱스부터 끝인덱스까지 슬라이싱한다.\n",
    "\n",
    "#오프셋은 생략이 가능하며, 입력할 경우 해당 숫자만큼 건너뛰면서 계산한다.\n",
    "\n",
    " \n",
    "\n",
    "#시작인덱스와 끝인덱스도 생략이 가능하다.\n",
    "\n",
    "#시작인덱스 생략하면 맨처음부터, 끝인덱스 생략하면 맨마지막까지로 처리된다.\n",
    "\n",
    "#인덱스에 음수값을 입력할 수도 있다.\n",
    "\n",
    "#맨앞은 0번부터 시작하지만, 맨뒤는 -1부터 시작한다.\n",
    "\n",
    " \n",
    "\n",
    "#시작인덱스와 끝인덱스를 생략하고 오프셋에 -1을 넣으면 뒤집어진다."
   ]
  },
  {
   "cell_type": "markdown",
   "id": "56aefdcd",
   "metadata": {},
   "source": [
    "24. 문자열을 거꾸로 뒤집어 출력하세요.   \n",
    "string = \"PYTHON\""
   ]
  },
  {
   "cell_type": "code",
   "execution_count": 59,
   "id": "d0ec77c2",
   "metadata": {},
   "outputs": [
    {
     "name": "stdout",
     "output_type": "stream",
     "text": [
      "NOHTYP\n"
     ]
    }
   ],
   "source": [
    "string = \"PYTHON\"\n",
    "print(string[::-1])"
   ]
  },
  {
   "cell_type": "markdown",
   "id": "9d6fe1a9",
   "metadata": {},
   "source": [
    "25. 아래의 전화번호에서 하이푼('-')을 제거하고 출력하세요.   \n",
    "phone_number = \"010-1111-2222\""
   ]
  },
  {
   "cell_type": "code",
   "execution_count": 69,
   "id": "7e967450",
   "metadata": {},
   "outputs": [
    {
     "name": "stdout",
     "output_type": "stream",
     "text": [
      "010 1111 2222\n"
     ]
    }
   ],
   "source": [
    "phone_number = \"010-1111-2222\"\n",
    "print(phone_number.replace('-',' '))"
   ]
  },
  {
   "cell_type": "code",
   "execution_count": 70,
   "id": "73b009a0",
   "metadata": {},
   "outputs": [],
   "source": [
    "num_str = \"720\""
   ]
  },
  {
   "cell_type": "code",
   "execution_count": 79,
   "id": "29526501",
   "metadata": {},
   "outputs": [
    {
     "name": "stdout",
     "output_type": "stream",
     "text": [
      "python\n"
     ]
    }
   ],
   "source": [
    "a = 'pithon'\n",
    "print(a.replace('i','y'))"
   ]
  },
  {
   "cell_type": "markdown",
   "id": "ac720367",
   "metadata": {},
   "source": [
    "26. 문자열 다루기\n",
    "25번 문제의 전화번호를 아래와 같이 모두 붙여 출력하세요.\n",
    "\n",
    "실행 예\n",
    "01011112222"
   ]
  },
  {
   "cell_type": "code",
   "execution_count": 1,
   "id": "3c8f3bc4",
   "metadata": {},
   "outputs": [
    {
     "name": "stdout",
     "output_type": "stream",
     "text": [
      "01011112222\n"
     ]
    }
   ],
   "source": [
    "phone_number = \"010-1111-2222\"\n",
    "print(phone_number.replace('-',''))"
   ]
  },
  {
   "cell_type": "markdown",
   "id": "0704b306",
   "metadata": {},
   "source": [
    "27. 문자열 다루기   \n",
    "url 에 저장된 웹 페이지 주소에서 도메인을 출력하세요.\n",
    "\n",
    ">> url = \"http://sharebook.kr\"\n",
    "실행 예:\n",
    "kr"
   ]
  },
  {
   "cell_type": "code",
   "execution_count": 2,
   "id": "1c5e26c8",
   "metadata": {},
   "outputs": [
    {
     "name": "stdout",
     "output_type": "stream",
     "text": [
      "kr\n"
     ]
    }
   ],
   "source": [
    "url = \"http://sharebook.kr\"\n",
    "print(url[-2:])"
   ]
  },
  {
   "cell_type": "code",
   "execution_count": 3,
   "id": "9660941c",
   "metadata": {},
   "outputs": [
    {
     "name": "stdout",
     "output_type": "stream",
     "text": [
      "kr\n"
     ]
    }
   ],
   "source": [
    "url_split = url.split('.')\n",
    "print(url_split[-1])"
   ]
  },
  {
   "cell_type": "markdown",
   "id": "32fea062",
   "metadata": {},
   "source": [
    "28. 아래 코드의 실행 결과를 예상해보세요.   \n",
    "\n",
    "lang = 'python'\n",
    "lang[0] = 'P'\n",
    "print(lang)"
   ]
  },
  {
   "cell_type": "code",
   "execution_count": 4,
   "id": "60b0b500",
   "metadata": {},
   "outputs": [],
   "source": [
    "# 문자열은 원본 변경 불가능한 immutable object라 'python'이 출력 됨\n",
    "# lang[0] = 'P'는 오류가 남"
   ]
  },
  {
   "cell_type": "markdown",
   "id": "e21ad94b",
   "metadata": {},
   "source": [
    "29. 아래 문자열에서 소문자 'a'를 대문자 'A'로 변경하세요.\n",
    "\n",
    "string = 'abcdfe2a354a32a'"
   ]
  },
  {
   "cell_type": "code",
   "execution_count": 8,
   "id": "fb960ec3",
   "metadata": {},
   "outputs": [
    {
     "name": "stdout",
     "output_type": "stream",
     "text": [
      "Abcdfe2A354A32A\n"
     ]
    }
   ],
   "source": [
    "string = 'abcdfe2a354a32a'\n",
    "string = string.replace('a','A')\n",
    "print(string)"
   ]
  },
  {
   "cell_type": "markdown",
   "id": "f7d85392",
   "metadata": {},
   "source": [
    "30. 아래 코드의 실행 결과를 예상해보세요.\n",
    "\n",
    "string = 'abcd'   \n",
    "string.replace('b', 'B')   \n",
    "print(string)"
   ]
  },
  {
   "cell_type": "code",
   "execution_count": 7,
   "id": "a0815dfd",
   "metadata": {},
   "outputs": [],
   "source": [
    "# 문자열의 원본은 바뀔 수 없기 때문에 'abcd' 그래도 출력 됨"
   ]
  },
  {
   "cell_type": "markdown",
   "id": "d8a80952",
   "metadata": {},
   "source": [
    "31. 아래 코드의 실행 결과를 예상해보세요.\n",
    "\n",
    "a = \"3\"   \n",
    "b = \"4\"   \n",
    "print(a + b)"
   ]
  },
  {
   "cell_type": "code",
   "execution_count": 9,
   "id": "8772ae4c",
   "metadata": {},
   "outputs": [],
   "source": [
    "# '34'가 출력 됨"
   ]
  },
  {
   "cell_type": "markdown",
   "id": "52edebc2",
   "metadata": {},
   "source": [
    "32. 아래 코드의 실행 결과를 예상해보세요.\n",
    "\n",
    "print(\"Hi\" * 3)"
   ]
  },
  {
   "cell_type": "code",
   "execution_count": 11,
   "id": "bd3b2c53",
   "metadata": {},
   "outputs": [],
   "source": [
    "# \"HiHiHi\" \"Hi\"가 3번 반복 됨"
   ]
  },
  {
   "cell_type": "markdown",
   "id": "feb861d3",
   "metadata": {},
   "source": [
    "33. 화면에 '-'를 80개 출력하세요."
   ]
  },
  {
   "cell_type": "code",
   "execution_count": 12,
   "id": "c43a6cdf",
   "metadata": {},
   "outputs": [
    {
     "name": "stdout",
     "output_type": "stream",
     "text": [
      "--------------------------------------------------------------------------------\n"
     ]
    }
   ],
   "source": [
    "print('-'*80)"
   ]
  },
  {
   "cell_type": "markdown",
   "id": "92201241",
   "metadata": {},
   "source": [
    "34. 변수에 다음과 같은 문자열이 바인딩되어 있습니다.\n",
    "\n",
    "t1 = 'python'   \n",
    "t2 = 'java'   \n",
    "변수에 문자열 더하기와 문자열 곱하기를 사용해서 아래와 같이 출력해보세요.\n",
    "\n",
    "실행 예:   \n",
    "python java python java python java python java"
   ]
  },
  {
   "cell_type": "code",
   "execution_count": 16,
   "id": "efb34ac8",
   "metadata": {},
   "outputs": [
    {
     "name": "stdout",
     "output_type": "stream",
     "text": [
      "python java python java python java python java \n"
     ]
    }
   ],
   "source": [
    "t1 = 'python'\n",
    "t2 = 'java'\n",
    "print((t1+' '+t2+' ')*4)"
   ]
  },
  {
   "cell_type": "markdown",
   "id": "63a4091b",
   "metadata": {},
   "source": [
    "35. 변수에 다음과 같이 문자열과 정수가 바인딩되어 있을 때 % formatting을 사용해서 다음과 같이 출력해보세요.\n",
    "\n",
    "name1 = \"김민수\"    \n",
    "age1 = 10   \n",
    "name2 = \"이철희\"   \n",
    "age2 = 13   \n",
    "이름: 김민수 나이: 10   \n",
    "이름: 이철희 나이: 13   "
   ]
  },
  {
   "cell_type": "code",
   "execution_count": 21,
   "id": "5a359997",
   "metadata": {},
   "outputs": [
    {
     "name": "stdout",
     "output_type": "stream",
     "text": [
      "이름: 김민수 나이: 10\n",
      "이름: 이철희 나이: 13\n"
     ]
    }
   ],
   "source": [
    "name1 = \"김민수\"\n",
    "age1 = 10\n",
    "name2 = \"이철희\"\n",
    "age2 = 13\n",
    "print(\"이름: %s 나이: %d\" % (name1,age1))\n",
    "print(\"이름: %s 나이: %d\" % (name2,age2))"
   ]
  },
  {
   "cell_type": "markdown",
   "id": "90711968",
   "metadata": {},
   "source": [
    "36. 문자열의 format( ) 메서드를 사용해서 035번 문제를 다시 풀어보세요."
   ]
  },
  {
   "cell_type": "code",
   "execution_count": 26,
   "id": "be1e9188",
   "metadata": {},
   "outputs": [
    {
     "name": "stdout",
     "output_type": "stream",
     "text": [
      "이름: 김민수 나이: 10\n",
      "이름: 이철희 나이: 13\n"
     ]
    }
   ],
   "source": [
    "name1 = \"김민수\"\n",
    "age1 = 10\n",
    "name2 = \"이철희\"\n",
    "age2 = 13\n",
    "print(\"이름: {} 나이: {}\".format(name1,age1))\n",
    "print(\"이름: {} 나이: {}\".format(name2,age2))"
   ]
  },
  {
   "cell_type": "markdown",
   "id": "c503dd20",
   "metadata": {},
   "source": [
    "37. 파이썬 3.6부터 지원하는 f-string을 사용해서 035번 문제를 다시 풀어보세요."
   ]
  },
  {
   "cell_type": "code",
   "execution_count": 30,
   "id": "5d34aea4",
   "metadata": {},
   "outputs": [
    {
     "name": "stdout",
     "output_type": "stream",
     "text": [
      "이름: 김민수 나이: 10\n",
      "이름: 이철희 나이: 13\n"
     ]
    }
   ],
   "source": [
    "name1 = \"김민수\"\n",
    "age1 = 10\n",
    "name2 = \"이철희\"\n",
    "age2 = 13\n",
    "print(f\"이름: {name1} 나이: {age1}\")\n",
    "print(f\"이름: {name2} 나이: {age2}\")"
   ]
  },
  {
   "cell_type": "markdown",
   "id": "1e7c1917",
   "metadata": {},
   "source": [
    "38. 삼성전자의 상장주식수가 다음과 같습니다. 컴마를 제거한 후 이를 정수 타입으로 변환해보세요.\n",
    "\n",
    "상장주식수 = \"5,969,782,550\""
   ]
  },
  {
   "cell_type": "code",
   "execution_count": 31,
   "id": "126671d8",
   "metadata": {},
   "outputs": [
    {
     "name": "stdout",
     "output_type": "stream",
     "text": [
      "5969782550 <class 'int'>\n"
     ]
    }
   ],
   "source": [
    "상장주식수 = \"5,969,782,550\"\n",
    "상장주식수2 = int(상장주식수.replace(\",\",\"\"))\n",
    "print(상장주식수2, type(상장주식수2))"
   ]
  },
  {
   "cell_type": "markdown",
   "id": "a8e39ca3",
   "metadata": {},
   "source": [
    "39.  다음과 같은 문자열에서 '2020/03'만 출력하세요.\n",
    "\n",
    "분기 = \"2020/03(E) (IFRS연결)\""
   ]
  },
  {
   "cell_type": "code",
   "execution_count": 35,
   "id": "995649f1",
   "metadata": {},
   "outputs": [
    {
     "name": "stdout",
     "output_type": "stream",
     "text": [
      "2020/03\n"
     ]
    }
   ],
   "source": [
    "분기 = \"2020/03(E) (IFRS연결)\"\n",
    "print(분기[0:7])"
   ]
  },
  {
   "cell_type": "markdown",
   "id": "fd291c17",
   "metadata": {},
   "source": [
    "40. 문자열의 좌우의 공백이 있을 때 이를 제거해보세요.\n",
    "\n",
    "data = \"   삼성전자    \""
   ]
  },
  {
   "cell_type": "code",
   "execution_count": 37,
   "id": "cd408ac5",
   "metadata": {},
   "outputs": [
    {
     "name": "stdout",
     "output_type": "stream",
     "text": [
      "삼성전자\n"
     ]
    }
   ],
   "source": [
    "data = \" 삼성전자 \"\n",
    "data1 = data.strip()\n",
    "print(data1)"
   ]
  },
  {
   "cell_type": "markdown",
   "id": "39b0d768",
   "metadata": {},
   "source": [
    "41. 다음과 같은 문자열이 있을 때 이를 대문자 BTC_KRW로 변경하세요.\n",
    "\n",
    "ticker = \"btc_krw\""
   ]
  },
  {
   "cell_type": "code",
   "execution_count": 38,
   "id": "6737eadb",
   "metadata": {},
   "outputs": [
    {
     "name": "stdout",
     "output_type": "stream",
     "text": [
      "BTC_KRW\n"
     ]
    }
   ],
   "source": [
    "ticker = \"btc_krw\"\n",
    "ticker1 = ticker.upper()\n",
    "print(ticker1)"
   ]
  },
  {
   "cell_type": "markdown",
   "id": "a3a1b282",
   "metadata": {},
   "source": [
    "42. 다음과 같은 문자열이 있을 때 이를 소문자 btc_krw로 변경하세요.\n",
    "\n",
    "ticker = \"BTC_KRW\""
   ]
  },
  {
   "cell_type": "code",
   "execution_count": 39,
   "id": "154f57b5",
   "metadata": {},
   "outputs": [
    {
     "name": "stdout",
     "output_type": "stream",
     "text": [
      "btc_krw\n"
     ]
    }
   ],
   "source": [
    "ticker = \"BTC_KRW\"\n",
    "ticker2 = ticker.lower()\n",
    "print(ticker2)"
   ]
  },
  {
   "cell_type": "markdown",
   "id": "1a7f9256",
   "metadata": {},
   "source": [
    "43. 문자열 'hello'가 있을 때 이를 'Hello'로 변경해보세요."
   ]
  },
  {
   "cell_type": "code",
   "execution_count": 40,
   "id": "8ae4667a",
   "metadata": {},
   "outputs": [
    {
     "name": "stdout",
     "output_type": "stream",
     "text": [
      "Hello\n"
     ]
    }
   ],
   "source": [
    "a = 'hello'\n",
    "a1 = a.capitalize()\n",
    "print(a1)"
   ]
  },
  {
   "cell_type": "markdown",
   "id": "b6a56468",
   "metadata": {},
   "source": [
    "44. 파일 이름이 문자열로 저장되어 있을 때 endswith 메서드를 사용해서 파일 이름이 'xlsx'로 끝나는지 확인해보세요.\n",
    "\n",
    "file_name = \"보고서.xlsx\""
   ]
  },
  {
   "cell_type": "code",
   "execution_count": 44,
   "id": "32599696",
   "metadata": {},
   "outputs": [
    {
     "data": {
      "text/plain": [
       "True"
      ]
     },
     "execution_count": 44,
     "metadata": {},
     "output_type": "execute_result"
    }
   ],
   "source": [
    "file_name = \"보고서.xlsx\"\n",
    "file_name.endswith(\"xlsx\")"
   ]
  },
  {
   "cell_type": "markdown",
   "id": "1fb83dcd",
   "metadata": {},
   "source": [
    "45. 파일 이름이 문자열로 저장되어 있을 때 endswith 메서드를 사용해서 파일 이름이 'xlsx' 또는 'xls'로 끝나는지 확인해보세요.\n",
    "\n",
    "file_name = \"보고서.xlsx\""
   ]
  },
  {
   "cell_type": "code",
   "execution_count": 49,
   "id": "6716241a",
   "metadata": {},
   "outputs": [
    {
     "data": {
      "text/plain": [
       "True"
      ]
     },
     "execution_count": 49,
     "metadata": {},
     "output_type": "execute_result"
    }
   ],
   "source": [
    "file_name = \"보고서.xlsx\"\n",
    "file_name.endswith((\"xlsx\",\"xls\"))"
   ]
  },
  {
   "cell_type": "markdown",
   "id": "4d73ffb4",
   "metadata": {},
   "source": [
    "46. 파일 이름이 문자열로 저장되어 있을 때 startswith 메서드를 사용해서 파일 이름이 '2020'로 시작하는지 확인해보세요.\n",
    "\n",
    "file_name = \"2020_보고서.xlsx\""
   ]
  },
  {
   "cell_type": "code",
   "execution_count": 50,
   "id": "f115c959",
   "metadata": {},
   "outputs": [
    {
     "data": {
      "text/plain": [
       "True"
      ]
     },
     "execution_count": 50,
     "metadata": {},
     "output_type": "execute_result"
    }
   ],
   "source": [
    "file_name = \"2020_보고서.xlsx\"\n",
    "file_name.startswith(\"2020\")"
   ]
  },
  {
   "cell_type": "markdown",
   "id": "5b0de4ec",
   "metadata": {},
   "source": [
    "47. 다음과 같은 문자열이 있을 때 공백을 기준으로 문자열을 나눠보세요.\n",
    "\n",
    "a = \"hello world\""
   ]
  },
  {
   "cell_type": "code",
   "execution_count": 52,
   "id": "93bc61b6",
   "metadata": {},
   "outputs": [
    {
     "name": "stdout",
     "output_type": "stream",
     "text": [
      "['hello', 'world']\n"
     ]
    }
   ],
   "source": [
    "a = \"hello world\"\n",
    "print(a.split())"
   ]
  },
  {
   "cell_type": "markdown",
   "id": "73d93ee8",
   "metadata": {},
   "source": [
    "48. 다음과 같이 문자열이 있을 때 btc와 krw로 나눠보세요.\n",
    "\n",
    "ticker = \"btc_krw\""
   ]
  },
  {
   "cell_type": "code",
   "execution_count": 53,
   "id": "ac1e1245",
   "metadata": {},
   "outputs": [
    {
     "name": "stdout",
     "output_type": "stream",
     "text": [
      "['btc', 'krw']\n"
     ]
    }
   ],
   "source": [
    "ticker = \"btc_krw\"\n",
    "print(ticker.split(\"_\"))"
   ]
  },
  {
   "cell_type": "markdown",
   "id": "92eb127b",
   "metadata": {},
   "source": [
    "49. 다음과 같이 날짜를 표현하는 문자열이 있을 때 연도, 월, 일로 나눠보세요.\n",
    "\n",
    "date = \"2020-05-01\""
   ]
  },
  {
   "cell_type": "code",
   "execution_count": 55,
   "id": "50fac2a9",
   "metadata": {},
   "outputs": [
    {
     "name": "stdout",
     "output_type": "stream",
     "text": [
      "['2020', '05', '01']\n"
     ]
    }
   ],
   "source": [
    "date = \"2020-05-01\"\n",
    "print(date.split(\"-\"))"
   ]
  },
  {
   "cell_type": "markdown",
   "id": "a27eda81",
   "metadata": {},
   "source": [
    "50. 문자열의 오른쪽에 공백이 있을 때 이를 제거해보세요.\n",
    "\n",
    "data = \"039490     \""
   ]
  },
  {
   "cell_type": "code",
   "execution_count": 57,
   "id": "0afc1419",
   "metadata": {},
   "outputs": [
    {
     "name": "stdout",
     "output_type": "stream",
     "text": [
      "039490\n"
     ]
    }
   ],
   "source": [
    "data = \"039490     \"\n",
    "data = data.rstrip()\n",
    "print(data)"
   ]
  },
  {
   "cell_type": "code",
   "execution_count": null,
   "id": "b3cfee52",
   "metadata": {},
   "outputs": [],
   "source": []
  }
 ],
 "metadata": {
  "kernelspec": {
   "display_name": "Python 3 (ipykernel)",
   "language": "python",
   "name": "python3"
  },
  "language_info": {
   "codemirror_mode": {
    "name": "ipython",
    "version": 3
   },
   "file_extension": ".py",
   "mimetype": "text/x-python",
   "name": "python",
   "nbconvert_exporter": "python",
   "pygments_lexer": "ipython3",
   "version": "3.11.5"
  }
 },
 "nbformat": 4,
 "nbformat_minor": 5
}
