{
 "cells": [
  {
   "cell_type": "code",
   "execution_count": 1,
   "id": "a6293003",
   "metadata": {},
   "outputs": [],
   "source": [
    "a = 123\n",
    "a = -178\n",
    "a = 0"
   ]
  },
  {
   "cell_type": "code",
   "execution_count": 2,
   "id": "0b3f3d63",
   "metadata": {},
   "outputs": [],
   "source": [
    "a = 1.2\n",
    "a = -3.45"
   ]
  },
  {
   "cell_type": "code",
   "execution_count": 5,
   "id": "eb70d0db",
   "metadata": {},
   "outputs": [
    {
     "data": {
      "text/plain": [
       "4.24e-10"
      ]
     },
     "execution_count": 5,
     "metadata": {},
     "output_type": "execute_result"
    }
   ],
   "source": [
    "a = 4.24E10\n",
    "a = 4.24e-10\n",
    "a"
   ]
  },
  {
   "cell_type": "code",
   "execution_count": 4,
   "id": "d93a4c6c",
   "metadata": {},
   "outputs": [
    {
     "name": "stdout",
     "output_type": "stream",
     "text": [
      "127\n"
     ]
    }
   ],
   "source": [
    "a = 0o177\n",
    "print(a)"
   ]
  },
  {
   "cell_type": "code",
   "execution_count": 7,
   "id": "1f01c047",
   "metadata": {},
   "outputs": [
    {
     "data": {
      "text/plain": [
       "(2303, 2748)"
      ]
     },
     "execution_count": 7,
     "metadata": {},
     "output_type": "execute_result"
    }
   ],
   "source": [
    "a = 0x8ff\n",
    "b = 0xABC\n",
    "a, b"
   ]
  },
  {
   "cell_type": "markdown",
   "id": "b8d9f093",
   "metadata": {},
   "source": [
    "# 사칙연산"
   ]
  },
  {
   "cell_type": "code",
   "execution_count": 8,
   "id": "731f0cad",
   "metadata": {},
   "outputs": [
    {
     "data": {
      "text/plain": [
       "7"
      ]
     },
     "execution_count": 8,
     "metadata": {},
     "output_type": "execute_result"
    }
   ],
   "source": [
    "a = 3\n",
    "b = 4\n",
    "a + b"
   ]
  },
  {
   "cell_type": "code",
   "execution_count": 9,
   "id": "cd71e05a",
   "metadata": {},
   "outputs": [
    {
     "data": {
      "text/plain": [
       "-1"
      ]
     },
     "execution_count": 9,
     "metadata": {},
     "output_type": "execute_result"
    }
   ],
   "source": [
    "a-b"
   ]
  },
  {
   "cell_type": "code",
   "execution_count": 10,
   "id": "2c4ff99c",
   "metadata": {},
   "outputs": [
    {
     "data": {
      "text/plain": [
       "12"
      ]
     },
     "execution_count": 10,
     "metadata": {},
     "output_type": "execute_result"
    }
   ],
   "source": [
    "a*b"
   ]
  },
  {
   "cell_type": "code",
   "execution_count": 11,
   "id": "013f920d",
   "metadata": {},
   "outputs": [
    {
     "data": {
      "text/plain": [
       "0.75"
      ]
     },
     "execution_count": 11,
     "metadata": {},
     "output_type": "execute_result"
    }
   ],
   "source": [
    "a/b"
   ]
  },
  {
   "cell_type": "markdown",
   "id": "3987be78",
   "metadata": {},
   "source": [
    "##제곱 연산"
   ]
  },
  {
   "cell_type": "code",
   "execution_count": 12,
   "id": "50846846",
   "metadata": {},
   "outputs": [
    {
     "data": {
      "text/plain": [
       "81"
      ]
     },
     "execution_count": 12,
     "metadata": {},
     "output_type": "execute_result"
    }
   ],
   "source": [
    "a = 3\n",
    "b = 4\n",
    "a**b"
   ]
  },
  {
   "cell_type": "markdown",
   "id": "ec7f0e21",
   "metadata": {},
   "source": [
    "## 나눗셈 나머지 연산"
   ]
  },
  {
   "cell_type": "code",
   "execution_count": 13,
   "id": "57b066b3",
   "metadata": {},
   "outputs": [
    {
     "data": {
      "text/plain": [
       "1"
      ]
     },
     "execution_count": 13,
     "metadata": {},
     "output_type": "execute_result"
    }
   ],
   "source": [
    "7 % 3"
   ]
  },
  {
   "cell_type": "code",
   "execution_count": 14,
   "id": "fda958a0",
   "metadata": {},
   "outputs": [
    {
     "data": {
      "text/plain": [
       "3"
      ]
     },
     "execution_count": 14,
     "metadata": {},
     "output_type": "execute_result"
    }
   ],
   "source": [
    "3 % 7"
   ]
  },
  {
   "cell_type": "markdown",
   "id": "4beaf314",
   "metadata": {},
   "source": [
    "## 나눗셈 몫 연산"
   ]
  },
  {
   "cell_type": "code",
   "execution_count": 15,
   "id": "4fa9f22c",
   "metadata": {},
   "outputs": [
    {
     "data": {
      "text/plain": [
       "1.75"
      ]
     },
     "execution_count": 15,
     "metadata": {},
     "output_type": "execute_result"
    }
   ],
   "source": [
    "7 / 4"
   ]
  },
  {
   "cell_type": "code",
   "execution_count": 16,
   "id": "13c4fbc8",
   "metadata": {},
   "outputs": [
    {
     "data": {
      "text/plain": [
       "1"
      ]
     },
     "execution_count": 16,
     "metadata": {},
     "output_type": "execute_result"
    }
   ],
   "source": [
    "7 // 4"
   ]
  },
  {
   "cell_type": "markdown",
   "id": "12ef4c74",
   "metadata": {},
   "source": [
    "# 문자열 자료형"
   ]
  },
  {
   "cell_type": "code",
   "execution_count": 17,
   "id": "52f51bd5",
   "metadata": {},
   "outputs": [
    {
     "data": {
      "text/plain": [
       "'Hello World'"
      ]
     },
     "execution_count": 17,
     "metadata": {},
     "output_type": "execute_result"
    }
   ],
   "source": [
    "\"Hello World\""
   ]
  },
  {
   "cell_type": "code",
   "execution_count": 18,
   "id": "9004297d",
   "metadata": {},
   "outputs": [
    {
     "ename": "SyntaxError",
     "evalue": "invalid syntax (961555472.py, line 1)",
     "output_type": "error",
     "traceback": [
      "\u001b[1;36m  Cell \u001b[1;32mIn[18], line 1\u001b[1;36m\u001b[0m\n\u001b[1;33m    Hello World\u001b[0m\n\u001b[1;37m          ^\u001b[0m\n\u001b[1;31mSyntaxError\u001b[0m\u001b[1;31m:\u001b[0m invalid syntax\n"
     ]
    }
   ],
   "source": [
    "Hello World"
   ]
  },
  {
   "cell_type": "code",
   "execution_count": 19,
   "id": "0af5b5d3",
   "metadata": {},
   "outputs": [
    {
     "data": {
      "text/plain": [
       "'Hello World'"
      ]
     },
     "execution_count": 19,
     "metadata": {},
     "output_type": "execute_result"
    }
   ],
   "source": [
    "'Hello World'"
   ]
  },
  {
   "cell_type": "code",
   "execution_count": 20,
   "id": "c4d1edba",
   "metadata": {},
   "outputs": [
    {
     "data": {
      "text/plain": [
       "'Hello World'"
      ]
     },
     "execution_count": 20,
     "metadata": {},
     "output_type": "execute_result"
    }
   ],
   "source": [
    "\"\"\"Hello World\"\"\""
   ]
  },
  {
   "cell_type": "code",
   "execution_count": 21,
   "id": "ebf23a99",
   "metadata": {},
   "outputs": [
    {
     "data": {
      "text/plain": [
       "'Hello World'"
      ]
     },
     "execution_count": 21,
     "metadata": {},
     "output_type": "execute_result"
    }
   ],
   "source": [
    "'''Hello World'''"
   ]
  },
  {
   "cell_type": "markdown",
   "id": "fe8f70ea",
   "metadata": {},
   "source": [
    "## 문자열 안에 작은 따옴표나 큰 따옴표를 포함시키고 싶을 때"
   ]
  },
  {
   "cell_type": "code",
   "execution_count": 22,
   "id": "a1b774d0",
   "metadata": {},
   "outputs": [
    {
     "ename": "SyntaxError",
     "evalue": "unterminated string literal (detected at line 1) (2917458957.py, line 1)",
     "output_type": "error",
     "traceback": [
      "\u001b[1;36m  Cell \u001b[1;32mIn[22], line 1\u001b[1;36m\u001b[0m\n\u001b[1;33m    Python's favorite food is perl\u001b[0m\n\u001b[1;37m          ^\u001b[0m\n\u001b[1;31mSyntaxError\u001b[0m\u001b[1;31m:\u001b[0m unterminated string literal (detected at line 1)\n"
     ]
    }
   ],
   "source": [
    "Python's favorite food is perl"
   ]
  },
  {
   "cell_type": "code",
   "execution_count": 23,
   "id": "6bbee153",
   "metadata": {},
   "outputs": [
    {
     "ename": "SyntaxError",
     "evalue": "unterminated string literal (detected at line 1) (1974562179.py, line 1)",
     "output_type": "error",
     "traceback": [
      "\u001b[1;36m  Cell \u001b[1;32mIn[23], line 1\u001b[1;36m\u001b[0m\n\u001b[1;33m    'Python's favorite food is perl'\u001b[0m\n\u001b[1;37m                                   ^\u001b[0m\n\u001b[1;31mSyntaxError\u001b[0m\u001b[1;31m:\u001b[0m unterminated string literal (detected at line 1)\n"
     ]
    }
   ],
   "source": [
    "'Python's favorite food is perl'"
   ]
  },
  {
   "cell_type": "code",
   "execution_count": 24,
   "id": "08543264",
   "metadata": {},
   "outputs": [
    {
     "data": {
      "text/plain": [
       "\"Python's favorite food is perl\""
      ]
     },
     "execution_count": 24,
     "metadata": {},
     "output_type": "execute_result"
    }
   ],
   "source": [
    "\"Python's favorite food is perl\""
   ]
  },
  {
   "cell_type": "code",
   "execution_count": 25,
   "id": "3d08f286",
   "metadata": {},
   "outputs": [
    {
     "ename": "SyntaxError",
     "evalue": "invalid syntax (2498016959.py, line 1)",
     "output_type": "error",
     "traceback": [
      "\u001b[1;36m  Cell \u001b[1;32mIn[25], line 1\u001b[1;36m\u001b[0m\n\u001b[1;33m    \"Python is very easy.\" he says.\u001b[0m\n\u001b[1;37m                           ^\u001b[0m\n\u001b[1;31mSyntaxError\u001b[0m\u001b[1;31m:\u001b[0m invalid syntax\n"
     ]
    }
   ],
   "source": [
    "\"Python is very easy.\" he says."
   ]
  },
  {
   "cell_type": "code",
   "execution_count": 26,
   "id": "402420d0",
   "metadata": {},
   "outputs": [
    {
     "data": {
      "text/plain": [
       "'\"Python is very easy.\" he says.'"
      ]
     },
     "execution_count": 26,
     "metadata": {},
     "output_type": "execute_result"
    }
   ],
   "source": [
    "'\"Python is very easy.\" he says.'"
   ]
  },
  {
   "cell_type": "code",
   "execution_count": 27,
   "id": "14827563",
   "metadata": {},
   "outputs": [
    {
     "data": {
      "text/plain": [
       "\"Python's favorite food is perl.\""
      ]
     },
     "execution_count": 27,
     "metadata": {},
     "output_type": "execute_result"
    }
   ],
   "source": [
    "'Python\\'s favorite food is perl.'"
   ]
  },
  {
   "cell_type": "code",
   "execution_count": 28,
   "id": "72eba3a9",
   "metadata": {},
   "outputs": [
    {
     "data": {
      "text/plain": [
       "'\"Python is very easy.\" he says.'"
      ]
     },
     "execution_count": 28,
     "metadata": {},
     "output_type": "execute_result"
    }
   ],
   "source": [
    "\"\\\"Python is very easy.\\\" he says.\""
   ]
  },
  {
   "cell_type": "code",
   "execution_count": 29,
   "id": "b43f55a3",
   "metadata": {},
   "outputs": [
    {
     "data": {
      "text/plain": [
       "\"yulmoo's pqws have 2 colors\""
      ]
     },
     "execution_count": 29,
     "metadata": {},
     "output_type": "execute_result"
    }
   ],
   "source": [
    "\"yulmoo\\'s pqws have 2 colors\""
   ]
  },
  {
   "cell_type": "code",
   "execution_count": 2,
   "id": "a944d78f",
   "metadata": {},
   "outputs": [],
   "source": [
    "multiline = \"Life is too short \\n You need python\""
   ]
  },
  {
   "cell_type": "code",
   "execution_count": 3,
   "id": "8ea30fb4",
   "metadata": {},
   "outputs": [
    {
     "name": "stdout",
     "output_type": "stream",
     "text": [
      "Life is too short \n",
      " You need python\n"
     ]
    }
   ],
   "source": [
    "print(multiline)"
   ]
  },
  {
   "cell_type": "code",
   "execution_count": 4,
   "id": "56541af8",
   "metadata": {},
   "outputs": [],
   "source": [
    "multiline=\"\"\"\n",
    "Life is too short\n",
    "You need python\n",
    "\"\"\""
   ]
  },
  {
   "cell_type": "code",
   "execution_count": 5,
   "id": "9c2ca5eb",
   "metadata": {},
   "outputs": [
    {
     "data": {
      "text/plain": [
       "'\\nLife is too short\\nYou need python\\n'"
      ]
     },
     "execution_count": 5,
     "metadata": {},
     "output_type": "execute_result"
    }
   ],
   "source": [
    "multiline"
   ]
  },
  {
   "cell_type": "code",
   "execution_count": 6,
   "id": "76c9bf06",
   "metadata": {},
   "outputs": [
    {
     "name": "stdout",
     "output_type": "stream",
     "text": [
      "\n",
      "Life is too short\n",
      "You need python\n",
      "\n"
     ]
    }
   ],
   "source": [
    "print(multiline)"
   ]
  },
  {
   "cell_type": "markdown",
   "id": "80709370",
   "metadata": {},
   "source": [
    "## 문자열 연산하기"
   ]
  },
  {
   "cell_type": "code",
   "execution_count": 7,
   "id": "ca1529e8",
   "metadata": {},
   "outputs": [
    {
     "data": {
      "text/plain": [
       "'Python is fun'"
      ]
     },
     "execution_count": 7,
     "metadata": {},
     "output_type": "execute_result"
    }
   ],
   "source": [
    "head = \"Python\"\n",
    "tail = \" is fun\"\n",
    "head + tail"
   ]
  },
  {
   "cell_type": "code",
   "execution_count": 8,
   "id": "be8d1bbb",
   "metadata": {},
   "outputs": [
    {
     "data": {
      "text/plain": [
       "'pythonpythonpythonpythonpython'"
      ]
     },
     "execution_count": 8,
     "metadata": {},
     "output_type": "execute_result"
    }
   ],
   "source": [
    "a = 'python'\n",
    "a * 5"
   ]
  },
  {
   "cell_type": "code",
   "execution_count": 9,
   "id": "868b0747",
   "metadata": {},
   "outputs": [
    {
     "name": "stdout",
     "output_type": "stream",
     "text": [
      "==================================================\n"
     ]
    }
   ],
   "source": [
    "print('='*50)"
   ]
  },
  {
   "cell_type": "code",
   "execution_count": 10,
   "id": "a5287f90",
   "metadata": {},
   "outputs": [
    {
     "data": {
      "text/plain": [
       "17"
      ]
     },
     "execution_count": 10,
     "metadata": {},
     "output_type": "execute_result"
    }
   ],
   "source": [
    "a = \"Life is too short\"\n",
    "len(a)"
   ]
  },
  {
   "cell_type": "markdown",
   "id": "5f4fd21e",
   "metadata": {},
   "source": [
    "## 문자열 인덱싱"
   ]
  },
  {
   "cell_type": "code",
   "execution_count": 11,
   "id": "0869152c",
   "metadata": {},
   "outputs": [],
   "source": [
    "a = \"Life is too short, You need Python\""
   ]
  },
  {
   "cell_type": "code",
   "execution_count": 12,
   "id": "b8ef8b61",
   "metadata": {},
   "outputs": [
    {
     "data": {
      "text/plain": [
       "'e'"
      ]
     },
     "execution_count": 12,
     "metadata": {},
     "output_type": "execute_result"
    }
   ],
   "source": [
    "a[3]"
   ]
  },
  {
   "cell_type": "code",
   "execution_count": 13,
   "id": "eada2e52",
   "metadata": {},
   "outputs": [
    {
     "data": {
      "text/plain": [
       "'s'"
      ]
     },
     "execution_count": 13,
     "metadata": {},
     "output_type": "execute_result"
    }
   ],
   "source": [
    "a[12]"
   ]
  },
  {
   "cell_type": "code",
   "execution_count": 14,
   "id": "85c14107",
   "metadata": {},
   "outputs": [
    {
     "data": {
      "text/plain": [
       "'n'"
      ]
     },
     "execution_count": 14,
     "metadata": {},
     "output_type": "execute_result"
    }
   ],
   "source": [
    "a[-1]"
   ]
  },
  {
   "cell_type": "code",
   "execution_count": 15,
   "id": "e300ea3b",
   "metadata": {},
   "outputs": [
    {
     "data": {
      "text/plain": [
       "' '"
      ]
     },
     "execution_count": 15,
     "metadata": {},
     "output_type": "execute_result"
    }
   ],
   "source": [
    "a[-7]"
   ]
  },
  {
   "cell_type": "markdown",
   "id": "5cf848b6",
   "metadata": {},
   "source": [
    "## 문자열 슬라이싱"
   ]
  },
  {
   "cell_type": "code",
   "execution_count": 16,
   "id": "c810050c",
   "metadata": {},
   "outputs": [
    {
     "data": {
      "text/plain": [
       "'Life'"
      ]
     },
     "execution_count": 16,
     "metadata": {},
     "output_type": "execute_result"
    }
   ],
   "source": [
    "a = \"Life is too short, You need Python\"\n",
    "a[0] +a[1]+a[2]+a[3]"
   ]
  },
  {
   "cell_type": "code",
   "execution_count": 17,
   "id": "1edaa360",
   "metadata": {},
   "outputs": [
    {
     "data": {
      "text/plain": [
       "'Lif'"
      ]
     },
     "execution_count": 17,
     "metadata": {},
     "output_type": "execute_result"
    }
   ],
   "source": [
    "a[0:3]"
   ]
  },
  {
   "cell_type": "code",
   "execution_count": 18,
   "id": "b2106ac3",
   "metadata": {},
   "outputs": [
    {
     "data": {
      "text/plain": [
       "'Life'"
      ]
     },
     "execution_count": 18,
     "metadata": {},
     "output_type": "execute_result"
    }
   ],
   "source": [
    "a[0:4]"
   ]
  },
  {
   "cell_type": "code",
   "execution_count": 21,
   "id": "e23b50a9",
   "metadata": {},
   "outputs": [
    {
     "data": {
      "text/plain": [
       "'too short'"
      ]
     },
     "execution_count": 21,
     "metadata": {},
     "output_type": "execute_result"
    }
   ],
   "source": [
    "a[8:17]"
   ]
  },
  {
   "cell_type": "code",
   "execution_count": 23,
   "id": "c6bd7309",
   "metadata": {},
   "outputs": [
    {
     "data": {
      "text/plain": [
       "False"
      ]
     },
     "execution_count": 23,
     "metadata": {},
     "output_type": "execute_result"
    }
   ],
   "source": [
    "a[0:4] == a[0:5]"
   ]
  },
  {
   "cell_type": "code",
   "execution_count": 24,
   "id": "19aeb7fc",
   "metadata": {},
   "outputs": [
    {
     "data": {
      "text/plain": [
       "'You need Python'"
      ]
     },
     "execution_count": 24,
     "metadata": {},
     "output_type": "execute_result"
    }
   ],
   "source": [
    "a[19: ]"
   ]
  },
  {
   "cell_type": "code",
   "execution_count": 25,
   "id": "9e6320d4",
   "metadata": {},
   "outputs": [
    {
     "data": {
      "text/plain": [
       "'Life is too short'"
      ]
     },
     "execution_count": 25,
     "metadata": {},
     "output_type": "execute_result"
    }
   ],
   "source": [
    "a[:17]"
   ]
  },
  {
   "cell_type": "code",
   "execution_count": 26,
   "id": "187ca9b4",
   "metadata": {},
   "outputs": [
    {
     "data": {
      "text/plain": [
       "'Life is too short, You need Python'"
      ]
     },
     "execution_count": 26,
     "metadata": {},
     "output_type": "execute_result"
    }
   ],
   "source": [
    "a[:]"
   ]
  },
  {
   "cell_type": "code",
   "execution_count": 28,
   "id": "c4fa8152",
   "metadata": {},
   "outputs": [
    {
     "data": {
      "text/plain": [
       "'You need'"
      ]
     },
     "execution_count": 28,
     "metadata": {},
     "output_type": "execute_result"
    }
   ],
   "source": [
    "a[19:-7]"
   ]
  },
  {
   "cell_type": "markdown",
   "id": "a5ebdd82",
   "metadata": {},
   "source": [
    "## 슬라이싱으로 문자열 나누기"
   ]
  },
  {
   "cell_type": "code",
   "execution_count": 30,
   "id": "d6185045",
   "metadata": {},
   "outputs": [
    {
     "data": {
      "text/plain": [
       "('20240228', 'Sunny')"
      ]
     },
     "execution_count": 30,
     "metadata": {},
     "output_type": "execute_result"
    }
   ],
   "source": [
    "a = \"20240228Sunny\"\n",
    "date = a[:8]\n",
    "weather = a[8:]\n",
    "date, weather"
   ]
  },
  {
   "cell_type": "code",
   "execution_count": 31,
   "id": "0b6df9c6",
   "metadata": {},
   "outputs": [
    {
     "data": {
      "text/plain": [
       "('2024', '0228', 'Sunny')"
      ]
     },
     "execution_count": 31,
     "metadata": {},
     "output_type": "execute_result"
    }
   ],
   "source": [
    "a = \"20240228Sunny\"\n",
    "year = a[:4]\n",
    "day = a[4:8]\n",
    "weather = a[8:]\n",
    "year, day, weather"
   ]
  },
  {
   "cell_type": "code",
   "execution_count": 33,
   "id": "c28e55a4",
   "metadata": {},
   "outputs": [
    {
     "ename": "TypeError",
     "evalue": "'str' object does not support item assignment",
     "output_type": "error",
     "traceback": [
      "\u001b[1;31m---------------------------------------------------------------------------\u001b[0m",
      "\u001b[1;31mTypeError\u001b[0m                                 Traceback (most recent call last)",
      "Cell \u001b[1;32mIn[33], line 3\u001b[0m\n\u001b[0;32m      1\u001b[0m \u001b[38;5;66;03m# 문자열 수정하기\u001b[39;00m\n\u001b[0;32m      2\u001b[0m a \u001b[38;5;241m=\u001b[39m \u001b[38;5;124m'\u001b[39m\u001b[38;5;124mPithon\u001b[39m\u001b[38;5;124m'\u001b[39m\n\u001b[1;32m----> 3\u001b[0m a[\u001b[38;5;241m1\u001b[39m] \u001b[38;5;241m=\u001b[39m \u001b[38;5;124m'\u001b[39m\u001b[38;5;124my\u001b[39m\u001b[38;5;124m'\u001b[39m\n\u001b[0;32m      4\u001b[0m a\n",
      "\u001b[1;31mTypeError\u001b[0m: 'str' object does not support item assignment"
     ]
    }
   ],
   "source": [
    "# 문자열 수정하기\n",
    "a = 'Pithon'\n",
    "a[1] = 'y'\n",
    "a"
   ]
  },
  {
   "cell_type": "code",
   "execution_count": 35,
   "id": "ea102792",
   "metadata": {},
   "outputs": [
    {
     "data": {
      "text/plain": [
       "'Python'"
      ]
     },
     "execution_count": 35,
     "metadata": {},
     "output_type": "execute_result"
    }
   ],
   "source": [
    "a = 'Pithon'\n",
    "b = a[:1] + 'y' + a[2:]\n",
    "b"
   ]
  },
  {
   "cell_type": "markdown",
   "id": "c5de793d",
   "metadata": {},
   "source": [
    "## 문자열 포매팅"
   ]
  },
  {
   "cell_type": "code",
   "execution_count": 36,
   "id": "dda04949",
   "metadata": {},
   "outputs": [
    {
     "data": {
      "text/plain": [
       "'I eat 3 apples'"
      ]
     },
     "execution_count": 36,
     "metadata": {},
     "output_type": "execute_result"
    }
   ],
   "source": [
    "# 숫자 바로 대입\n",
    "\"I eat %d apples\"%3"
   ]
  },
  {
   "cell_type": "code",
   "execution_count": 37,
   "id": "02d3601f",
   "metadata": {},
   "outputs": [
    {
     "data": {
      "text/plain": [
       "'I eat five apples'"
      ]
     },
     "execution_count": 37,
     "metadata": {},
     "output_type": "execute_result"
    }
   ],
   "source": [
    "# 문자열 바로 대입\n",
    "\"I eat %s apples\"%\"five\""
   ]
  },
  {
   "cell_type": "code",
   "execution_count": 38,
   "id": "890f0034",
   "metadata": {},
   "outputs": [
    {
     "data": {
      "text/plain": [
       "'I eat 5 apples'"
      ]
     },
     "execution_count": 38,
     "metadata": {},
     "output_type": "execute_result"
    }
   ],
   "source": [
    "\"I eat %s apples\"%\"5\""
   ]
  },
  {
   "cell_type": "code",
   "execution_count": 39,
   "id": "f200eec9",
   "metadata": {},
   "outputs": [
    {
     "ename": "TypeError",
     "evalue": "%d format: a real number is required, not str",
     "output_type": "error",
     "traceback": [
      "\u001b[1;31m---------------------------------------------------------------------------\u001b[0m",
      "\u001b[1;31mTypeError\u001b[0m                                 Traceback (most recent call last)",
      "Cell \u001b[1;32mIn[39], line 1\u001b[0m\n\u001b[1;32m----> 1\u001b[0m \u001b[38;5;124m\"\u001b[39m\u001b[38;5;124mI eat \u001b[39m\u001b[38;5;132;01m%d\u001b[39;00m\u001b[38;5;124m apples\u001b[39m\u001b[38;5;124m\"\u001b[39m\u001b[38;5;241m%\u001b[39m\u001b[38;5;124m\"\u001b[39m\u001b[38;5;124m삼\u001b[39m\u001b[38;5;124m\"\u001b[39m\n",
      "\u001b[1;31mTypeError\u001b[0m: %d format: a real number is required, not str"
     ]
    }
   ],
   "source": [
    "\"I eat %d apples\"%\"삼\""
   ]
  },
  {
   "cell_type": "code",
   "execution_count": 40,
   "id": "a4514c42",
   "metadata": {},
   "outputs": [
    {
     "data": {
      "text/plain": [
       "'I eat 3 apples'"
      ]
     },
     "execution_count": 40,
     "metadata": {},
     "output_type": "execute_result"
    }
   ],
   "source": [
    "# 숫자 값을 나타내는 변수로 대입\n",
    "number = 3\n",
    "\"I eat %d apples\"%number"
   ]
  },
  {
   "cell_type": "code",
   "execution_count": 42,
   "id": "9af83752",
   "metadata": {},
   "outputs": [
    {
     "data": {
      "text/plain": [
       "'I ate 10 apples. so I was sick for three days.'"
      ]
     },
     "execution_count": 42,
     "metadata": {},
     "output_type": "execute_result"
    }
   ],
   "source": [
    "# 2개 이상의 값 넣기\n",
    "number = 10\n",
    "day = \"three\"\n",
    "\"I ate %d apples. so I was sick for %s days.\"%(number, day)"
   ]
  },
  {
   "cell_type": "code",
   "execution_count": 43,
   "id": "6a81936c",
   "metadata": {},
   "outputs": [
    {
     "ename": "TypeError",
     "evalue": "%d format: a real number is required, not str",
     "output_type": "error",
     "traceback": [
      "\u001b[1;31m---------------------------------------------------------------------------\u001b[0m",
      "\u001b[1;31mTypeError\u001b[0m                                 Traceback (most recent call last)",
      "Cell \u001b[1;32mIn[43], line 1\u001b[0m\n\u001b[1;32m----> 1\u001b[0m \u001b[38;5;124m\"\u001b[39m\u001b[38;5;124mI ate \u001b[39m\u001b[38;5;132;01m%d\u001b[39;00m\u001b[38;5;124m apples. so I was sick for \u001b[39m\u001b[38;5;132;01m%s\u001b[39;00m\u001b[38;5;124m days.\u001b[39m\u001b[38;5;124m\"\u001b[39m\u001b[38;5;241m%\u001b[39m(day, number)\n",
      "\u001b[1;31mTypeError\u001b[0m: %d format: a real number is required, not str"
     ]
    }
   ],
   "source": [
    "\"I ate %d apples. so I was sick for %s days.\"%(day, number)"
   ]
  },
  {
   "cell_type": "code",
   "execution_count": 44,
   "id": "58f960b7",
   "metadata": {},
   "outputs": [
    {
     "data": {
      "text/plain": [
       "'I eat 3 apples'"
      ]
     },
     "execution_count": 44,
     "metadata": {},
     "output_type": "execute_result"
    }
   ],
   "source": [
    "\"I eat %s apples\"%3"
   ]
  },
  {
   "cell_type": "code",
   "execution_count": 45,
   "id": "42e29018",
   "metadata": {},
   "outputs": [
    {
     "ename": "TypeError",
     "evalue": "not enough arguments for format string",
     "output_type": "error",
     "traceback": [
      "\u001b[1;31m---------------------------------------------------------------------------\u001b[0m",
      "\u001b[1;31mTypeError\u001b[0m                                 Traceback (most recent call last)",
      "Cell \u001b[1;32mIn[45], line 1\u001b[0m\n\u001b[1;32m----> 1\u001b[0m \u001b[38;5;124m\"\u001b[39m\u001b[38;5;124m오늘의 습도는 \u001b[39m\u001b[38;5;132;01m%d\u001b[39;00m\u001b[38;5;124m%\u001b[39m\u001b[38;5;124m 입니다.\u001b[39m\u001b[38;5;124m\"\u001b[39m\u001b[38;5;241m%\u001b[39m\u001b[38;5;241m70\u001b[39m\n",
      "\u001b[1;31mTypeError\u001b[0m: not enough arguments for format string"
     ]
    }
   ],
   "source": [
    "\"오늘의 습도는 %d% 입니다.\"%70"
   ]
  },
  {
   "cell_type": "code",
   "execution_count": 46,
   "id": "80267b5e",
   "metadata": {},
   "outputs": [
    {
     "data": {
      "text/plain": [
       "'오늘의 습도는 70% 입니다.'"
      ]
     },
     "execution_count": 46,
     "metadata": {},
     "output_type": "execute_result"
    }
   ],
   "source": [
    "\"오늘의 습도는 %d%% 입니다.\"%70"
   ]
  },
  {
   "cell_type": "markdown",
   "id": "659b4b14",
   "metadata": {},
   "source": [
    "## 포맷 코드와 숫자 함께 사용하기"
   ]
  },
  {
   "cell_type": "code",
   "execution_count": 48,
   "id": "5d21839a",
   "metadata": {},
   "outputs": [
    {
     "data": {
      "text/plain": [
       "'        hi'"
      ]
     },
     "execution_count": 48,
     "metadata": {},
     "output_type": "execute_result"
    }
   ],
   "source": [
    "# 정렬과 공백\n",
    "\"%10s\" % \"hi\""
   ]
  },
  {
   "cell_type": "code",
   "execution_count": 49,
   "id": "00c01bfb",
   "metadata": {},
   "outputs": [
    {
     "data": {
      "text/plain": [
       "'hi        jane.'"
      ]
     },
     "execution_count": 49,
     "metadata": {},
     "output_type": "execute_result"
    }
   ],
   "source": [
    "\"%-10sjane.\" % \"hi\""
   ]
  },
  {
   "cell_type": "markdown",
   "id": "26495afa",
   "metadata": {},
   "source": [
    "## 소수점 표현하기(많이 사용)"
   ]
  },
  {
   "cell_type": "code",
   "execution_count": 50,
   "id": "e822f3b4",
   "metadata": {},
   "outputs": [
    {
     "data": {
      "text/plain": [
       "'3.4213'"
      ]
     },
     "execution_count": 50,
     "metadata": {},
     "output_type": "execute_result"
    }
   ],
   "source": [
    "\"%0.4f\" % 3.42134234"
   ]
  },
  {
   "cell_type": "code",
   "execution_count": 51,
   "id": "bd701fd2",
   "metadata": {},
   "outputs": [
    {
     "data": {
      "text/plain": [
       "'    3.4213'"
      ]
     },
     "execution_count": 51,
     "metadata": {},
     "output_type": "execute_result"
    }
   ],
   "source": [
    "\"%10.4f\" % 3.42134234"
   ]
  },
  {
   "cell_type": "markdown",
   "id": "ea50ccdf",
   "metadata": {},
   "source": [
    "## format 함수를 사용한 포매팅"
   ]
  },
  {
   "cell_type": "code",
   "execution_count": 52,
   "id": "8336a521",
   "metadata": {},
   "outputs": [
    {
     "data": {
      "text/plain": [
       "'I eat 3 apples'"
      ]
     },
     "execution_count": 52,
     "metadata": {},
     "output_type": "execute_result"
    }
   ],
   "source": [
    "\"I eat {0} apples\".format(3)"
   ]
  },
  {
   "cell_type": "code",
   "execution_count": 54,
   "id": "67500c6a",
   "metadata": {},
   "outputs": [
    {
     "data": {
      "text/plain": [
       "'I eat five apples'"
      ]
     },
     "execution_count": 54,
     "metadata": {},
     "output_type": "execute_result"
    }
   ],
   "source": [
    "\"I eat {} apples\".format('five')"
   ]
  },
  {
   "cell_type": "code",
   "execution_count": 55,
   "id": "0879ed9c",
   "metadata": {},
   "outputs": [
    {
     "data": {
      "text/plain": [
       "'I eat 10 apples'"
      ]
     },
     "execution_count": 55,
     "metadata": {},
     "output_type": "execute_result"
    }
   ],
   "source": [
    "nuber = 10\n",
    "\"I eat {} apples\".format(number)"
   ]
  },
  {
   "cell_type": "code",
   "execution_count": 57,
   "id": "e32a8fd9",
   "metadata": {},
   "outputs": [
    {
     "data": {
      "text/plain": [
       "'I ate 10 apples. so I was sick for three days.'"
      ]
     },
     "execution_count": 57,
     "metadata": {},
     "output_type": "execute_result"
    }
   ],
   "source": [
    "number = 10\n",
    "day = \"three\"\n",
    "\"I ate {} apples. so I was sick for {} days.\".format(number, day)"
   ]
  },
  {
   "cell_type": "code",
   "execution_count": 58,
   "id": "57117d56",
   "metadata": {},
   "outputs": [
    {
     "data": {
      "text/plain": [
       "'I ate three apples. so I was sick for 10 days.'"
      ]
     },
     "execution_count": 58,
     "metadata": {},
     "output_type": "execute_result"
    }
   ],
   "source": [
    "\"I ate {} apples. so I was sick for {} days.\".format(day, number)"
   ]
  },
  {
   "cell_type": "code",
   "execution_count": 59,
   "id": "747d58b1",
   "metadata": {},
   "outputs": [
    {
     "data": {
      "text/plain": [
       "'I ate 10 apples. so I was sick for 3 days.'"
      ]
     },
     "execution_count": 59,
     "metadata": {},
     "output_type": "execute_result"
    }
   ],
   "source": [
    "\"I ate {number} apples. so I was sick for {day} days.\".format(number=10, day=3)"
   ]
  },
  {
   "cell_type": "code",
   "execution_count": 60,
   "id": "c60c41f5",
   "metadata": {},
   "outputs": [
    {
     "ename": "KeyError",
     "evalue": "'number'",
     "output_type": "error",
     "traceback": [
      "\u001b[1;31m---------------------------------------------------------------------------\u001b[0m",
      "\u001b[1;31mKeyError\u001b[0m                                  Traceback (most recent call last)",
      "Cell \u001b[1;32mIn[60], line 1\u001b[0m\n\u001b[1;32m----> 1\u001b[0m \u001b[38;5;124m\"\u001b[39m\u001b[38;5;124mI ate \u001b[39m\u001b[38;5;132;01m{number}\u001b[39;00m\u001b[38;5;124m apples. so I was sick for \u001b[39m\u001b[38;5;132;01m{day}\u001b[39;00m\u001b[38;5;124m days.\u001b[39m\u001b[38;5;124m\"\u001b[39m\u001b[38;5;241m.\u001b[39mformat(\u001b[38;5;241m10\u001b[39m, \u001b[38;5;241m3\u001b[39m)\n",
      "\u001b[1;31mKeyError\u001b[0m: 'number'"
     ]
    }
   ],
   "source": [
    "\"I ate {number} apples. so I was sick for {day} days.\".format(10, 3)"
   ]
  },
  {
   "cell_type": "code",
   "execution_count": 61,
   "id": "92025d07",
   "metadata": {},
   "outputs": [
    {
     "data": {
      "text/plain": [
       "'I ate 10 apples. so I was sick for 3 days.'"
      ]
     },
     "execution_count": 61,
     "metadata": {},
     "output_type": "execute_result"
    }
   ],
   "source": [
    "\"I ate {number} apples. so I was sick for {day} days.\".format(day=3, number=10)"
   ]
  },
  {
   "cell_type": "code",
   "execution_count": 62,
   "id": "57bbed78",
   "metadata": {},
   "outputs": [
    {
     "data": {
      "text/plain": [
       "'hi        '"
      ]
     },
     "execution_count": 62,
     "metadata": {},
     "output_type": "execute_result"
    }
   ],
   "source": [
    "\"{0:<10}\".format(\"hi\")"
   ]
  },
  {
   "cell_type": "code",
   "execution_count": 63,
   "id": "23226c69",
   "metadata": {},
   "outputs": [
    {
     "data": {
      "text/plain": [
       "'        hi'"
      ]
     },
     "execution_count": 63,
     "metadata": {},
     "output_type": "execute_result"
    }
   ],
   "source": [
    "\"{0:>10}\".format(\"hi\")"
   ]
  },
  {
   "cell_type": "markdown",
   "id": "0718c8d9",
   "metadata": {},
   "source": [
    "## 소수점 표현하기"
   ]
  },
  {
   "cell_type": "code",
   "execution_count": 64,
   "id": "e74b4b7e",
   "metadata": {},
   "outputs": [
    {
     "data": {
      "text/plain": [
       "'3.4123'"
      ]
     },
     "execution_count": 64,
     "metadata": {},
     "output_type": "execute_result"
    }
   ],
   "source": [
    "y = 3.41234234\n",
    "\"{0:0.4f}\".format(y)"
   ]
  },
  {
   "cell_type": "markdown",
   "id": "9761a43a",
   "metadata": {},
   "source": [
    "## f문자열 포매팅(강추)"
   ]
  },
  {
   "cell_type": "code",
   "execution_count": 66,
   "id": "269229cc",
   "metadata": {},
   "outputs": [
    {
     "data": {
      "text/plain": [
       "'나의 이름은 홍길동입니다. 나이는 30입니다.'"
      ]
     },
     "execution_count": 66,
     "metadata": {},
     "output_type": "execute_result"
    }
   ],
   "source": [
    "name = '홍길동'\n",
    "age = 30\n",
    "\n",
    "f'나의 이름은 {name}입니다. 나이는 {age}입니다.'"
   ]
  },
  {
   "cell_type": "code",
   "execution_count": 67,
   "id": "fcd29ae8",
   "metadata": {},
   "outputs": [
    {
     "data": {
      "text/plain": [
       "'나는 내년이면 31살이 된다.'"
      ]
     },
     "execution_count": 67,
     "metadata": {},
     "output_type": "execute_result"
    }
   ],
   "source": [
    "age = 30\n",
    "f'나는 내년이면 {age+1}살이 된다.'"
   ]
  },
  {
   "cell_type": "code",
   "execution_count": 68,
   "id": "133d79fa",
   "metadata": {},
   "outputs": [
    {
     "data": {
      "text/plain": [
       "'나의 이름은 홍길동입니다. 나이는 30입니다.'"
      ]
     },
     "execution_count": 68,
     "metadata": {},
     "output_type": "execute_result"
    }
   ],
   "source": [
    "d = {'name':'홍길동', 'age':30}\n",
    "\n",
    "f'나의 이름은 {d[\"name\"]}입니다. 나이는 {d[\"age\"]}입니다.'"
   ]
  },
  {
   "cell_type": "markdown",
   "id": "29fdefdf",
   "metadata": {},
   "source": [
    "## 문자열 관련 함수들"
   ]
  },
  {
   "cell_type": "code",
   "execution_count": 69,
   "id": "c6d95944",
   "metadata": {},
   "outputs": [
    {
     "data": {
      "text/plain": [
       "2"
      ]
     },
     "execution_count": 69,
     "metadata": {},
     "output_type": "execute_result"
    }
   ],
   "source": [
    "# 문자 개수 세기 count\n",
    "a = \"hobby\"\n",
    "a.count('b')"
   ]
  },
  {
   "cell_type": "code",
   "execution_count": 70,
   "id": "fad168c7",
   "metadata": {},
   "outputs": [
    {
     "data": {
      "text/plain": [
       "14"
      ]
     },
     "execution_count": 70,
     "metadata": {},
     "output_type": "execute_result"
    }
   ],
   "source": [
    "#위치 알려주기 find\n",
    "a = \"Python is the best choice\"\n",
    "a.find('b')"
   ]
  },
  {
   "cell_type": "code",
   "execution_count": 71,
   "id": "1d81b515",
   "metadata": {},
   "outputs": [
    {
     "data": {
      "text/plain": [
       "-1"
      ]
     },
     "execution_count": 71,
     "metadata": {},
     "output_type": "execute_result"
    }
   ],
   "source": [
    "a.find('k')"
   ]
  },
  {
   "cell_type": "code",
   "execution_count": 72,
   "id": "bace639a",
   "metadata": {},
   "outputs": [
    {
     "data": {
      "text/plain": [
       "8"
      ]
     },
     "execution_count": 72,
     "metadata": {},
     "output_type": "execute_result"
    }
   ],
   "source": [
    "# 위치 알려주기 index\n",
    "a = \"Life is too short\"\n",
    "a.index('t')"
   ]
  },
  {
   "cell_type": "code",
   "execution_count": 73,
   "id": "c74a7147",
   "metadata": {},
   "outputs": [
    {
     "ename": "ValueError",
     "evalue": "substring not found",
     "output_type": "error",
     "traceback": [
      "\u001b[1;31m---------------------------------------------------------------------------\u001b[0m",
      "\u001b[1;31mValueError\u001b[0m                                Traceback (most recent call last)",
      "Cell \u001b[1;32mIn[73], line 1\u001b[0m\n\u001b[1;32m----> 1\u001b[0m a\u001b[38;5;241m.\u001b[39mindex(\u001b[38;5;124m'\u001b[39m\u001b[38;5;124mk\u001b[39m\u001b[38;5;124m'\u001b[39m)\n",
      "\u001b[1;31mValueError\u001b[0m: substring not found"
     ]
    }
   ],
   "source": [
    "a.index('k')"
   ]
  },
  {
   "cell_type": "code",
   "execution_count": 75,
   "id": "e3078278",
   "metadata": {},
   "outputs": [
    {
     "data": {
      "text/plain": [
       "'a,b,c,d'"
      ]
     },
     "execution_count": 75,
     "metadata": {},
     "output_type": "execute_result"
    }
   ],
   "source": [
    "# 문자열 삽입 join\n",
    "a = 'abcd'\n",
    "\",\".join(a)"
   ]
  },
  {
   "cell_type": "code",
   "execution_count": 76,
   "id": "678fe8b8",
   "metadata": {},
   "outputs": [
    {
     "data": {
      "text/plain": [
       "['a', 'b', 'c', 'd']"
      ]
     },
     "execution_count": 76,
     "metadata": {},
     "output_type": "execute_result"
    }
   ],
   "source": [
    "a = ['a', 'b', 'c', 'd']\n",
    "a"
   ]
  },
  {
   "cell_type": "code",
   "execution_count": 77,
   "id": "6dd2e464",
   "metadata": {},
   "outputs": [
    {
     "data": {
      "text/plain": [
       "'a,b,c,d'"
      ]
     },
     "execution_count": 77,
     "metadata": {},
     "output_type": "execute_result"
    }
   ],
   "source": [
    "\",\".join(a)"
   ]
  },
  {
   "cell_type": "code",
   "execution_count": null,
   "id": "aa26bf78",
   "metadata": {},
   "outputs": [],
   "source": [
    "# 소문자를 대문자로 바꾸기 upper"
   ]
  },
  {
   "cell_type": "code",
   "execution_count": 78,
   "id": "4ee064b5",
   "metadata": {},
   "outputs": [
    {
     "data": {
      "text/plain": [
       "'HI'"
      ]
     },
     "execution_count": 78,
     "metadata": {},
     "output_type": "execute_result"
    }
   ],
   "source": [
    "a = 'hi'\n",
    "a.upper()"
   ]
  },
  {
   "cell_type": "code",
   "execution_count": 79,
   "id": "7b075121",
   "metadata": {},
   "outputs": [],
   "source": [
    "print?"
   ]
  },
  {
   "cell_type": "code",
   "execution_count": 80,
   "id": "c7205b77",
   "metadata": {},
   "outputs": [
    {
     "name": "stdout",
     "output_type": "stream",
     "text": [
      "Help on built-in function print in module builtins:\n",
      "\n",
      "print(*args, sep=' ', end='\\n', file=None, flush=False)\n",
      "    Prints the values to a stream, or to sys.stdout by default.\n",
      "    \n",
      "    sep\n",
      "      string inserted between values, default a space.\n",
      "    end\n",
      "      string appended after the last value, default a newline.\n",
      "    file\n",
      "      a file-like object (stream); defaults to the current sys.stdout.\n",
      "    flush\n",
      "      whether to forcibly flush the stream.\n",
      "\n"
     ]
    }
   ],
   "source": [
    "help(print)"
   ]
  },
  {
   "cell_type": "code",
   "execution_count": 81,
   "id": "71be409a",
   "metadata": {},
   "outputs": [
    {
     "data": {
      "text/plain": [
       "'hi'"
      ]
     },
     "execution_count": 81,
     "metadata": {},
     "output_type": "execute_result"
    }
   ],
   "source": [
    "#소문자 바꾸기\n",
    "a = 'HI'\n",
    "a.lower()"
   ]
  },
  {
   "cell_type": "code",
   "execution_count": 82,
   "id": "3ed22d94",
   "metadata": {},
   "outputs": [
    {
     "data": {
      "text/plain": [
       "'hi '"
      ]
     },
     "execution_count": 82,
     "metadata": {},
     "output_type": "execute_result"
    }
   ],
   "source": [
    "# 왼쪽 공백 지우기 Lstrip\n",
    "a = \" hi \"\n",
    "a.lstrip()"
   ]
  },
  {
   "cell_type": "code",
   "execution_count": 83,
   "id": "4619bfc2",
   "metadata": {},
   "outputs": [
    {
     "data": {
      "text/plain": [
       "' hi'"
      ]
     },
     "execution_count": 83,
     "metadata": {},
     "output_type": "execute_result"
    }
   ],
   "source": [
    "a.rstrip()"
   ]
  },
  {
   "cell_type": "code",
   "execution_count": 84,
   "id": "d7d183cd",
   "metadata": {},
   "outputs": [
    {
     "data": {
      "text/plain": [
       "'hi'"
      ]
     },
     "execution_count": 84,
     "metadata": {},
     "output_type": "execute_result"
    }
   ],
   "source": [
    "a.strip()"
   ]
  },
  {
   "cell_type": "code",
   "execution_count": 85,
   "id": "32b5d02a",
   "metadata": {},
   "outputs": [],
   "source": [
    "#문자열 바꾸기 replace"
   ]
  },
  {
   "cell_type": "code",
   "execution_count": 86,
   "id": "c6a40cda",
   "metadata": {},
   "outputs": [
    {
     "data": {
      "text/plain": [
       "'Your leg is too short'"
      ]
     },
     "execution_count": 86,
     "metadata": {},
     "output_type": "execute_result"
    }
   ],
   "source": [
    "a = \"Life is too short\"\n",
    "a.replace('Life','Your leg')"
   ]
  },
  {
   "cell_type": "code",
   "execution_count": 87,
   "id": "aeff4eba",
   "metadata": {},
   "outputs": [
    {
     "data": {
      "text/plain": [
       "'Life is too short'"
      ]
     },
     "execution_count": 87,
     "metadata": {},
     "output_type": "execute_result"
    }
   ],
   "source": [
    "a"
   ]
  },
  {
   "cell_type": "code",
   "execution_count": 88,
   "id": "2d778db1",
   "metadata": {},
   "outputs": [],
   "source": [
    "#문자열 나누기 split"
   ]
  },
  {
   "cell_type": "code",
   "execution_count": 2,
   "id": "12dae056",
   "metadata": {},
   "outputs": [
    {
     "data": {
      "text/plain": [
       "['Life', 'is', 'too', 'short']"
      ]
     },
     "execution_count": 2,
     "metadata": {},
     "output_type": "execute_result"
    }
   ],
   "source": [
    "a = 'Life is too short'\n",
    "a.split()"
   ]
  },
  {
   "cell_type": "code",
   "execution_count": 3,
   "id": "3d5e85ec",
   "metadata": {},
   "outputs": [],
   "source": [
    "a.split?"
   ]
  },
  {
   "cell_type": "code",
   "execution_count": 91,
   "id": "32bf60d5",
   "metadata": {},
   "outputs": [
    {
     "data": {
      "text/plain": [
       "['a', 'b', 'c', 'd']"
      ]
     },
     "execution_count": 91,
     "metadata": {},
     "output_type": "execute_result"
    }
   ],
   "source": [
    "b = \"a:b:c:d\"\n",
    "b.split(':')"
   ]
  },
  {
   "cell_type": "markdown",
   "id": "b725a7c6",
   "metadata": {},
   "source": [
    "## 변수"
   ]
  },
  {
   "cell_type": "code",
   "execution_count": 92,
   "id": "6b710428",
   "metadata": {},
   "outputs": [
    {
     "data": {
      "text/plain": [
       "(1, int)"
      ]
     },
     "execution_count": 92,
     "metadata": {},
     "output_type": "execute_result"
    }
   ],
   "source": [
    "a = 1\n",
    "a, type(a)"
   ]
  },
  {
   "cell_type": "code",
   "execution_count": 93,
   "id": "eb8dfcf3",
   "metadata": {},
   "outputs": [
    {
     "data": {
      "text/plain": [
       "('python', str)"
      ]
     },
     "execution_count": 93,
     "metadata": {},
     "output_type": "execute_result"
    }
   ],
   "source": [
    "b = 'python'\n",
    "b, type(b)"
   ]
  },
  {
   "cell_type": "code",
   "execution_count": 94,
   "id": "6ee09bcb",
   "metadata": {},
   "outputs": [
    {
     "data": {
      "text/plain": [
       "([1, 2, 3], list)"
      ]
     },
     "execution_count": 94,
     "metadata": {},
     "output_type": "execute_result"
    }
   ],
   "source": [
    "c = [1, 2, 3]\n",
    "c, type(c)"
   ]
  },
  {
   "cell_type": "code",
   "execution_count": 95,
   "id": "0e06f763",
   "metadata": {},
   "outputs": [
    {
     "data": {
      "text/plain": [
       "140734767534888"
      ]
     },
     "execution_count": 95,
     "metadata": {},
     "output_type": "execute_result"
    }
   ],
   "source": [
    "id(a)"
   ]
  },
  {
   "cell_type": "code",
   "execution_count": 106,
   "id": "4726d650",
   "metadata": {},
   "outputs": [],
   "source": [
    "# 문자열을 복사\n",
    "a = [1, 2, 3]\n",
    "b = a"
   ]
  },
  {
   "cell_type": "code",
   "execution_count": 100,
   "id": "48e0b0cd",
   "metadata": {},
   "outputs": [
    {
     "data": {
      "text/plain": [
       "(2810102265472, 2810102265472)"
      ]
     },
     "execution_count": 100,
     "metadata": {},
     "output_type": "execute_result"
    }
   ],
   "source": [
    "id(a), id(b)"
   ]
  },
  {
   "cell_type": "code",
   "execution_count": 98,
   "id": "e9f87a86",
   "metadata": {},
   "outputs": [
    {
     "data": {
      "text/plain": [
       "True"
      ]
     },
     "execution_count": 98,
     "metadata": {},
     "output_type": "execute_result"
    }
   ],
   "source": [
    "a is b"
   ]
  },
  {
   "cell_type": "code",
   "execution_count": 101,
   "id": "cfa09f6f",
   "metadata": {},
   "outputs": [],
   "source": [
    "del b"
   ]
  },
  {
   "cell_type": "code",
   "execution_count": 102,
   "id": "4d652955",
   "metadata": {},
   "outputs": [
    {
     "data": {
      "text/plain": [
       "[1, 2, 3]"
      ]
     },
     "execution_count": 102,
     "metadata": {},
     "output_type": "execute_result"
    }
   ],
   "source": [
    "a"
   ]
  },
  {
   "cell_type": "code",
   "execution_count": 103,
   "id": "a5817540",
   "metadata": {},
   "outputs": [
    {
     "ename": "NameError",
     "evalue": "name 'b' is not defined",
     "output_type": "error",
     "traceback": [
      "\u001b[1;31m---------------------------------------------------------------------------\u001b[0m",
      "\u001b[1;31mNameError\u001b[0m                                 Traceback (most recent call last)",
      "Cell \u001b[1;32mIn[103], line 1\u001b[0m\n\u001b[1;32m----> 1\u001b[0m b\n",
      "\u001b[1;31mNameError\u001b[0m: name 'b' is not defined"
     ]
    }
   ],
   "source": [
    "b"
   ]
  },
  {
   "cell_type": "code",
   "execution_count": 107,
   "id": "0eec25d5",
   "metadata": {},
   "outputs": [],
   "source": [
    "a = [1, 2, 3]\n",
    "b = a"
   ]
  },
  {
   "cell_type": "code",
   "execution_count": 108,
   "id": "aa9dda97",
   "metadata": {},
   "outputs": [
    {
     "data": {
      "text/plain": [
       "(2810089509312, 2810089509312)"
      ]
     },
     "execution_count": 108,
     "metadata": {},
     "output_type": "execute_result"
    }
   ],
   "source": [
    "id(a), id(b)"
   ]
  },
  {
   "cell_type": "code",
   "execution_count": 110,
   "id": "a8a0c067",
   "metadata": {},
   "outputs": [],
   "source": [
    "a[1] = 4"
   ]
  },
  {
   "cell_type": "code",
   "execution_count": 111,
   "id": "ea6e122a",
   "metadata": {},
   "outputs": [
    {
     "data": {
      "text/plain": [
       "[1, 4, 3]"
      ]
     },
     "execution_count": 111,
     "metadata": {},
     "output_type": "execute_result"
    }
   ],
   "source": [
    "a"
   ]
  },
  {
   "cell_type": "code",
   "execution_count": 112,
   "id": "8a62f346",
   "metadata": {},
   "outputs": [
    {
     "data": {
      "text/plain": [
       "[1, 4, 3]"
      ]
     },
     "execution_count": 112,
     "metadata": {},
     "output_type": "execute_result"
    }
   ],
   "source": [
    "b"
   ]
  },
  {
   "cell_type": "code",
   "execution_count": 113,
   "id": "c879df7c",
   "metadata": {},
   "outputs": [],
   "source": [
    "num1 = 10"
   ]
  },
  {
   "cell_type": "code",
   "execution_count": 115,
   "id": "8c563340",
   "metadata": {},
   "outputs": [
    {
     "data": {
      "text/plain": [
       "(10, 10)"
      ]
     },
     "execution_count": 115,
     "metadata": {},
     "output_type": "execute_result"
    }
   ],
   "source": [
    "num2 = num1\n",
    "num1, num2"
   ]
  },
  {
   "cell_type": "code",
   "execution_count": 116,
   "id": "74342baa",
   "metadata": {},
   "outputs": [
    {
     "data": {
      "text/plain": [
       "(11, 10)"
      ]
     },
     "execution_count": 116,
     "metadata": {},
     "output_type": "execute_result"
    }
   ],
   "source": [
    "num1 = 11\n",
    "num1, num2"
   ]
  },
  {
   "cell_type": "code",
   "execution_count": 117,
   "id": "c9f20608",
   "metadata": {},
   "outputs": [
    {
     "data": {
      "text/plain": [
       "(2810104150272, 2810102265536)"
      ]
     },
     "execution_count": 117,
     "metadata": {},
     "output_type": "execute_result"
    }
   ],
   "source": [
    "a = [1,2.3]\n",
    "b = a[:]\n",
    "id(a), id(b)"
   ]
  },
  {
   "cell_type": "code",
   "execution_count": 118,
   "id": "88c4b5ad",
   "metadata": {},
   "outputs": [
    {
     "data": {
      "text/plain": [
       "(2810089753792, 2810103588992)"
      ]
     },
     "execution_count": 118,
     "metadata": {},
     "output_type": "execute_result"
    }
   ],
   "source": [
    "c = [1,2.3]\n",
    "d = [1,2.3]\n",
    "id(c), id(d)"
   ]
  },
  {
   "cell_type": "markdown",
   "id": "b14e1fcc",
   "metadata": {},
   "source": [
    "## copy"
   ]
  },
  {
   "cell_type": "code",
   "execution_count": 119,
   "id": "9b5f46b8",
   "metadata": {},
   "outputs": [
    {
     "data": {
      "text/plain": [
       "[1, 2, 3]"
      ]
     },
     "execution_count": 119,
     "metadata": {},
     "output_type": "execute_result"
    }
   ],
   "source": [
    "from copy import copy\n",
    "a = [1, 2, 3]\n",
    "a"
   ]
  },
  {
   "cell_type": "code",
   "execution_count": 120,
   "id": "78bb7829",
   "metadata": {},
   "outputs": [
    {
     "data": {
      "text/plain": [
       "(2810102355904, 2810076111872)"
      ]
     },
     "execution_count": 120,
     "metadata": {},
     "output_type": "execute_result"
    }
   ],
   "source": [
    "b = copy(a)\n",
    "id(a), id(b)"
   ]
  },
  {
   "cell_type": "code",
   "execution_count": 121,
   "id": "ac369190",
   "metadata": {},
   "outputs": [
    {
     "data": {
      "text/plain": [
       "False"
      ]
     },
     "execution_count": 121,
     "metadata": {},
     "output_type": "execute_result"
    }
   ],
   "source": [
    "b is a"
   ]
  },
  {
   "cell_type": "markdown",
   "id": "1aabd31f",
   "metadata": {},
   "source": [
    "## 변수를 만드는 다양한 방법"
   ]
  },
  {
   "cell_type": "code",
   "execution_count": 122,
   "id": "c01bd7f6",
   "metadata": {},
   "outputs": [],
   "source": [
    "a, b =('python', 'life')"
   ]
  },
  {
   "cell_type": "code",
   "execution_count": 123,
   "id": "3949828b",
   "metadata": {},
   "outputs": [
    {
     "data": {
      "text/plain": [
       "'python'"
      ]
     },
     "execution_count": 123,
     "metadata": {},
     "output_type": "execute_result"
    }
   ],
   "source": [
    "a"
   ]
  },
  {
   "cell_type": "code",
   "execution_count": 124,
   "id": "74e1aff3",
   "metadata": {},
   "outputs": [
    {
     "data": {
      "text/plain": [
       "'life'"
      ]
     },
     "execution_count": 124,
     "metadata": {},
     "output_type": "execute_result"
    }
   ],
   "source": [
    "b"
   ]
  },
  {
   "cell_type": "code",
   "execution_count": 125,
   "id": "3e9f9072",
   "metadata": {},
   "outputs": [],
   "source": [
    "(a, b) = 'python', 'life'"
   ]
  },
  {
   "cell_type": "code",
   "execution_count": 126,
   "id": "ce05cc20",
   "metadata": {},
   "outputs": [],
   "source": [
    "[a, b] = 'python', 'life'"
   ]
  },
  {
   "cell_type": "code",
   "execution_count": 127,
   "id": "30a714ff",
   "metadata": {},
   "outputs": [
    {
     "data": {
      "text/plain": [
       "('python', 'life')"
      ]
     },
     "execution_count": 127,
     "metadata": {},
     "output_type": "execute_result"
    }
   ],
   "source": [
    "a, b"
   ]
  },
  {
   "cell_type": "code",
   "execution_count": 128,
   "id": "416f37a9",
   "metadata": {},
   "outputs": [],
   "source": [
    "a = 3\n",
    "b = 5"
   ]
  },
  {
   "cell_type": "code",
   "execution_count": 129,
   "id": "6bf64520",
   "metadata": {},
   "outputs": [],
   "source": [
    "a, b = b, a"
   ]
  },
  {
   "cell_type": "code",
   "execution_count": 130,
   "id": "fb1e19ca",
   "metadata": {},
   "outputs": [
    {
     "data": {
      "text/plain": [
       "(5, 3)"
      ]
     },
     "execution_count": 130,
     "metadata": {},
     "output_type": "execute_result"
    }
   ],
   "source": [
    "a, b"
   ]
  },
  {
   "cell_type": "code",
   "execution_count": null,
   "id": "4024aed6",
   "metadata": {},
   "outputs": [],
   "source": []
  }
 ],
 "metadata": {
  "kernelspec": {
   "display_name": "Python 3 (ipykernel)",
   "language": "python",
   "name": "python3"
  },
  "language_info": {
   "codemirror_mode": {
    "name": "ipython",
    "version": 3
   },
   "file_extension": ".py",
   "mimetype": "text/x-python",
   "name": "python",
   "nbconvert_exporter": "python",
   "pygments_lexer": "ipython3",
   "version": "3.11.5"
  }
 },
 "nbformat": 4,
 "nbformat_minor": 5
}
