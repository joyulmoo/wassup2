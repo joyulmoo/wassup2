{
 "cells": [
  {
   "cell_type": "markdown",
   "id": "f1fdca32",
   "metadata": {},
   "source": [
    "# Q1. 다음은 Calculator 클래스이다.\n",
    "```python\n",
    "class Calculator:\n",
    "    def __init__(self):\n",
    "        self.value = 0\n",
    "    def add(self, val):\n",
    "        self.value += val\n",
    "```\n",
    "위 클래스를 상속하는 UpgradeCalculator를 만들고 값을 뺄 수 잇는 minus 메서드를 추가해보자.   \n",
    "즉 다음과 같이 동작하는 클래스를 만들어야 한다.\n",
    "```python\n",
    "cal = UpgradeCalculator()\n",
    "cal.add(10)\n",
    "cal.minus(7)\n",
    "print(cal.calue) # 10에서 7을 뺀 3을 출력\n",
    "```"
   ]
  },
  {
   "cell_type": "code",
   "execution_count": 2,
   "id": "f3345c8c",
   "metadata": {},
   "outputs": [
    {
     "name": "stdout",
     "output_type": "stream",
     "text": [
      "3\n"
     ]
    }
   ],
   "source": [
    "class Calculator:\n",
    "    def __init__(self):\n",
    "        self.value = 0\n",
    "    def add(self, val):\n",
    "        self.value += val\n",
    "\n",
    "class UpgradeCalculator(Calculator):\n",
    "    def minus(self, val):\n",
    "        self.value -= val\n",
    "\n",
    "cal = UpgradeCalculator()\n",
    "cal.add(10)\n",
    "cal.minus(7)\n",
    "print(cal.value)"
   ]
  },
  {
   "cell_type": "markdown",
   "id": "75806738",
   "metadata": {},
   "source": [
    "# Q2. 객체 변수 value가 100 이상의 값은 가질 수 없도록 제한하는 MaxLimitCalculator 클래스를 만들어 보자. 즉 다음과 같이 동작해야 한다.\n",
    "```python\n",
    "cal = MaxLimitCalculator()\n",
    "cal.add(50) # 50 더하기\n",
    "cal.add(60) # 60 더하기\n",
    "\n",
    "print(cal.value) # 100 출력\n",
    "```\n",
    "\n",
    "단 반드시 다음과 같은 calculator 클래스를 상속해서 만들어야 한다.\n",
    "```python\n",
    "class Calculator:\n",
    "    def __init__(self):\n",
    "        self.value = 0\n",
    "    def add(self, val):\n",
    "        self.value += val\n",
    "```"
   ]
  },
  {
   "cell_type": "code",
   "execution_count": 8,
   "id": "d5bc73e1",
   "metadata": {},
   "outputs": [
    {
     "name": "stdout",
     "output_type": "stream",
     "text": [
      "100\n"
     ]
    }
   ],
   "source": [
    "class MaxLimitCalculator(Calculator):\n",
    "    def add(self, val):\n",
    "        self.value += val\n",
    "        if self.value > 100:\n",
    "            self.value = 100\n",
    "            \n",
    "cal = MaxLimitCalculator()\n",
    "cal.add(50) \n",
    "cal.add(60)\n",
    "\n",
    "print(cal.value)"
   ]
  },
  {
   "cell_type": "markdown",
   "id": "7286e434",
   "metadata": {},
   "source": [
    "# Q3. 다음 결과를 예측해 보자.\n",
    "```python\n",
    "# 1.\n",
    ">>> all({1, 2, abs(-3)-3})\n",
    "\n",
    "# 2.\n",
    ">>> chr(ord('a')) == 'a'\n",
    "```"
   ]
  },
  {
   "cell_type": "code",
   "execution_count": 9,
   "id": "b686ab29",
   "metadata": {},
   "outputs": [],
   "source": [
    "#1 False\n",
    "#2 True"
   ]
  },
  {
   "cell_type": "markdown",
   "id": "ff058604",
   "metadata": {},
   "source": [
    "# Q4. filter와 lambda를 사용하여 리스트 [1, -2, 3, -5, 8, -3]에서 음수를 모두 제거해 보자."
   ]
  },
  {
   "cell_type": "code",
   "execution_count": 10,
   "id": "4da2f202",
   "metadata": {},
   "outputs": [
    {
     "data": {
      "text/plain": [
       "[1, 3, 8]"
      ]
     },
     "execution_count": 10,
     "metadata": {},
     "output_type": "execute_result"
    }
   ],
   "source": [
    "list(filter(lambda x: x > 0,[1, -2, 3, -5, 8, -3] ))"
   ]
  },
  {
   "cell_type": "markdown",
   "id": "3810c0b8",
   "metadata": {},
   "source": [
    "# Q5. 234라는 10진수의 16진수는 다음과 같이 구할 수 있다.\n",
    "```python\n",
    ">>> hex(234)\n",
    "'0xea'\n",
    "```\n",
    "이번에는 반대로 16진수 문자열 0xea를 10진수로 변경해 보자."
   ]
  },
  {
   "cell_type": "code",
   "execution_count": 12,
   "id": "c94be636",
   "metadata": {},
   "outputs": [
    {
     "data": {
      "text/plain": [
       "234"
      ]
     },
     "execution_count": 12,
     "metadata": {},
     "output_type": "execute_result"
    }
   ],
   "source": [
    "int('0xea',16)"
   ]
  },
  {
   "cell_type": "markdown",
   "id": "6c563fc7",
   "metadata": {},
   "source": [
    "# Q6. map과 lambda를 사용하여 [1, 2, 3, 4] 리스트의 각 요솟값에 3이 곱해진 리스트 [3, 6, 9, 12]를 만들어 보자."
   ]
  },
  {
   "cell_type": "code",
   "execution_count": 13,
   "id": "f303e800",
   "metadata": {},
   "outputs": [
    {
     "data": {
      "text/plain": [
       "[2, 4, 6, 8]"
      ]
     },
     "execution_count": 13,
     "metadata": {},
     "output_type": "execute_result"
    }
   ],
   "source": [
    "list(map(lambda a: a*2,[1, 2, 3, 4]))"
   ]
  },
  {
   "cell_type": "markdown",
   "id": "5abd78a0",
   "metadata": {},
   "source": [
    "# Q7. 다음 리스트의 최댓값과 최솟값의 합을 구해 보자.\n",
    "[-8, 2, 7, 5, -3, 5, 0, 1]"
   ]
  },
  {
   "cell_type": "code",
   "execution_count": 15,
   "id": "4527968b",
   "metadata": {},
   "outputs": [
    {
     "name": "stdout",
     "output_type": "stream",
     "text": [
      "7\n",
      "-8\n"
     ]
    }
   ],
   "source": [
    "print(max([-8, 2, 7, 5, -3, 5, 0, 1]))\n",
    "print(min([-8, 2, 7, 5, -3, 5, 0, 1]))"
   ]
  },
  {
   "cell_type": "markdown",
   "id": "b64ed240",
   "metadata": {},
   "source": [
    "# Q8. 17 / 3의 결과는 다음과 같다.\n",
    "```python\n",
    ">>> 17 / 3\n",
    "5.666666666667\n",
    "```\n",
    "위와 같은 결괏값 5.6666666666667을 소숫점 4자리까지만 반올림하여 표시해 보자."
   ]
  },
  {
   "cell_type": "code",
   "execution_count": 16,
   "id": "730d116a",
   "metadata": {},
   "outputs": [
    {
     "name": "stdout",
     "output_type": "stream",
     "text": [
      "5.6667\n"
     ]
    }
   ],
   "source": [
    "print(round(17/3,4))"
   ]
  },
  {
   "cell_type": "markdown",
   "id": "6ae88f19",
   "metadata": {},
   "source": [
    "# Q9. 다음과 같이 실행할 때 입력값을 모두 더하여 출력하는 스크립트(C:\\doit\\myargv.py)를 작성해 보자.\n",
    "```\n",
    "C:\\> cd doit\n",
    "C:\\dodit> python myargv.py 1 2 3 4 5 6 7 8 9 10\n",
    "```"
   ]
  },
  {
   "cell_type": "code",
   "execution_count": null,
   "id": "93068ed8",
   "metadata": {},
   "outputs": [],
   "source": [
    "import sys\n",
    "args = sys.argv[1:]\n",
    "number = 0\n",
    "for i in args:\n",
    "    number += int(i)\n",
    "print(number)"
   ]
  },
  {
   "cell_type": "markdown",
   "id": "ac41096a",
   "metadata": {},
   "source": [
    "# Q10. OS 모듈을 사용하여 다음과 같이 동작하도록 코드를 작성해 보자.\n",
    "1. C:\\doit 디렉터리로 이동한다.\n",
    "2. dir 명령을 실행하고 그 결과를 변수에 담는다.\n",
    "3. dir 명령의 결과를 출력한다."
   ]
  },
  {
   "cell_type": "code",
   "execution_count": 25,
   "id": "6cef3623",
   "metadata": {},
   "outputs": [
    {
     "name": "stdout",
     "output_type": "stream",
     "text": [
      " C 드라이브의 볼륨: OS\n",
      " 볼륨 일련 번호: 12F7-4F5E\n",
      "\n",
      " C:\\workspace\\WASSUP2\\python 디렉터리\n",
      "\n",
      "2024-03-12  오후 09:31    <DIR>          .\n",
      "2024-03-05  오후 01:47    <DIR>          ..\n",
      "2024-03-12  오후 08:49    <DIR>          .ipynb_checkpoints\n",
      "2024-02-27  오후 07:51            24,464 00_마크다운.ipynb\n",
      "2024-03-04  오후 12:27            99,191 01 자료형과 변수.ipynb\n",
      "2024-03-04  오후 09:11            10,179 01_자료형&변수_연습문제_실습용.ipynb\n",
      "2024-03-06  오전 10:14            27,988 02_제어문.ipynb\n",
      "2024-03-06  오후 10:00             7,998 02_제어문_연습문제_실습용.ipynb\n",
      "2024-03-06  오후 10:01             5,725 03_코딩연습_전화번호프로그램_실습용.ipynb\n",
      "2024-03-07  오전 11:37            27,393 04_파이썬 입출력.ipynb\n",
      "2024-03-08  오전 12:00             9,171 04_함수&입출력_연습문제_실습용.ipynb\n",
      "2024-03-12  오전 08:56             9,725 04_함수&입출력_연습문제_정답.ipynb\n",
      "2024-03-12  오후 09:31            10,362 05_클래스&내장함수_연습문제_실습용.ipynb\n",
      "2024-03-12  오전 08:56            18,904 05_클래스&내장함수_연습문제_정답.ipynb\n",
      "2024-03-12  오전 10:03            34,415 05_클래스와예외처리.ipynb\n",
      "2024-03-12  오후 12:52            33,091 06_내장함수와라이브러리.ipynb\n",
      "2024-03-08  오전 12:00                34 test.txt\n",
      "2024-03-05  오후 10:47            36,166 wikidocs 101~150.ipynb\n",
      "2024-03-06  오후 09:48            25,654 wikidocs 151~200.ipynb\n",
      "2024-03-08  오전 10:22            13,890 wikidocs 201~240.ipynb\n",
      "2024-03-12  오전 12:00            29,526 wikidocs 251~290.ipynb\n",
      "2024-03-12  오후 08:44             5,839 wikidocs 291~300.ipynb\n",
      "2024-03-04  오후 08:21            36,685 wikidocs 51~100.ipynb\n",
      "2020-05-24  오후 09:56         9,503,214 yulmoo.JPG\n",
      "              21개 파일           9,969,614 바이트\n",
      "               3개 디렉터리  160,346,251,264 바이트 남음\n",
      "\n"
     ]
    }
   ],
   "source": [
    "import os\n",
    "os.system(\"dir\")\n",
    "f = os.popen('dir')\n",
    "print(f.read())"
   ]
  },
  {
   "cell_type": "markdown",
   "id": "e1df445d",
   "metadata": {},
   "source": [
    "# Q11. glob 모듈을 사용하여 C:\\doit 디렉터리의 파일 중 확장자가 .ipynb인 파일만 출력하는 프로그램을 작성해 보자."
   ]
  },
  {
   "cell_type": "code",
   "execution_count": 26,
   "id": "b69ab522",
   "metadata": {},
   "outputs": [
    {
     "data": {
      "text/plain": [
       "['C:\\\\workspace\\\\WASSUP2\\\\python\\\\00_마크다운.ipynb',\n",
       " 'C:\\\\workspace\\\\WASSUP2\\\\python\\\\01 자료형과 변수.ipynb',\n",
       " 'C:\\\\workspace\\\\WASSUP2\\\\python\\\\01_자료형&변수_연습문제_실습용.ipynb',\n",
       " 'C:\\\\workspace\\\\WASSUP2\\\\python\\\\02_제어문.ipynb',\n",
       " 'C:\\\\workspace\\\\WASSUP2\\\\python\\\\02_제어문_연습문제_실습용.ipynb',\n",
       " 'C:\\\\workspace\\\\WASSUP2\\\\python\\\\03_코딩연습_전화번호프로그램_실습용.ipynb',\n",
       " 'C:\\\\workspace\\\\WASSUP2\\\\python\\\\04_파이썬 입출력.ipynb',\n",
       " 'C:\\\\workspace\\\\WASSUP2\\\\python\\\\04_함수&입출력_연습문제_실습용.ipynb',\n",
       " 'C:\\\\workspace\\\\WASSUP2\\\\python\\\\04_함수&입출력_연습문제_정답.ipynb',\n",
       " 'C:\\\\workspace\\\\WASSUP2\\\\python\\\\05_클래스&내장함수_연습문제_실습용.ipynb',\n",
       " 'C:\\\\workspace\\\\WASSUP2\\\\python\\\\05_클래스&내장함수_연습문제_정답.ipynb',\n",
       " 'C:\\\\workspace\\\\WASSUP2\\\\python\\\\05_클래스와예외처리.ipynb',\n",
       " 'C:\\\\workspace\\\\WASSUP2\\\\python\\\\06_내장함수와라이브러리.ipynb',\n",
       " 'C:\\\\workspace\\\\WASSUP2\\\\python\\\\wikidocs 101~150.ipynb',\n",
       " 'C:\\\\workspace\\\\WASSUP2\\\\python\\\\wikidocs 151~200.ipynb',\n",
       " 'C:\\\\workspace\\\\WASSUP2\\\\python\\\\wikidocs 201~240.ipynb',\n",
       " 'C:\\\\workspace\\\\WASSUP2\\\\python\\\\wikidocs 251~290.ipynb',\n",
       " 'C:\\\\workspace\\\\WASSUP2\\\\python\\\\wikidocs 291~300.ipynb',\n",
       " 'C:\\\\workspace\\\\WASSUP2\\\\python\\\\wikidocs 51~100.ipynb']"
      ]
     },
     "execution_count": 26,
     "metadata": {},
     "output_type": "execute_result"
    }
   ],
   "source": [
    "import glob\n",
    "glob.glob(\"C:\\workspace\\WASSUP2\\python\\*.ipynb\")"
   ]
  },
  {
   "cell_type": "markdown",
   "id": "d7b91fea",
   "metadata": {},
   "source": [
    "# Q12. time 모듈을 사용하여 현재 날짜와 시간을 다음과 같은 형식으로 출력해 보자.\n",
    "2018/04/03 17:20:32"
   ]
  },
  {
   "cell_type": "code",
   "execution_count": 23,
   "id": "e2a5f482",
   "metadata": {},
   "outputs": [
    {
     "data": {
      "text/plain": [
       "'2024/03/12 21:23:46'"
      ]
     },
     "execution_count": 23,
     "metadata": {},
     "output_type": "execute_result"
    }
   ],
   "source": [
    "import time\n",
    "time.strftime('%Y/%m/%d %X',time.localtime(time.time()))"
   ]
  },
  {
   "cell_type": "markdown",
   "id": "393cd834",
   "metadata": {},
   "source": [
    "# Q13. random 모듈을 사용하여 로또 번호 (1~45 사이의 숫자 6개)를 생성해보자(단 중복된 숫자가 있으면 안됨)."
   ]
  },
  {
   "cell_type": "code",
   "execution_count": 28,
   "id": "c4b093dc",
   "metadata": {},
   "outputs": [
    {
     "name": "stdout",
     "output_type": "stream",
     "text": [
      "[5, 45, 39, 33, 10, 19]\n"
     ]
    }
   ],
   "source": [
    "import random\n",
    "lotto = []\n",
    "for i in range(6):\n",
    "    a = random.randint(1, 45)\n",
    "    if a not in lotto:\n",
    "        lotto.append(a)\n",
    "print(lotto)"
   ]
  },
  {
   "cell_type": "markdown",
   "id": "ee89ff74",
   "metadata": {},
   "source": [
    "\"성공은 매일 반복한 작은 노력들의 합이다.\"\n",
    "- 로버트 콜리어"
   ]
  }
 ],
 "metadata": {
  "kernelspec": {
   "display_name": "Python 3 (ipykernel)",
   "language": "python",
   "name": "python3"
  },
  "language_info": {
   "codemirror_mode": {
    "name": "ipython",
    "version": 3
   },
   "file_extension": ".py",
   "mimetype": "text/x-python",
   "name": "python",
   "nbconvert_exporter": "python",
   "pygments_lexer": "ipython3",
   "version": "3.11.5"
  },
  "toc": {
   "base_numbering": 1,
   "nav_menu": {},
   "number_sections": true,
   "sideBar": true,
   "skip_h1_title": false,
   "title_cell": "Table of Contents",
   "title_sidebar": "Contents",
   "toc_cell": false,
   "toc_position": {},
   "toc_section_display": true,
   "toc_window_display": false
  },
  "varInspector": {
   "cols": {
    "lenName": 16,
    "lenType": 16,
    "lenVar": 40
   },
   "kernels_config": {
    "python": {
     "delete_cmd_postfix": "",
     "delete_cmd_prefix": "del ",
     "library": "var_list.py",
     "varRefreshCmd": "print(var_dic_list())"
    },
    "r": {
     "delete_cmd_postfix": ") ",
     "delete_cmd_prefix": "rm(",
     "library": "var_list.r",
     "varRefreshCmd": "cat(var_dic_list()) "
    }
   },
   "types_to_exclude": [
    "module",
    "function",
    "builtin_function_or_method",
    "instance",
    "_Feature"
   ],
   "window_display": false
  }
 },
 "nbformat": 4,
 "nbformat_minor": 5
}
